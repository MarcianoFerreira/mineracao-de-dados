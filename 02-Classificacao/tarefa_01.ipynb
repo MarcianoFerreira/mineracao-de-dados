{
 "cells": [
  {
   "cell_type": "markdown",
   "id": "da418c0e",
   "metadata": {
    "heading_collapsed": true,
    "id": "da418c0e"
   },
   "source": [
    "# 0. Importando as Bibliotecas e o DataFrame"
   ]
  },
  {
   "cell_type": "code",
   "execution_count": null,
   "id": "WRiYHGQ-ac9c",
   "metadata": {
    "colab": {
     "base_uri": "https://localhost:8080/"
    },
    "hidden": true,
    "id": "WRiYHGQ-ac9c",
    "outputId": "aa325b72-7929-4026-e12d-a63a0aca0d0d"
   },
   "outputs": [
    {
     "name": "stdout",
     "output_type": "stream",
     "text": [
      "Collecting catboost\n",
      "  Downloading catboost-1.2.5-cp310-cp310-manylinux2014_x86_64.whl.metadata (1.2 kB)\n",
      "Requirement already satisfied: graphviz in /usr/local/lib/python3.10/dist-packages (from catboost) (0.20.3)\n",
      "Requirement already satisfied: matplotlib in /usr/local/lib/python3.10/dist-packages (from catboost) (3.7.1)\n",
      "Requirement already satisfied: numpy>=1.16.0 in /usr/local/lib/python3.10/dist-packages (from catboost) (1.25.2)\n",
      "Requirement already satisfied: pandas>=0.24 in /usr/local/lib/python3.10/dist-packages (from catboost) (2.0.3)\n",
      "Requirement already satisfied: scipy in /usr/local/lib/python3.10/dist-packages (from catboost) (1.13.1)\n",
      "Requirement already satisfied: plotly in /usr/local/lib/python3.10/dist-packages (from catboost) (5.15.0)\n",
      "Requirement already satisfied: six in /usr/local/lib/python3.10/dist-packages (from catboost) (1.16.0)\n",
      "Requirement already satisfied: python-dateutil>=2.8.2 in /usr/local/lib/python3.10/dist-packages (from pandas>=0.24->catboost) (2.8.2)\n",
      "Requirement already satisfied: pytz>=2020.1 in /usr/local/lib/python3.10/dist-packages (from pandas>=0.24->catboost) (2024.1)\n",
      "Requirement already satisfied: tzdata>=2022.1 in /usr/local/lib/python3.10/dist-packages (from pandas>=0.24->catboost) (2024.1)\n",
      "Requirement already satisfied: contourpy>=1.0.1 in /usr/local/lib/python3.10/dist-packages (from matplotlib->catboost) (1.2.1)\n",
      "Requirement already satisfied: cycler>=0.10 in /usr/local/lib/python3.10/dist-packages (from matplotlib->catboost) (0.12.1)\n",
      "Requirement already satisfied: fonttools>=4.22.0 in /usr/local/lib/python3.10/dist-packages (from matplotlib->catboost) (4.53.1)\n",
      "Requirement already satisfied: kiwisolver>=1.0.1 in /usr/local/lib/python3.10/dist-packages (from matplotlib->catboost) (1.4.5)\n",
      "Requirement already satisfied: packaging>=20.0 in /usr/local/lib/python3.10/dist-packages (from matplotlib->catboost) (24.1)\n",
      "Requirement already satisfied: pillow>=6.2.0 in /usr/local/lib/python3.10/dist-packages (from matplotlib->catboost) (9.4.0)\n",
      "Requirement already satisfied: pyparsing>=2.3.1 in /usr/local/lib/python3.10/dist-packages (from matplotlib->catboost) (3.1.2)\n",
      "Requirement already satisfied: tenacity>=6.2.0 in /usr/local/lib/python3.10/dist-packages (from plotly->catboost) (8.5.0)\n",
      "Downloading catboost-1.2.5-cp310-cp310-manylinux2014_x86_64.whl (98.2 MB)\n",
      "\u001b[2K   \u001b[90m━━━━━━━━━━━━━━━━━━━━━━━━━━━━━━━━━━━━━━━━\u001b[0m \u001b[32m98.2/98.2 MB\u001b[0m \u001b[31m8.6 MB/s\u001b[0m eta \u001b[36m0:00:00\u001b[0m\n",
      "\u001b[?25hInstalling collected packages: catboost\n",
      "Successfully installed catboost-1.2.5\n"
     ]
    }
   ],
   "source": [
    "!pip install catboost"
   ]
  },
  {
   "cell_type": "code",
   "execution_count": null,
   "id": "gbXwERdfhS1v",
   "metadata": {
    "colab": {
     "base_uri": "https://localhost:8080/"
    },
    "hidden": true,
    "id": "gbXwERdfhS1v",
    "outputId": "7ea577b1-0544-4280-b6c8-79f6c0da3dd1"
   },
   "outputs": [
    {
     "name": "stdout",
     "output_type": "stream",
     "text": [
      "Collecting optuna\n",
      "  Downloading optuna-3.6.1-py3-none-any.whl.metadata (17 kB)\n",
      "Collecting alembic>=1.5.0 (from optuna)\n",
      "  Downloading alembic-1.13.2-py3-none-any.whl.metadata (7.4 kB)\n",
      "Collecting colorlog (from optuna)\n",
      "  Downloading colorlog-6.8.2-py3-none-any.whl.metadata (10 kB)\n",
      "Requirement already satisfied: numpy in /usr/local/lib/python3.10/dist-packages (from optuna) (1.25.2)\n",
      "Requirement already satisfied: packaging>=20.0 in /usr/local/lib/python3.10/dist-packages (from optuna) (24.1)\n",
      "Requirement already satisfied: sqlalchemy>=1.3.0 in /usr/local/lib/python3.10/dist-packages (from optuna) (2.0.31)\n",
      "Requirement already satisfied: tqdm in /usr/local/lib/python3.10/dist-packages (from optuna) (4.66.4)\n",
      "Requirement already satisfied: PyYAML in /usr/local/lib/python3.10/dist-packages (from optuna) (6.0.1)\n",
      "Collecting Mako (from alembic>=1.5.0->optuna)\n",
      "  Downloading Mako-1.3.5-py3-none-any.whl.metadata (2.9 kB)\n",
      "Requirement already satisfied: typing-extensions>=4 in /usr/local/lib/python3.10/dist-packages (from alembic>=1.5.0->optuna) (4.12.2)\n",
      "Requirement already satisfied: greenlet!=0.4.17 in /usr/local/lib/python3.10/dist-packages (from sqlalchemy>=1.3.0->optuna) (3.0.3)\n",
      "Requirement already satisfied: MarkupSafe>=0.9.2 in /usr/local/lib/python3.10/dist-packages (from Mako->alembic>=1.5.0->optuna) (2.1.5)\n",
      "Downloading optuna-3.6.1-py3-none-any.whl (380 kB)\n",
      "\u001b[2K   \u001b[90m━━━━━━━━━━━━━━━━━━━━━━━━━━━━━━━━━━━━━━━━\u001b[0m \u001b[32m380.1/380.1 kB\u001b[0m \u001b[31m3.3 MB/s\u001b[0m eta \u001b[36m0:00:00\u001b[0m\n",
      "\u001b[?25hDownloading alembic-1.13.2-py3-none-any.whl (232 kB)\n",
      "\u001b[2K   \u001b[90m━━━━━━━━━━━━━━━━━━━━━━━━━━━━━━━━━━━━━━━━\u001b[0m \u001b[32m233.0/233.0 kB\u001b[0m \u001b[31m15.1 MB/s\u001b[0m eta \u001b[36m0:00:00\u001b[0m\n",
      "\u001b[?25hDownloading colorlog-6.8.2-py3-none-any.whl (11 kB)\n",
      "Downloading Mako-1.3.5-py3-none-any.whl (78 kB)\n",
      "\u001b[2K   \u001b[90m━━━━━━━━━━━━━━━━━━━━━━━━━━━━━━━━━━━━━━━━\u001b[0m \u001b[32m78.6/78.6 kB\u001b[0m \u001b[31m5.9 MB/s\u001b[0m eta \u001b[36m0:00:00\u001b[0m\n",
      "\u001b[?25hInstalling collected packages: Mako, colorlog, alembic, optuna\n",
      "Successfully installed Mako-1.3.5 alembic-1.13.2 colorlog-6.8.2 optuna-3.6.1\n"
     ]
    }
   ],
   "source": [
    "!pip install optuna"
   ]
  },
  {
   "cell_type": "code",
   "execution_count": null,
   "id": "7d293182",
   "metadata": {
    "colab": {
     "base_uri": "https://localhost:8080/"
    },
    "hidden": true,
    "id": "7d293182",
    "outputId": "cac782ca-be25-468c-a306-6c37f8a3578a"
   },
   "outputs": [
    {
     "name": "stderr",
     "output_type": "stream",
     "text": [
      "/usr/local/lib/python3.10/dist-packages/dask/dataframe/__init__.py:42: FutureWarning: \n",
      "Dask dataframe query planning is disabled because dask-expr is not installed.\n",
      "\n",
      "You can install it with `pip install dask[dataframe]` or `conda install dask`.\n",
      "This will raise in a future version.\n",
      "\n",
      "  warnings.warn(msg, FutureWarning)\n"
     ]
    }
   ],
   "source": [
    "# para manipulação de dados\n",
    "import pandas as pd\n",
    "import numpy as np\n",
    "\n",
    "# Para visualizações de dados\n",
    "import seaborn as sns\n",
    "import matplotlib.pyplot as plt\n",
    "\n",
    "# Para cálculos estatísticos\n",
    "from scipy import stats\n",
    "\n",
    "# Para cálculos matemáticos\n",
    "from math import floor\n",
    "\n",
    "from sklearn.pipeline import Pipeline\n",
    "from sklearn.model_selection import train_test_split, StratifiedKFold, cross_val_score\n",
    "\n",
    "# Métricas de avaliação do Modelo\n",
    "from sklearn.metrics import (precision_score,\n",
    "                             recall_score,\n",
    "                             f1_score,\n",
    "                             accuracy_score,\n",
    "                             roc_auc_score,\n",
    "                             precision_recall_curve,\n",
    "                             average_precision_score,\n",
    "                             confusion_matrix,\n",
    "                             auc)\n",
    "\n",
    "# Modelos\n",
    "from sklearn.linear_model import LogisticRegression\n",
    "from sklearn.tree import DecisionTreeClassifier\n",
    "from sklearn.ensemble import RandomForestClassifier, HistGradientBoostingClassifier\n",
    "from xgboost import XGBClassifier\n",
    "from lightgbm import LGBMClassifier\n",
    "from catboost import CatBoostClassifier\n",
    "\n",
    "import optuna\n",
    "\n",
    "pd.options.plotting.backend = \"plotly\"\n",
    "colors = ['royalblue','midnightblue']"
   ]
  },
  {
   "cell_type": "code",
   "execution_count": null,
   "id": "gQjEBSztYop9",
   "metadata": {
    "colab": {
     "base_uri": "https://localhost:8080/"
    },
    "hidden": true,
    "id": "gQjEBSztYop9",
    "outputId": "c9cb784c-bd2d-44d8-9512-03b41a4542d8"
   },
   "outputs": [
    {
     "name": "stdout",
     "output_type": "stream",
     "text": [
      "Mounted at /content/drive\n"
     ]
    }
   ],
   "source": [
    "from google.colab import drive\n",
    "drive.mount('/content/drive')"
   ]
  },
  {
   "cell_type": "code",
   "execution_count": null,
   "id": "ab4c4b2f",
   "metadata": {
    "hidden": true,
    "id": "ab4c4b2f"
   },
   "outputs": [],
   "source": [
    "# Carregando o Dataset\n",
    "transactions = pd.read_csv('datasets/creditcard.csv')"
   ]
  },
  {
   "cell_type": "markdown",
   "id": "99126c81",
   "metadata": {
    "heading_collapsed": true,
    "id": "99126c81"
   },
   "source": [
    "# 1. Criando Funções que iremos utilizar"
   ]
  },
  {
   "cell_type": "code",
   "execution_count": null,
   "id": "1950f080",
   "metadata": {
    "hidden": true,
    "id": "1950f080"
   },
   "outputs": [],
   "source": [
    "# Criar funções para plotar o resultado do modelo\n",
    "def modelo(clf, X_train, y_train, X_val, y_val, threshold=0.5):\n",
    "    # Treina o modelo\n",
    "    clf.fit(X_train, y_train)\n",
    "\n",
    "    # Realiza previsão de acorodo com o thresholde especificado\n",
    "    y_pred = (clf.predict_proba(X_val)[:, 1] > threshold)\n",
    "    y_pre_proba = clf.predict_proba(X_val)[:, 1]\n",
    "    precision, recall, thresholds = precision_recall_curve(y_val, y_pre_proba)\n",
    "\n",
    "    fold = StratifiedKFold(n_splits = 5, shuffle = True, random_state = 27)\n",
    "    score = cross_val_score(clf, X_train, y_train, cv = fold, scoring = 'roc_auc', n_jobs = -1).mean()\n",
    "\n",
    "    # Mostrando o desempenho do modelo\n",
    "    print(f\"Score Cross Validation: {score:.2%}\")\n",
    "    print(f\"Average Precision: {average_precision_score(y_val, y_pre_proba):.2%}\")\n",
    "    print(f\"Precision Score: {precision_score(y_val, y_pred):.2%}\")\n",
    "    print(f\"Recall Score: {recall_score(y_val, y_pred):.2%}\")\n",
    "    print(f\"F1 Score: {f1_score(y_val, y_pred):.2%}\")\n",
    "    print(f\"AUCPR: {auc(recall, precision):.2%}\")\n",
    "    print(f\"ROC AUC Score: {roc_auc_score(y_val, y_pred):.2%}\")"
   ]
  },
  {
   "cell_type": "code",
   "execution_count": null,
   "id": "jg3FrRW1uiOX",
   "metadata": {
    "hidden": true,
    "id": "jg3FrRW1uiOX"
   },
   "outputs": [],
   "source": [
    "def plot_recall_precision_curve(clf, X, y, name_clf=None):\n",
    "    y_pred_proba = clf.predict_proba(X)[:,1]\n",
    "    precision, recall, thresholds = precision_recall_curve(y, y_pred_proba)\n",
    "    aucpr = auc(recall, precision)\n",
    "    \n",
    "    if not(name_clf):\n",
    "        name_clf = 'Classifier'\n",
    "\n",
    "    fig, ax = plt.subplots()\n",
    "    ax.plot(precision, recall, label = name_clf)\n",
    "    ax.set_title(f\"AUCPR = {aucpr:.2%}\")\n",
    "    ax.set_xlabel('Precision')\n",
    "    ax.set_ylabel('Recall')\n",
    "    ax.legend()\n",
    "    ax.grid()"
   ]
  },
  {
   "cell_type": "code",
   "execution_count": null,
   "id": "Tr6Dd55mRY4C",
   "metadata": {
    "hidden": true,
    "id": "Tr6Dd55mRY4C"
   },
   "outputs": [],
   "source": [
    "# Criar a matriz de confusão\n",
    "def matriz_confusao(clf, X_test, y_test):\n",
    "    cm = confusion_matrix(y_test, clf.predict(X_test))\n",
    "    nomes = ['Verdadeiro Neg.','Falso Pos.','Falso Neg.','Verdadeiro Pos.']\n",
    "    counts = [value for value in cm.flatten()]\n",
    "    porcentagens = ['{0:.2%}'.format(value) for value in cm.flatten()/np.sum(cm)]\n",
    "    labels = [f'{v1}\\n{v2}\\n{v3}' for v1, v2, v3 in zip(nomes, counts, porcentagens)]\n",
    "    labels = np.asarray(labels).reshape(2,2)\n",
    "    plt.figure(figsize = (12, 7))\n",
    "    sns.heatmap(cm, annot = labels, cmap = 'Blues', fmt ='')\n",
    "    plt.show();"
   ]
  },
  {
   "cell_type": "markdown",
   "id": "aefc09bd",
   "metadata": {
    "heading_collapsed": true,
    "id": "aefc09bd"
   },
   "source": [
    "# 2. Explorando o Dataset"
   ]
  },
  {
   "cell_type": "code",
   "execution_count": null,
   "id": "ec2df978",
   "metadata": {
    "colab": {
     "base_uri": "https://localhost:8080/"
    },
    "hidden": true,
    "id": "ec2df978",
    "outputId": "cb1994eb-552f-4a5e-ed81-0e6bc20f341c"
   },
   "outputs": [
    {
     "data": {
      "application/vnd.google.colaboratory.intrinsic+json": {
       "type": "dataframe",
       "variable_name": "transactions"
      },
      "text/html": [
       "\n",
       "  <div id=\"df-be02b425-bdba-45a0-8d97-3d267cea9863\" class=\"colab-df-container\">\n",
       "    <div>\n",
       "<style scoped>\n",
       "    .dataframe tbody tr th:only-of-type {\n",
       "        vertical-align: middle;\n",
       "    }\n",
       "\n",
       "    .dataframe tbody tr th {\n",
       "        vertical-align: top;\n",
       "    }\n",
       "\n",
       "    .dataframe thead th {\n",
       "        text-align: right;\n",
       "    }\n",
       "</style>\n",
       "<table border=\"1\" class=\"dataframe\">\n",
       "  <thead>\n",
       "    <tr style=\"text-align: right;\">\n",
       "      <th></th>\n",
       "      <th>Time</th>\n",
       "      <th>V1</th>\n",
       "      <th>V2</th>\n",
       "      <th>V3</th>\n",
       "      <th>V4</th>\n",
       "      <th>V5</th>\n",
       "      <th>V6</th>\n",
       "      <th>V7</th>\n",
       "      <th>V8</th>\n",
       "      <th>V9</th>\n",
       "      <th>...</th>\n",
       "      <th>V21</th>\n",
       "      <th>V22</th>\n",
       "      <th>V23</th>\n",
       "      <th>V24</th>\n",
       "      <th>V25</th>\n",
       "      <th>V26</th>\n",
       "      <th>V27</th>\n",
       "      <th>V28</th>\n",
       "      <th>Amount</th>\n",
       "      <th>Class</th>\n",
       "    </tr>\n",
       "  </thead>\n",
       "  <tbody>\n",
       "    <tr>\n",
       "      <th>0</th>\n",
       "      <td>0.0</td>\n",
       "      <td>-1.359807</td>\n",
       "      <td>-0.072781</td>\n",
       "      <td>2.536347</td>\n",
       "      <td>1.378155</td>\n",
       "      <td>-0.338321</td>\n",
       "      <td>0.462388</td>\n",
       "      <td>0.239599</td>\n",
       "      <td>0.098698</td>\n",
       "      <td>0.363787</td>\n",
       "      <td>...</td>\n",
       "      <td>-0.018307</td>\n",
       "      <td>0.277838</td>\n",
       "      <td>-0.110474</td>\n",
       "      <td>0.066928</td>\n",
       "      <td>0.128539</td>\n",
       "      <td>-0.189115</td>\n",
       "      <td>0.133558</td>\n",
       "      <td>-0.021053</td>\n",
       "      <td>149.62</td>\n",
       "      <td>0</td>\n",
       "    </tr>\n",
       "    <tr>\n",
       "      <th>1</th>\n",
       "      <td>0.0</td>\n",
       "      <td>1.191857</td>\n",
       "      <td>0.266151</td>\n",
       "      <td>0.166480</td>\n",
       "      <td>0.448154</td>\n",
       "      <td>0.060018</td>\n",
       "      <td>-0.082361</td>\n",
       "      <td>-0.078803</td>\n",
       "      <td>0.085102</td>\n",
       "      <td>-0.255425</td>\n",
       "      <td>...</td>\n",
       "      <td>-0.225775</td>\n",
       "      <td>-0.638672</td>\n",
       "      <td>0.101288</td>\n",
       "      <td>-0.339846</td>\n",
       "      <td>0.167170</td>\n",
       "      <td>0.125895</td>\n",
       "      <td>-0.008983</td>\n",
       "      <td>0.014724</td>\n",
       "      <td>2.69</td>\n",
       "      <td>0</td>\n",
       "    </tr>\n",
       "    <tr>\n",
       "      <th>2</th>\n",
       "      <td>1.0</td>\n",
       "      <td>-1.358354</td>\n",
       "      <td>-1.340163</td>\n",
       "      <td>1.773209</td>\n",
       "      <td>0.379780</td>\n",
       "      <td>-0.503198</td>\n",
       "      <td>1.800499</td>\n",
       "      <td>0.791461</td>\n",
       "      <td>0.247676</td>\n",
       "      <td>-1.514654</td>\n",
       "      <td>...</td>\n",
       "      <td>0.247998</td>\n",
       "      <td>0.771679</td>\n",
       "      <td>0.909412</td>\n",
       "      <td>-0.689281</td>\n",
       "      <td>-0.327642</td>\n",
       "      <td>-0.139097</td>\n",
       "      <td>-0.055353</td>\n",
       "      <td>-0.059752</td>\n",
       "      <td>378.66</td>\n",
       "      <td>0</td>\n",
       "    </tr>\n",
       "    <tr>\n",
       "      <th>3</th>\n",
       "      <td>1.0</td>\n",
       "      <td>-0.966272</td>\n",
       "      <td>-0.185226</td>\n",
       "      <td>1.792993</td>\n",
       "      <td>-0.863291</td>\n",
       "      <td>-0.010309</td>\n",
       "      <td>1.247203</td>\n",
       "      <td>0.237609</td>\n",
       "      <td>0.377436</td>\n",
       "      <td>-1.387024</td>\n",
       "      <td>...</td>\n",
       "      <td>-0.108300</td>\n",
       "      <td>0.005274</td>\n",
       "      <td>-0.190321</td>\n",
       "      <td>-1.175575</td>\n",
       "      <td>0.647376</td>\n",
       "      <td>-0.221929</td>\n",
       "      <td>0.062723</td>\n",
       "      <td>0.061458</td>\n",
       "      <td>123.50</td>\n",
       "      <td>0</td>\n",
       "    </tr>\n",
       "    <tr>\n",
       "      <th>4</th>\n",
       "      <td>2.0</td>\n",
       "      <td>-1.158233</td>\n",
       "      <td>0.877737</td>\n",
       "      <td>1.548718</td>\n",
       "      <td>0.403034</td>\n",
       "      <td>-0.407193</td>\n",
       "      <td>0.095921</td>\n",
       "      <td>0.592941</td>\n",
       "      <td>-0.270533</td>\n",
       "      <td>0.817739</td>\n",
       "      <td>...</td>\n",
       "      <td>-0.009431</td>\n",
       "      <td>0.798278</td>\n",
       "      <td>-0.137458</td>\n",
       "      <td>0.141267</td>\n",
       "      <td>-0.206010</td>\n",
       "      <td>0.502292</td>\n",
       "      <td>0.219422</td>\n",
       "      <td>0.215153</td>\n",
       "      <td>69.99</td>\n",
       "      <td>0</td>\n",
       "    </tr>\n",
       "  </tbody>\n",
       "</table>\n",
       "<p>5 rows × 31 columns</p>\n",
       "</div>\n",
       "    <div class=\"colab-df-buttons\">\n",
       "\n",
       "  <div class=\"colab-df-container\">\n",
       "    <button class=\"colab-df-convert\" onclick=\"convertToInteractive('df-be02b425-bdba-45a0-8d97-3d267cea9863')\"\n",
       "            title=\"Convert this dataframe to an interactive table.\"\n",
       "            style=\"display:none;\">\n",
       "\n",
       "  <svg xmlns=\"http://www.w3.org/2000/svg\" height=\"24px\" viewBox=\"0 -960 960 960\">\n",
       "    <path d=\"M120-120v-720h720v720H120Zm60-500h600v-160H180v160Zm220 220h160v-160H400v160Zm0 220h160v-160H400v160ZM180-400h160v-160H180v160Zm440 0h160v-160H620v160ZM180-180h160v-160H180v160Zm440 0h160v-160H620v160Z\"/>\n",
       "  </svg>\n",
       "    </button>\n",
       "\n",
       "  <style>\n",
       "    .colab-df-container {\n",
       "      display:flex;\n",
       "      gap: 12px;\n",
       "    }\n",
       "\n",
       "    .colab-df-convert {\n",
       "      background-color: #E8F0FE;\n",
       "      border: none;\n",
       "      border-radius: 50%;\n",
       "      cursor: pointer;\n",
       "      display: none;\n",
       "      fill: #1967D2;\n",
       "      height: 32px;\n",
       "      padding: 0 0 0 0;\n",
       "      width: 32px;\n",
       "    }\n",
       "\n",
       "    .colab-df-convert:hover {\n",
       "      background-color: #E2EBFA;\n",
       "      box-shadow: 0px 1px 2px rgba(60, 64, 67, 0.3), 0px 1px 3px 1px rgba(60, 64, 67, 0.15);\n",
       "      fill: #174EA6;\n",
       "    }\n",
       "\n",
       "    .colab-df-buttons div {\n",
       "      margin-bottom: 4px;\n",
       "    }\n",
       "\n",
       "    [theme=dark] .colab-df-convert {\n",
       "      background-color: #3B4455;\n",
       "      fill: #D2E3FC;\n",
       "    }\n",
       "\n",
       "    [theme=dark] .colab-df-convert:hover {\n",
       "      background-color: #434B5C;\n",
       "      box-shadow: 0px 1px 3px 1px rgba(0, 0, 0, 0.15);\n",
       "      filter: drop-shadow(0px 1px 2px rgba(0, 0, 0, 0.3));\n",
       "      fill: #FFFFFF;\n",
       "    }\n",
       "  </style>\n",
       "\n",
       "    <script>\n",
       "      const buttonEl =\n",
       "        document.querySelector('#df-be02b425-bdba-45a0-8d97-3d267cea9863 button.colab-df-convert');\n",
       "      buttonEl.style.display =\n",
       "        google.colab.kernel.accessAllowed ? 'block' : 'none';\n",
       "\n",
       "      async function convertToInteractive(key) {\n",
       "        const element = document.querySelector('#df-be02b425-bdba-45a0-8d97-3d267cea9863');\n",
       "        const dataTable =\n",
       "          await google.colab.kernel.invokeFunction('convertToInteractive',\n",
       "                                                    [key], {});\n",
       "        if (!dataTable) return;\n",
       "\n",
       "        const docLinkHtml = 'Like what you see? Visit the ' +\n",
       "          '<a target=\"_blank\" href=https://colab.research.google.com/notebooks/data_table.ipynb>data table notebook</a>'\n",
       "          + ' to learn more about interactive tables.';\n",
       "        element.innerHTML = '';\n",
       "        dataTable['output_type'] = 'display_data';\n",
       "        await google.colab.output.renderOutput(dataTable, element);\n",
       "        const docLink = document.createElement('div');\n",
       "        docLink.innerHTML = docLinkHtml;\n",
       "        element.appendChild(docLink);\n",
       "      }\n",
       "    </script>\n",
       "  </div>\n",
       "\n",
       "\n",
       "<div id=\"df-21078204-6e63-4a85-b374-b88684b1c44d\">\n",
       "  <button class=\"colab-df-quickchart\" onclick=\"quickchart('df-21078204-6e63-4a85-b374-b88684b1c44d')\"\n",
       "            title=\"Suggest charts\"\n",
       "            style=\"display:none;\">\n",
       "\n",
       "<svg xmlns=\"http://www.w3.org/2000/svg\" height=\"24px\"viewBox=\"0 0 24 24\"\n",
       "     width=\"24px\">\n",
       "    <g>\n",
       "        <path d=\"M19 3H5c-1.1 0-2 .9-2 2v14c0 1.1.9 2 2 2h14c1.1 0 2-.9 2-2V5c0-1.1-.9-2-2-2zM9 17H7v-7h2v7zm4 0h-2V7h2v10zm4 0h-2v-4h2v4z\"/>\n",
       "    </g>\n",
       "</svg>\n",
       "  </button>\n",
       "\n",
       "<style>\n",
       "  .colab-df-quickchart {\n",
       "      --bg-color: #E8F0FE;\n",
       "      --fill-color: #1967D2;\n",
       "      --hover-bg-color: #E2EBFA;\n",
       "      --hover-fill-color: #174EA6;\n",
       "      --disabled-fill-color: #AAA;\n",
       "      --disabled-bg-color: #DDD;\n",
       "  }\n",
       "\n",
       "  [theme=dark] .colab-df-quickchart {\n",
       "      --bg-color: #3B4455;\n",
       "      --fill-color: #D2E3FC;\n",
       "      --hover-bg-color: #434B5C;\n",
       "      --hover-fill-color: #FFFFFF;\n",
       "      --disabled-bg-color: #3B4455;\n",
       "      --disabled-fill-color: #666;\n",
       "  }\n",
       "\n",
       "  .colab-df-quickchart {\n",
       "    background-color: var(--bg-color);\n",
       "    border: none;\n",
       "    border-radius: 50%;\n",
       "    cursor: pointer;\n",
       "    display: none;\n",
       "    fill: var(--fill-color);\n",
       "    height: 32px;\n",
       "    padding: 0;\n",
       "    width: 32px;\n",
       "  }\n",
       "\n",
       "  .colab-df-quickchart:hover {\n",
       "    background-color: var(--hover-bg-color);\n",
       "    box-shadow: 0 1px 2px rgba(60, 64, 67, 0.3), 0 1px 3px 1px rgba(60, 64, 67, 0.15);\n",
       "    fill: var(--button-hover-fill-color);\n",
       "  }\n",
       "\n",
       "  .colab-df-quickchart-complete:disabled,\n",
       "  .colab-df-quickchart-complete:disabled:hover {\n",
       "    background-color: var(--disabled-bg-color);\n",
       "    fill: var(--disabled-fill-color);\n",
       "    box-shadow: none;\n",
       "  }\n",
       "\n",
       "  .colab-df-spinner {\n",
       "    border: 2px solid var(--fill-color);\n",
       "    border-color: transparent;\n",
       "    border-bottom-color: var(--fill-color);\n",
       "    animation:\n",
       "      spin 1s steps(1) infinite;\n",
       "  }\n",
       "\n",
       "  @keyframes spin {\n",
       "    0% {\n",
       "      border-color: transparent;\n",
       "      border-bottom-color: var(--fill-color);\n",
       "      border-left-color: var(--fill-color);\n",
       "    }\n",
       "    20% {\n",
       "      border-color: transparent;\n",
       "      border-left-color: var(--fill-color);\n",
       "      border-top-color: var(--fill-color);\n",
       "    }\n",
       "    30% {\n",
       "      border-color: transparent;\n",
       "      border-left-color: var(--fill-color);\n",
       "      border-top-color: var(--fill-color);\n",
       "      border-right-color: var(--fill-color);\n",
       "    }\n",
       "    40% {\n",
       "      border-color: transparent;\n",
       "      border-right-color: var(--fill-color);\n",
       "      border-top-color: var(--fill-color);\n",
       "    }\n",
       "    60% {\n",
       "      border-color: transparent;\n",
       "      border-right-color: var(--fill-color);\n",
       "    }\n",
       "    80% {\n",
       "      border-color: transparent;\n",
       "      border-right-color: var(--fill-color);\n",
       "      border-bottom-color: var(--fill-color);\n",
       "    }\n",
       "    90% {\n",
       "      border-color: transparent;\n",
       "      border-bottom-color: var(--fill-color);\n",
       "    }\n",
       "  }\n",
       "</style>\n",
       "\n",
       "  <script>\n",
       "    async function quickchart(key) {\n",
       "      const quickchartButtonEl =\n",
       "        document.querySelector('#' + key + ' button');\n",
       "      quickchartButtonEl.disabled = true;  // To prevent multiple clicks.\n",
       "      quickchartButtonEl.classList.add('colab-df-spinner');\n",
       "      try {\n",
       "        const charts = await google.colab.kernel.invokeFunction(\n",
       "            'suggestCharts', [key], {});\n",
       "      } catch (error) {\n",
       "        console.error('Error during call to suggestCharts:', error);\n",
       "      }\n",
       "      quickchartButtonEl.classList.remove('colab-df-spinner');\n",
       "      quickchartButtonEl.classList.add('colab-df-quickchart-complete');\n",
       "    }\n",
       "    (() => {\n",
       "      let quickchartButtonEl =\n",
       "        document.querySelector('#df-21078204-6e63-4a85-b374-b88684b1c44d button');\n",
       "      quickchartButtonEl.style.display =\n",
       "        google.colab.kernel.accessAllowed ? 'block' : 'none';\n",
       "    })();\n",
       "  </script>\n",
       "</div>\n",
       "\n",
       "    </div>\n",
       "  </div>\n"
      ],
      "text/plain": [
       "   Time        V1        V2        V3        V4        V5        V6        V7  \\\n",
       "0   0.0 -1.359807 -0.072781  2.536347  1.378155 -0.338321  0.462388  0.239599   \n",
       "1   0.0  1.191857  0.266151  0.166480  0.448154  0.060018 -0.082361 -0.078803   \n",
       "2   1.0 -1.358354 -1.340163  1.773209  0.379780 -0.503198  1.800499  0.791461   \n",
       "3   1.0 -0.966272 -0.185226  1.792993 -0.863291 -0.010309  1.247203  0.237609   \n",
       "4   2.0 -1.158233  0.877737  1.548718  0.403034 -0.407193  0.095921  0.592941   \n",
       "\n",
       "         V8        V9  ...       V21       V22       V23       V24       V25  \\\n",
       "0  0.098698  0.363787  ... -0.018307  0.277838 -0.110474  0.066928  0.128539   \n",
       "1  0.085102 -0.255425  ... -0.225775 -0.638672  0.101288 -0.339846  0.167170   \n",
       "2  0.247676 -1.514654  ...  0.247998  0.771679  0.909412 -0.689281 -0.327642   \n",
       "3  0.377436 -1.387024  ... -0.108300  0.005274 -0.190321 -1.175575  0.647376   \n",
       "4 -0.270533  0.817739  ... -0.009431  0.798278 -0.137458  0.141267 -0.206010   \n",
       "\n",
       "        V26       V27       V28  Amount  Class  \n",
       "0 -0.189115  0.133558 -0.021053  149.62      0  \n",
       "1  0.125895 -0.008983  0.014724    2.69      0  \n",
       "2 -0.139097 -0.055353 -0.059752  378.66      0  \n",
       "3 -0.221929  0.062723  0.061458  123.50      0  \n",
       "4  0.502292  0.219422  0.215153   69.99      0  \n",
       "\n",
       "[5 rows x 31 columns]"
      ]
     },
     "execution_count": 10,
     "metadata": {},
     "output_type": "execute_result"
    }
   ],
   "source": [
    "# Visualizando as 5 primeiras linhas\n",
    "transactions.head()"
   ]
  },
  {
   "cell_type": "code",
   "execution_count": null,
   "id": "ca30f3d2",
   "metadata": {
    "colab": {
     "base_uri": "https://localhost:8080/"
    },
    "hidden": true,
    "id": "ca30f3d2",
    "outputId": "35c16579-cb68-4ef4-8b0b-dd38af6436d2"
   },
   "outputs": [
    {
     "name": "stdout",
     "output_type": "stream",
     "text": [
      "N° de Instâncias = 284807 \n",
      "N° de features = 31\n"
     ]
    }
   ],
   "source": [
    "# Formato do datatset\n",
    "rows, cols = transactions.shape\n",
    "\n",
    "print(f'N° de Instâncias = {rows} \\nN° de features = {cols}')"
   ]
  },
  {
   "cell_type": "code",
   "execution_count": null,
   "id": "464d5caf",
   "metadata": {
    "colab": {
     "base_uri": "https://localhost:8080/"
    },
    "hidden": true,
    "id": "464d5caf",
    "outputId": "38240bb7-77a0-4d14-9700-00bc7d26387e"
   },
   "outputs": [
    {
     "data": {
      "text/plain": [
       "Index(['Time', 'V1', 'V2', 'V3', 'V4', 'V5', 'V6', 'V7', 'V8', 'V9', 'V10',\n",
       "       'V11', 'V12', 'V13', 'V14', 'V15', 'V16', 'V17', 'V18', 'V19', 'V20',\n",
       "       'V21', 'V22', 'V23', 'V24', 'V25', 'V26', 'V27', 'V28', 'Amount',\n",
       "       'Class'],\n",
       "      dtype='object')"
      ]
     },
     "execution_count": 12,
     "metadata": {},
     "output_type": "execute_result"
    }
   ],
   "source": [
    "# Nome das features\n",
    "transactions.columns"
   ]
  },
  {
   "cell_type": "code",
   "execution_count": null,
   "id": "b0c63b78",
   "metadata": {
    "colab": {
     "base_uri": "https://localhost:8080/"
    },
    "hidden": true,
    "id": "b0c63b78",
    "outputId": "25af75e9-0340-42c1-df12-b9c242ea11ed"
   },
   "outputs": [
    {
     "name": "stdout",
     "output_type": "stream",
     "text": [
      "<class 'pandas.core.frame.DataFrame'>\n",
      "RangeIndex: 284807 entries, 0 to 284806\n",
      "Data columns (total 31 columns):\n",
      " #   Column  Non-Null Count   Dtype  \n",
      "---  ------  --------------   -----  \n",
      " 0   Time    284807 non-null  float64\n",
      " 1   V1      284807 non-null  float64\n",
      " 2   V2      284807 non-null  float64\n",
      " 3   V3      284807 non-null  float64\n",
      " 4   V4      284807 non-null  float64\n",
      " 5   V5      284807 non-null  float64\n",
      " 6   V6      284807 non-null  float64\n",
      " 7   V7      284807 non-null  float64\n",
      " 8   V8      284807 non-null  float64\n",
      " 9   V9      284807 non-null  float64\n",
      " 10  V10     284807 non-null  float64\n",
      " 11  V11     284807 non-null  float64\n",
      " 12  V12     284807 non-null  float64\n",
      " 13  V13     284807 non-null  float64\n",
      " 14  V14     284807 non-null  float64\n",
      " 15  V15     284807 non-null  float64\n",
      " 16  V16     284807 non-null  float64\n",
      " 17  V17     284807 non-null  float64\n",
      " 18  V18     284807 non-null  float64\n",
      " 19  V19     284807 non-null  float64\n",
      " 20  V20     284807 non-null  float64\n",
      " 21  V21     284807 non-null  float64\n",
      " 22  V22     284807 non-null  float64\n",
      " 23  V23     284807 non-null  float64\n",
      " 24  V24     284807 non-null  float64\n",
      " 25  V25     284807 non-null  float64\n",
      " 26  V26     284807 non-null  float64\n",
      " 27  V27     284807 non-null  float64\n",
      " 28  V28     284807 non-null  float64\n",
      " 29  Amount  284807 non-null  float64\n",
      " 30  Class   284807 non-null  int64  \n",
      "dtypes: float64(30), int64(1)\n",
      "memory usage: 67.4 MB\n"
     ]
    }
   ],
   "source": [
    "# informações sobre os tipo das features do dataset\n",
    "transactions.info()"
   ]
  },
  {
   "cell_type": "code",
   "execution_count": null,
   "id": "809b4ac7",
   "metadata": {
    "colab": {
     "base_uri": "https://localhost:8080/"
    },
    "hidden": true,
    "id": "809b4ac7",
    "outputId": "ac762827-c397-4c6f-998e-b8558675c4c4"
   },
   "outputs": [
    {
     "data": {
      "application/vnd.google.colaboratory.intrinsic+json": {
       "type": "dataframe"
      },
      "text/html": [
       "\n",
       "  <div id=\"df-0cdd29cd-ec91-4f47-b9b8-5220dd8b5ee7\" class=\"colab-df-container\">\n",
       "    <div>\n",
       "<style scoped>\n",
       "    .dataframe tbody tr th:only-of-type {\n",
       "        vertical-align: middle;\n",
       "    }\n",
       "\n",
       "    .dataframe tbody tr th {\n",
       "        vertical-align: top;\n",
       "    }\n",
       "\n",
       "    .dataframe thead th {\n",
       "        text-align: right;\n",
       "    }\n",
       "</style>\n",
       "<table border=\"1\" class=\"dataframe\">\n",
       "  <thead>\n",
       "    <tr style=\"text-align: right;\">\n",
       "      <th></th>\n",
       "      <th>Time</th>\n",
       "      <th>V1</th>\n",
       "      <th>V2</th>\n",
       "      <th>V3</th>\n",
       "      <th>V4</th>\n",
       "      <th>V5</th>\n",
       "      <th>V6</th>\n",
       "      <th>V7</th>\n",
       "      <th>V8</th>\n",
       "      <th>V9</th>\n",
       "      <th>...</th>\n",
       "      <th>V21</th>\n",
       "      <th>V22</th>\n",
       "      <th>V23</th>\n",
       "      <th>V24</th>\n",
       "      <th>V25</th>\n",
       "      <th>V26</th>\n",
       "      <th>V27</th>\n",
       "      <th>V28</th>\n",
       "      <th>Amount</th>\n",
       "      <th>Class</th>\n",
       "    </tr>\n",
       "  </thead>\n",
       "  <tbody>\n",
       "    <tr>\n",
       "      <th>33</th>\n",
       "      <td>26.0</td>\n",
       "      <td>-0.529912</td>\n",
       "      <td>0.873892</td>\n",
       "      <td>1.347247</td>\n",
       "      <td>0.145457</td>\n",
       "      <td>0.414209</td>\n",
       "      <td>0.100223</td>\n",
       "      <td>0.711206</td>\n",
       "      <td>0.176066</td>\n",
       "      <td>-0.286717</td>\n",
       "      <td>...</td>\n",
       "      <td>0.046949</td>\n",
       "      <td>0.208105</td>\n",
       "      <td>-0.185548</td>\n",
       "      <td>0.001031</td>\n",
       "      <td>0.098816</td>\n",
       "      <td>-0.552904</td>\n",
       "      <td>-0.073288</td>\n",
       "      <td>0.023307</td>\n",
       "      <td>6.14</td>\n",
       "      <td>0</td>\n",
       "    </tr>\n",
       "    <tr>\n",
       "      <th>35</th>\n",
       "      <td>26.0</td>\n",
       "      <td>-0.535388</td>\n",
       "      <td>0.865268</td>\n",
       "      <td>1.351076</td>\n",
       "      <td>0.147575</td>\n",
       "      <td>0.433680</td>\n",
       "      <td>0.086983</td>\n",
       "      <td>0.693039</td>\n",
       "      <td>0.179742</td>\n",
       "      <td>-0.285642</td>\n",
       "      <td>...</td>\n",
       "      <td>0.049526</td>\n",
       "      <td>0.206537</td>\n",
       "      <td>-0.187108</td>\n",
       "      <td>0.000753</td>\n",
       "      <td>0.098117</td>\n",
       "      <td>-0.553471</td>\n",
       "      <td>-0.078306</td>\n",
       "      <td>0.025427</td>\n",
       "      <td>1.77</td>\n",
       "      <td>0</td>\n",
       "    </tr>\n",
       "    <tr>\n",
       "      <th>113</th>\n",
       "      <td>74.0</td>\n",
       "      <td>1.038370</td>\n",
       "      <td>0.127486</td>\n",
       "      <td>0.184456</td>\n",
       "      <td>1.109950</td>\n",
       "      <td>0.441699</td>\n",
       "      <td>0.945283</td>\n",
       "      <td>-0.036715</td>\n",
       "      <td>0.350995</td>\n",
       "      <td>0.118950</td>\n",
       "      <td>...</td>\n",
       "      <td>0.102520</td>\n",
       "      <td>0.605089</td>\n",
       "      <td>0.023092</td>\n",
       "      <td>-0.626463</td>\n",
       "      <td>0.479120</td>\n",
       "      <td>-0.166937</td>\n",
       "      <td>0.081247</td>\n",
       "      <td>0.001192</td>\n",
       "      <td>1.18</td>\n",
       "      <td>0</td>\n",
       "    </tr>\n",
       "    <tr>\n",
       "      <th>114</th>\n",
       "      <td>74.0</td>\n",
       "      <td>1.038370</td>\n",
       "      <td>0.127486</td>\n",
       "      <td>0.184456</td>\n",
       "      <td>1.109950</td>\n",
       "      <td>0.441699</td>\n",
       "      <td>0.945283</td>\n",
       "      <td>-0.036715</td>\n",
       "      <td>0.350995</td>\n",
       "      <td>0.118950</td>\n",
       "      <td>...</td>\n",
       "      <td>0.102520</td>\n",
       "      <td>0.605089</td>\n",
       "      <td>0.023092</td>\n",
       "      <td>-0.626463</td>\n",
       "      <td>0.479120</td>\n",
       "      <td>-0.166937</td>\n",
       "      <td>0.081247</td>\n",
       "      <td>0.001192</td>\n",
       "      <td>1.18</td>\n",
       "      <td>0</td>\n",
       "    </tr>\n",
       "    <tr>\n",
       "      <th>115</th>\n",
       "      <td>74.0</td>\n",
       "      <td>1.038370</td>\n",
       "      <td>0.127486</td>\n",
       "      <td>0.184456</td>\n",
       "      <td>1.109950</td>\n",
       "      <td>0.441699</td>\n",
       "      <td>0.945283</td>\n",
       "      <td>-0.036715</td>\n",
       "      <td>0.350995</td>\n",
       "      <td>0.118950</td>\n",
       "      <td>...</td>\n",
       "      <td>0.102520</td>\n",
       "      <td>0.605089</td>\n",
       "      <td>0.023092</td>\n",
       "      <td>-0.626463</td>\n",
       "      <td>0.479120</td>\n",
       "      <td>-0.166937</td>\n",
       "      <td>0.081247</td>\n",
       "      <td>0.001192</td>\n",
       "      <td>1.18</td>\n",
       "      <td>0</td>\n",
       "    </tr>\n",
       "  </tbody>\n",
       "</table>\n",
       "<p>5 rows × 31 columns</p>\n",
       "</div>\n",
       "    <div class=\"colab-df-buttons\">\n",
       "\n",
       "  <div class=\"colab-df-container\">\n",
       "    <button class=\"colab-df-convert\" onclick=\"convertToInteractive('df-0cdd29cd-ec91-4f47-b9b8-5220dd8b5ee7')\"\n",
       "            title=\"Convert this dataframe to an interactive table.\"\n",
       "            style=\"display:none;\">\n",
       "\n",
       "  <svg xmlns=\"http://www.w3.org/2000/svg\" height=\"24px\" viewBox=\"0 -960 960 960\">\n",
       "    <path d=\"M120-120v-720h720v720H120Zm60-500h600v-160H180v160Zm220 220h160v-160H400v160Zm0 220h160v-160H400v160ZM180-400h160v-160H180v160Zm440 0h160v-160H620v160ZM180-180h160v-160H180v160Zm440 0h160v-160H620v160Z\"/>\n",
       "  </svg>\n",
       "    </button>\n",
       "\n",
       "  <style>\n",
       "    .colab-df-container {\n",
       "      display:flex;\n",
       "      gap: 12px;\n",
       "    }\n",
       "\n",
       "    .colab-df-convert {\n",
       "      background-color: #E8F0FE;\n",
       "      border: none;\n",
       "      border-radius: 50%;\n",
       "      cursor: pointer;\n",
       "      display: none;\n",
       "      fill: #1967D2;\n",
       "      height: 32px;\n",
       "      padding: 0 0 0 0;\n",
       "      width: 32px;\n",
       "    }\n",
       "\n",
       "    .colab-df-convert:hover {\n",
       "      background-color: #E2EBFA;\n",
       "      box-shadow: 0px 1px 2px rgba(60, 64, 67, 0.3), 0px 1px 3px 1px rgba(60, 64, 67, 0.15);\n",
       "      fill: #174EA6;\n",
       "    }\n",
       "\n",
       "    .colab-df-buttons div {\n",
       "      margin-bottom: 4px;\n",
       "    }\n",
       "\n",
       "    [theme=dark] .colab-df-convert {\n",
       "      background-color: #3B4455;\n",
       "      fill: #D2E3FC;\n",
       "    }\n",
       "\n",
       "    [theme=dark] .colab-df-convert:hover {\n",
       "      background-color: #434B5C;\n",
       "      box-shadow: 0px 1px 3px 1px rgba(0, 0, 0, 0.15);\n",
       "      filter: drop-shadow(0px 1px 2px rgba(0, 0, 0, 0.3));\n",
       "      fill: #FFFFFF;\n",
       "    }\n",
       "  </style>\n",
       "\n",
       "    <script>\n",
       "      const buttonEl =\n",
       "        document.querySelector('#df-0cdd29cd-ec91-4f47-b9b8-5220dd8b5ee7 button.colab-df-convert');\n",
       "      buttonEl.style.display =\n",
       "        google.colab.kernel.accessAllowed ? 'block' : 'none';\n",
       "\n",
       "      async function convertToInteractive(key) {\n",
       "        const element = document.querySelector('#df-0cdd29cd-ec91-4f47-b9b8-5220dd8b5ee7');\n",
       "        const dataTable =\n",
       "          await google.colab.kernel.invokeFunction('convertToInteractive',\n",
       "                                                    [key], {});\n",
       "        if (!dataTable) return;\n",
       "\n",
       "        const docLinkHtml = 'Like what you see? Visit the ' +\n",
       "          '<a target=\"_blank\" href=https://colab.research.google.com/notebooks/data_table.ipynb>data table notebook</a>'\n",
       "          + ' to learn more about interactive tables.';\n",
       "        element.innerHTML = '';\n",
       "        dataTable['output_type'] = 'display_data';\n",
       "        await google.colab.output.renderOutput(dataTable, element);\n",
       "        const docLink = document.createElement('div');\n",
       "        docLink.innerHTML = docLinkHtml;\n",
       "        element.appendChild(docLink);\n",
       "      }\n",
       "    </script>\n",
       "  </div>\n",
       "\n",
       "\n",
       "<div id=\"df-0969de76-128c-4e57-a315-4d0a9e6822a5\">\n",
       "  <button class=\"colab-df-quickchart\" onclick=\"quickchart('df-0969de76-128c-4e57-a315-4d0a9e6822a5')\"\n",
       "            title=\"Suggest charts\"\n",
       "            style=\"display:none;\">\n",
       "\n",
       "<svg xmlns=\"http://www.w3.org/2000/svg\" height=\"24px\"viewBox=\"0 0 24 24\"\n",
       "     width=\"24px\">\n",
       "    <g>\n",
       "        <path d=\"M19 3H5c-1.1 0-2 .9-2 2v14c0 1.1.9 2 2 2h14c1.1 0 2-.9 2-2V5c0-1.1-.9-2-2-2zM9 17H7v-7h2v7zm4 0h-2V7h2v10zm4 0h-2v-4h2v4z\"/>\n",
       "    </g>\n",
       "</svg>\n",
       "  </button>\n",
       "\n",
       "<style>\n",
       "  .colab-df-quickchart {\n",
       "      --bg-color: #E8F0FE;\n",
       "      --fill-color: #1967D2;\n",
       "      --hover-bg-color: #E2EBFA;\n",
       "      --hover-fill-color: #174EA6;\n",
       "      --disabled-fill-color: #AAA;\n",
       "      --disabled-bg-color: #DDD;\n",
       "  }\n",
       "\n",
       "  [theme=dark] .colab-df-quickchart {\n",
       "      --bg-color: #3B4455;\n",
       "      --fill-color: #D2E3FC;\n",
       "      --hover-bg-color: #434B5C;\n",
       "      --hover-fill-color: #FFFFFF;\n",
       "      --disabled-bg-color: #3B4455;\n",
       "      --disabled-fill-color: #666;\n",
       "  }\n",
       "\n",
       "  .colab-df-quickchart {\n",
       "    background-color: var(--bg-color);\n",
       "    border: none;\n",
       "    border-radius: 50%;\n",
       "    cursor: pointer;\n",
       "    display: none;\n",
       "    fill: var(--fill-color);\n",
       "    height: 32px;\n",
       "    padding: 0;\n",
       "    width: 32px;\n",
       "  }\n",
       "\n",
       "  .colab-df-quickchart:hover {\n",
       "    background-color: var(--hover-bg-color);\n",
       "    box-shadow: 0 1px 2px rgba(60, 64, 67, 0.3), 0 1px 3px 1px rgba(60, 64, 67, 0.15);\n",
       "    fill: var(--button-hover-fill-color);\n",
       "  }\n",
       "\n",
       "  .colab-df-quickchart-complete:disabled,\n",
       "  .colab-df-quickchart-complete:disabled:hover {\n",
       "    background-color: var(--disabled-bg-color);\n",
       "    fill: var(--disabled-fill-color);\n",
       "    box-shadow: none;\n",
       "  }\n",
       "\n",
       "  .colab-df-spinner {\n",
       "    border: 2px solid var(--fill-color);\n",
       "    border-color: transparent;\n",
       "    border-bottom-color: var(--fill-color);\n",
       "    animation:\n",
       "      spin 1s steps(1) infinite;\n",
       "  }\n",
       "\n",
       "  @keyframes spin {\n",
       "    0% {\n",
       "      border-color: transparent;\n",
       "      border-bottom-color: var(--fill-color);\n",
       "      border-left-color: var(--fill-color);\n",
       "    }\n",
       "    20% {\n",
       "      border-color: transparent;\n",
       "      border-left-color: var(--fill-color);\n",
       "      border-top-color: var(--fill-color);\n",
       "    }\n",
       "    30% {\n",
       "      border-color: transparent;\n",
       "      border-left-color: var(--fill-color);\n",
       "      border-top-color: var(--fill-color);\n",
       "      border-right-color: var(--fill-color);\n",
       "    }\n",
       "    40% {\n",
       "      border-color: transparent;\n",
       "      border-right-color: var(--fill-color);\n",
       "      border-top-color: var(--fill-color);\n",
       "    }\n",
       "    60% {\n",
       "      border-color: transparent;\n",
       "      border-right-color: var(--fill-color);\n",
       "    }\n",
       "    80% {\n",
       "      border-color: transparent;\n",
       "      border-right-color: var(--fill-color);\n",
       "      border-bottom-color: var(--fill-color);\n",
       "    }\n",
       "    90% {\n",
       "      border-color: transparent;\n",
       "      border-bottom-color: var(--fill-color);\n",
       "    }\n",
       "  }\n",
       "</style>\n",
       "\n",
       "  <script>\n",
       "    async function quickchart(key) {\n",
       "      const quickchartButtonEl =\n",
       "        document.querySelector('#' + key + ' button');\n",
       "      quickchartButtonEl.disabled = true;  // To prevent multiple clicks.\n",
       "      quickchartButtonEl.classList.add('colab-df-spinner');\n",
       "      try {\n",
       "        const charts = await google.colab.kernel.invokeFunction(\n",
       "            'suggestCharts', [key], {});\n",
       "      } catch (error) {\n",
       "        console.error('Error during call to suggestCharts:', error);\n",
       "      }\n",
       "      quickchartButtonEl.classList.remove('colab-df-spinner');\n",
       "      quickchartButtonEl.classList.add('colab-df-quickchart-complete');\n",
       "    }\n",
       "    (() => {\n",
       "      let quickchartButtonEl =\n",
       "        document.querySelector('#df-0969de76-128c-4e57-a315-4d0a9e6822a5 button');\n",
       "      quickchartButtonEl.style.display =\n",
       "        google.colab.kernel.accessAllowed ? 'block' : 'none';\n",
       "    })();\n",
       "  </script>\n",
       "</div>\n",
       "\n",
       "    </div>\n",
       "  </div>\n"
      ],
      "text/plain": [
       "     Time        V1        V2        V3        V4        V5        V6  \\\n",
       "33   26.0 -0.529912  0.873892  1.347247  0.145457  0.414209  0.100223   \n",
       "35   26.0 -0.535388  0.865268  1.351076  0.147575  0.433680  0.086983   \n",
       "113  74.0  1.038370  0.127486  0.184456  1.109950  0.441699  0.945283   \n",
       "114  74.0  1.038370  0.127486  0.184456  1.109950  0.441699  0.945283   \n",
       "115  74.0  1.038370  0.127486  0.184456  1.109950  0.441699  0.945283   \n",
       "\n",
       "           V7        V8        V9  ...       V21       V22       V23  \\\n",
       "33   0.711206  0.176066 -0.286717  ...  0.046949  0.208105 -0.185548   \n",
       "35   0.693039  0.179742 -0.285642  ...  0.049526  0.206537 -0.187108   \n",
       "113 -0.036715  0.350995  0.118950  ...  0.102520  0.605089  0.023092   \n",
       "114 -0.036715  0.350995  0.118950  ...  0.102520  0.605089  0.023092   \n",
       "115 -0.036715  0.350995  0.118950  ...  0.102520  0.605089  0.023092   \n",
       "\n",
       "          V24       V25       V26       V27       V28  Amount  Class  \n",
       "33   0.001031  0.098816 -0.552904 -0.073288  0.023307    6.14      0  \n",
       "35   0.000753  0.098117 -0.553471 -0.078306  0.025427    1.77      0  \n",
       "113 -0.626463  0.479120 -0.166937  0.081247  0.001192    1.18      0  \n",
       "114 -0.626463  0.479120 -0.166937  0.081247  0.001192    1.18      0  \n",
       "115 -0.626463  0.479120 -0.166937  0.081247  0.001192    1.18      0  \n",
       "\n",
       "[5 rows x 31 columns]"
      ]
     },
     "execution_count": 14,
     "metadata": {},
     "output_type": "execute_result"
    }
   ],
   "source": [
    "# Verificando se temos dados duplicados\n",
    "duplicated = transactions.duplicated()\n",
    "\n",
    "# Visualizando os dados duplicados\n",
    "transactions[duplicated].head()"
   ]
  },
  {
   "cell_type": "code",
   "execution_count": null,
   "id": "921b090a",
   "metadata": {
    "colab": {
     "base_uri": "https://localhost:8080/"
    },
    "hidden": true,
    "id": "921b090a",
    "outputId": "41e78dab-350c-4684-8378-0da20e4e6e11"
   },
   "outputs": [
    {
     "name": "stdout",
     "output_type": "stream",
     "text": [
      "Temos, 1081 instâncias duplicadas. Isso representa 0.38% do total de instâncias.\n"
     ]
    }
   ],
   "source": [
    "count_duplicated = duplicated.sum()\n",
    "prop_duplicated = count_duplicated/rows\n",
    "\n",
    "print(f'Temos, {count_duplicated} instâncias duplicadas. Isso representa {prop_duplicated:.2%} do total de instâncias.')"
   ]
  },
  {
   "cell_type": "code",
   "execution_count": null,
   "id": "87e396b5",
   "metadata": {
    "hidden": true,
    "id": "87e396b5"
   },
   "outputs": [],
   "source": [
    "# Removendo os dados duplicados\n",
    "transactions = transactions.drop_duplicates()"
   ]
  },
  {
   "cell_type": "code",
   "execution_count": null,
   "id": "d4d8cd58",
   "metadata": {
    "colab": {
     "base_uri": "https://localhost:8080/"
    },
    "hidden": true,
    "id": "d4d8cd58",
    "outputId": "5b7967b0-8af7-48dc-b224-1bb6a3bb93af"
   },
   "outputs": [
    {
     "name": "stdout",
     "output_type": "stream",
     "text": [
      "Antes: (284807, 31)\n",
      "Agora: (283726, 31)\n"
     ]
    }
   ],
   "source": [
    "# Formato do datatset após remover dados duplicados\n",
    "rows_now, cols_now = transactions.shape\n",
    "\n",
    "print(f'Antes: ({rows}, {cols})')\n",
    "print(f'Agora: ({rows_now}, {cols_now})')"
   ]
  },
  {
   "cell_type": "code",
   "execution_count": null,
   "id": "7fd8ad17",
   "metadata": {
    "colab": {
     "base_uri": "https://localhost:8080/"
    },
    "hidden": true,
    "id": "7fd8ad17",
    "outputId": "6a0aa9e2-1fc5-49c9-de83-22035fb5dae5"
   },
   "outputs": [
    {
     "data": {
      "text/plain": [
       "Time      0\n",
       "V1        0\n",
       "V2        0\n",
       "V3        0\n",
       "V4        0\n",
       "V5        0\n",
       "V6        0\n",
       "V7        0\n",
       "V8        0\n",
       "V9        0\n",
       "V10       0\n",
       "V11       0\n",
       "V12       0\n",
       "V13       0\n",
       "V14       0\n",
       "V15       0\n",
       "V16       0\n",
       "V17       0\n",
       "V18       0\n",
       "V19       0\n",
       "V20       0\n",
       "V21       0\n",
       "V22       0\n",
       "V23       0\n",
       "V24       0\n",
       "V25       0\n",
       "V26       0\n",
       "V27       0\n",
       "V28       0\n",
       "Amount    0\n",
       "Class     0\n",
       "dtype: int64"
      ]
     },
     "execution_count": 18,
     "metadata": {},
     "output_type": "execute_result"
    }
   ],
   "source": [
    "# Verificando se há valores nulos\n",
    "transactions.isnull().sum()"
   ]
  },
  {
   "cell_type": "code",
   "execution_count": null,
   "id": "6f44246e",
   "metadata": {
    "colab": {
     "base_uri": "https://localhost:8080/"
    },
    "hidden": true,
    "id": "6f44246e",
    "outputId": "bbbe51ef-a7b1-4399-bd0a-73e555dbe727"
   },
   "outputs": [
    {
     "data": {
      "application/vnd.google.colaboratory.intrinsic+json": {
       "summary": "{\n  \"name\": \"transactions\",\n  \"rows\": 31,\n  \"fields\": [\n    {\n      \"column\": \"count\",\n      \"properties\": {\n        \"dtype\": \"number\",\n        \"std\": 0.0,\n        \"min\": 283726.0,\n        \"max\": 283726.0,\n        \"num_unique_values\": 1,\n        \"samples\": [\n          283726.0\n        ],\n        \"semantic_type\": \"\",\n        \"description\": \"\"\n      }\n    },\n    {\n      \"column\": \"mean\",\n      \"properties\": {\n        \"dtype\": \"number\",\n        \"std\": 17028.04991897315,\n        \"min\": -0.0041347556281216905,\n        \"max\": 94811.07759951502,\n        \"num_unique_values\": 31,\n        \"samples\": [\n          0.0017630316173302572\n        ],\n        \"semantic_type\": \"\",\n        \"description\": \"\"\n      }\n    },\n    {\n      \"column\": \"std\",\n      \"properties\": {\n        \"dtype\": \"number\",\n        \"std\": 8526.303220064401,\n        \"min\": 0.040796176259338644,\n        \"max\": 47481.047890619506,\n        \"num_unique_values\": 31,\n        \"samples\": [\n          0.39574388093203416\n        ],\n        \"semantic_type\": \"\",\n        \"description\": \"\"\n      }\n    },\n    {\n      \"column\": \"min\",\n      \"properties\": {\n        \"dtype\": \"number\",\n        \"std\": 26.795994690128566,\n        \"min\": -113.743306711146,\n        \"max\": 0.0,\n        \"num_unique_values\": 29,\n        \"samples\": [\n          -22.5656793207827\n        ],\n        \"semantic_type\": \"\",\n        \"description\": \"\"\n      }\n    },\n    {\n      \"column\": \"25%\",\n      \"properties\": {\n        \"dtype\": \"number\",\n        \"std\": 9735.508755563818,\n        \"min\": -0.9159513307412135,\n        \"max\": 54204.75,\n        \"num_unique_values\": 31,\n        \"samples\": [\n          -0.07064082235554203\n        ],\n        \"semantic_type\": \"\",\n        \"description\": \"\"\n      }\n    },\n    {\n      \"column\": \"50%\",\n      \"properties\": {\n        \"dtype\": \"number\",\n        \"std\": 15211.091156934373,\n        \"min\": -0.2751676384634605,\n        \"max\": 84692.5,\n        \"num_unique_values\": 31,\n        \"samples\": [\n          0.001478594836733\n        ],\n        \"semantic_type\": \"\",\n        \"description\": \"\"\n      }\n    },\n    {\n      \"column\": \"75%\",\n      \"properties\": {\n        \"dtype\": \"number\",\n        \"std\": 25018.114858408364,\n        \"min\": 0.0,\n        \"max\": 139298.0,\n        \"num_unique_values\": 31,\n        \"samples\": [\n          0.09120816464559875\n        ],\n        \"semantic_type\": \"\",\n        \"description\": \"\"\n      }\n    },\n    {\n      \"column\": \"max\",\n      \"properties\": {\n        \"dtype\": \"number\",\n        \"std\": 31218.887137498223,\n        \"min\": 1.0,\n        \"max\": 172792.0,\n        \"num_unique_values\": 31,\n        \"samples\": [\n          31.6121981061363\n        ],\n        \"semantic_type\": \"\",\n        \"description\": \"\"\n      }\n    }\n  ]\n}",
       "type": "dataframe"
      },
      "text/html": [
       "\n",
       "  <div id=\"df-d607b344-c45e-4f40-93d4-387b43c338ea\" class=\"colab-df-container\">\n",
       "    <div>\n",
       "<style scoped>\n",
       "    .dataframe tbody tr th:only-of-type {\n",
       "        vertical-align: middle;\n",
       "    }\n",
       "\n",
       "    .dataframe tbody tr th {\n",
       "        vertical-align: top;\n",
       "    }\n",
       "\n",
       "    .dataframe thead th {\n",
       "        text-align: right;\n",
       "    }\n",
       "</style>\n",
       "<table border=\"1\" class=\"dataframe\">\n",
       "  <thead>\n",
       "    <tr style=\"text-align: right;\">\n",
       "      <th></th>\n",
       "      <th>count</th>\n",
       "      <th>mean</th>\n",
       "      <th>std</th>\n",
       "      <th>min</th>\n",
       "      <th>25%</th>\n",
       "      <th>50%</th>\n",
       "      <th>75%</th>\n",
       "      <th>max</th>\n",
       "    </tr>\n",
       "  </thead>\n",
       "  <tbody>\n",
       "    <tr>\n",
       "      <th>Time</th>\n",
       "      <td>283726.0</td>\n",
       "      <td>94811.077600</td>\n",
       "      <td>47481.047891</td>\n",
       "      <td>0.000000</td>\n",
       "      <td>54204.750000</td>\n",
       "      <td>84692.500000</td>\n",
       "      <td>139298.000000</td>\n",
       "      <td>172792.000000</td>\n",
       "    </tr>\n",
       "    <tr>\n",
       "      <th>V1</th>\n",
       "      <td>283726.0</td>\n",
       "      <td>0.005917</td>\n",
       "      <td>1.948026</td>\n",
       "      <td>-56.407510</td>\n",
       "      <td>-0.915951</td>\n",
       "      <td>0.020384</td>\n",
       "      <td>1.316068</td>\n",
       "      <td>2.454930</td>\n",
       "    </tr>\n",
       "    <tr>\n",
       "      <th>V2</th>\n",
       "      <td>283726.0</td>\n",
       "      <td>-0.004135</td>\n",
       "      <td>1.646703</td>\n",
       "      <td>-72.715728</td>\n",
       "      <td>-0.600321</td>\n",
       "      <td>0.063949</td>\n",
       "      <td>0.800283</td>\n",
       "      <td>22.057729</td>\n",
       "    </tr>\n",
       "    <tr>\n",
       "      <th>V3</th>\n",
       "      <td>283726.0</td>\n",
       "      <td>0.001613</td>\n",
       "      <td>1.508682</td>\n",
       "      <td>-48.325589</td>\n",
       "      <td>-0.889682</td>\n",
       "      <td>0.179963</td>\n",
       "      <td>1.026960</td>\n",
       "      <td>9.382558</td>\n",
       "    </tr>\n",
       "    <tr>\n",
       "      <th>V4</th>\n",
       "      <td>283726.0</td>\n",
       "      <td>-0.002966</td>\n",
       "      <td>1.414184</td>\n",
       "      <td>-5.683171</td>\n",
       "      <td>-0.850134</td>\n",
       "      <td>-0.022248</td>\n",
       "      <td>0.739647</td>\n",
       "      <td>16.875344</td>\n",
       "    </tr>\n",
       "    <tr>\n",
       "      <th>V5</th>\n",
       "      <td>283726.0</td>\n",
       "      <td>0.001828</td>\n",
       "      <td>1.377008</td>\n",
       "      <td>-113.743307</td>\n",
       "      <td>-0.689830</td>\n",
       "      <td>-0.053468</td>\n",
       "      <td>0.612218</td>\n",
       "      <td>34.801666</td>\n",
       "    </tr>\n",
       "    <tr>\n",
       "      <th>V6</th>\n",
       "      <td>283726.0</td>\n",
       "      <td>-0.001139</td>\n",
       "      <td>1.331931</td>\n",
       "      <td>-26.160506</td>\n",
       "      <td>-0.769031</td>\n",
       "      <td>-0.275168</td>\n",
       "      <td>0.396792</td>\n",
       "      <td>73.301626</td>\n",
       "    </tr>\n",
       "    <tr>\n",
       "      <th>V7</th>\n",
       "      <td>283726.0</td>\n",
       "      <td>0.001801</td>\n",
       "      <td>1.227664</td>\n",
       "      <td>-43.557242</td>\n",
       "      <td>-0.552509</td>\n",
       "      <td>0.040859</td>\n",
       "      <td>0.570474</td>\n",
       "      <td>120.589494</td>\n",
       "    </tr>\n",
       "    <tr>\n",
       "      <th>V8</th>\n",
       "      <td>283726.0</td>\n",
       "      <td>-0.000854</td>\n",
       "      <td>1.179054</td>\n",
       "      <td>-73.216718</td>\n",
       "      <td>-0.208828</td>\n",
       "      <td>0.021898</td>\n",
       "      <td>0.325704</td>\n",
       "      <td>20.007208</td>\n",
       "    </tr>\n",
       "    <tr>\n",
       "      <th>V9</th>\n",
       "      <td>283726.0</td>\n",
       "      <td>-0.001596</td>\n",
       "      <td>1.095492</td>\n",
       "      <td>-13.434066</td>\n",
       "      <td>-0.644221</td>\n",
       "      <td>-0.052596</td>\n",
       "      <td>0.595977</td>\n",
       "      <td>15.594995</td>\n",
       "    </tr>\n",
       "    <tr>\n",
       "      <th>V10</th>\n",
       "      <td>283726.0</td>\n",
       "      <td>-0.001441</td>\n",
       "      <td>1.076407</td>\n",
       "      <td>-24.588262</td>\n",
       "      <td>-0.535578</td>\n",
       "      <td>-0.093237</td>\n",
       "      <td>0.453619</td>\n",
       "      <td>23.745136</td>\n",
       "    </tr>\n",
       "    <tr>\n",
       "      <th>V11</th>\n",
       "      <td>283726.0</td>\n",
       "      <td>0.000202</td>\n",
       "      <td>1.018720</td>\n",
       "      <td>-4.797473</td>\n",
       "      <td>-0.761649</td>\n",
       "      <td>-0.032306</td>\n",
       "      <td>0.739579</td>\n",
       "      <td>12.018913</td>\n",
       "    </tr>\n",
       "    <tr>\n",
       "      <th>V12</th>\n",
       "      <td>283726.0</td>\n",
       "      <td>-0.000715</td>\n",
       "      <td>0.994674</td>\n",
       "      <td>-18.683715</td>\n",
       "      <td>-0.406198</td>\n",
       "      <td>0.139072</td>\n",
       "      <td>0.616976</td>\n",
       "      <td>7.848392</td>\n",
       "    </tr>\n",
       "    <tr>\n",
       "      <th>V13</th>\n",
       "      <td>283726.0</td>\n",
       "      <td>0.000603</td>\n",
       "      <td>0.995430</td>\n",
       "      <td>-5.791881</td>\n",
       "      <td>-0.647862</td>\n",
       "      <td>-0.012927</td>\n",
       "      <td>0.663178</td>\n",
       "      <td>7.126883</td>\n",
       "    </tr>\n",
       "    <tr>\n",
       "      <th>V14</th>\n",
       "      <td>283726.0</td>\n",
       "      <td>0.000252</td>\n",
       "      <td>0.952215</td>\n",
       "      <td>-19.214325</td>\n",
       "      <td>-0.425732</td>\n",
       "      <td>0.050209</td>\n",
       "      <td>0.492336</td>\n",
       "      <td>10.526766</td>\n",
       "    </tr>\n",
       "    <tr>\n",
       "      <th>V15</th>\n",
       "      <td>283726.0</td>\n",
       "      <td>0.001043</td>\n",
       "      <td>0.914894</td>\n",
       "      <td>-4.498945</td>\n",
       "      <td>-0.581452</td>\n",
       "      <td>0.049299</td>\n",
       "      <td>0.650104</td>\n",
       "      <td>8.877742</td>\n",
       "    </tr>\n",
       "    <tr>\n",
       "      <th>V16</th>\n",
       "      <td>283726.0</td>\n",
       "      <td>0.001162</td>\n",
       "      <td>0.873696</td>\n",
       "      <td>-14.129855</td>\n",
       "      <td>-0.466860</td>\n",
       "      <td>0.067119</td>\n",
       "      <td>0.523512</td>\n",
       "      <td>17.315112</td>\n",
       "    </tr>\n",
       "    <tr>\n",
       "      <th>V17</th>\n",
       "      <td>283726.0</td>\n",
       "      <td>0.000170</td>\n",
       "      <td>0.842507</td>\n",
       "      <td>-25.162799</td>\n",
       "      <td>-0.483928</td>\n",
       "      <td>-0.065867</td>\n",
       "      <td>0.398972</td>\n",
       "      <td>9.253526</td>\n",
       "    </tr>\n",
       "    <tr>\n",
       "      <th>V18</th>\n",
       "      <td>283726.0</td>\n",
       "      <td>0.001515</td>\n",
       "      <td>0.837378</td>\n",
       "      <td>-9.498746</td>\n",
       "      <td>-0.498014</td>\n",
       "      <td>-0.002142</td>\n",
       "      <td>0.501956</td>\n",
       "      <td>5.041069</td>\n",
       "    </tr>\n",
       "    <tr>\n",
       "      <th>V19</th>\n",
       "      <td>283726.0</td>\n",
       "      <td>-0.000264</td>\n",
       "      <td>0.813379</td>\n",
       "      <td>-7.213527</td>\n",
       "      <td>-0.456289</td>\n",
       "      <td>0.003367</td>\n",
       "      <td>0.458508</td>\n",
       "      <td>5.591971</td>\n",
       "    </tr>\n",
       "    <tr>\n",
       "      <th>V20</th>\n",
       "      <td>283726.0</td>\n",
       "      <td>0.000187</td>\n",
       "      <td>0.769984</td>\n",
       "      <td>-54.497720</td>\n",
       "      <td>-0.211469</td>\n",
       "      <td>-0.062353</td>\n",
       "      <td>0.133207</td>\n",
       "      <td>39.420904</td>\n",
       "    </tr>\n",
       "    <tr>\n",
       "      <th>V21</th>\n",
       "      <td>283726.0</td>\n",
       "      <td>-0.000371</td>\n",
       "      <td>0.723909</td>\n",
       "      <td>-34.830382</td>\n",
       "      <td>-0.228305</td>\n",
       "      <td>-0.029441</td>\n",
       "      <td>0.186194</td>\n",
       "      <td>27.202839</td>\n",
       "    </tr>\n",
       "    <tr>\n",
       "      <th>V22</th>\n",
       "      <td>283726.0</td>\n",
       "      <td>-0.000015</td>\n",
       "      <td>0.724550</td>\n",
       "      <td>-10.933144</td>\n",
       "      <td>-0.542700</td>\n",
       "      <td>0.006675</td>\n",
       "      <td>0.528245</td>\n",
       "      <td>10.503090</td>\n",
       "    </tr>\n",
       "    <tr>\n",
       "      <th>V23</th>\n",
       "      <td>283726.0</td>\n",
       "      <td>0.000198</td>\n",
       "      <td>0.623702</td>\n",
       "      <td>-44.807735</td>\n",
       "      <td>-0.161703</td>\n",
       "      <td>-0.011159</td>\n",
       "      <td>0.147748</td>\n",
       "      <td>22.528412</td>\n",
       "    </tr>\n",
       "    <tr>\n",
       "      <th>V24</th>\n",
       "      <td>283726.0</td>\n",
       "      <td>0.000214</td>\n",
       "      <td>0.605627</td>\n",
       "      <td>-2.836627</td>\n",
       "      <td>-0.354453</td>\n",
       "      <td>0.041016</td>\n",
       "      <td>0.439738</td>\n",
       "      <td>4.584549</td>\n",
       "    </tr>\n",
       "    <tr>\n",
       "      <th>V25</th>\n",
       "      <td>283726.0</td>\n",
       "      <td>-0.000232</td>\n",
       "      <td>0.521220</td>\n",
       "      <td>-10.295397</td>\n",
       "      <td>-0.317485</td>\n",
       "      <td>0.016278</td>\n",
       "      <td>0.350667</td>\n",
       "      <td>7.519589</td>\n",
       "    </tr>\n",
       "    <tr>\n",
       "      <th>V26</th>\n",
       "      <td>283726.0</td>\n",
       "      <td>0.000149</td>\n",
       "      <td>0.482053</td>\n",
       "      <td>-2.604551</td>\n",
       "      <td>-0.326763</td>\n",
       "      <td>-0.052172</td>\n",
       "      <td>0.240261</td>\n",
       "      <td>3.517346</td>\n",
       "    </tr>\n",
       "    <tr>\n",
       "      <th>V27</th>\n",
       "      <td>283726.0</td>\n",
       "      <td>0.001763</td>\n",
       "      <td>0.395744</td>\n",
       "      <td>-22.565679</td>\n",
       "      <td>-0.070641</td>\n",
       "      <td>0.001479</td>\n",
       "      <td>0.091208</td>\n",
       "      <td>31.612198</td>\n",
       "    </tr>\n",
       "    <tr>\n",
       "      <th>V28</th>\n",
       "      <td>283726.0</td>\n",
       "      <td>0.000547</td>\n",
       "      <td>0.328027</td>\n",
       "      <td>-15.430084</td>\n",
       "      <td>-0.052818</td>\n",
       "      <td>0.011288</td>\n",
       "      <td>0.078276</td>\n",
       "      <td>33.847808</td>\n",
       "    </tr>\n",
       "    <tr>\n",
       "      <th>Amount</th>\n",
       "      <td>283726.0</td>\n",
       "      <td>88.472687</td>\n",
       "      <td>250.399437</td>\n",
       "      <td>0.000000</td>\n",
       "      <td>5.600000</td>\n",
       "      <td>22.000000</td>\n",
       "      <td>77.510000</td>\n",
       "      <td>25691.160000</td>\n",
       "    </tr>\n",
       "    <tr>\n",
       "      <th>Class</th>\n",
       "      <td>283726.0</td>\n",
       "      <td>0.001667</td>\n",
       "      <td>0.040796</td>\n",
       "      <td>0.000000</td>\n",
       "      <td>0.000000</td>\n",
       "      <td>0.000000</td>\n",
       "      <td>0.000000</td>\n",
       "      <td>1.000000</td>\n",
       "    </tr>\n",
       "  </tbody>\n",
       "</table>\n",
       "</div>\n",
       "    <div class=\"colab-df-buttons\">\n",
       "\n",
       "  <div class=\"colab-df-container\">\n",
       "    <button class=\"colab-df-convert\" onclick=\"convertToInteractive('df-d607b344-c45e-4f40-93d4-387b43c338ea')\"\n",
       "            title=\"Convert this dataframe to an interactive table.\"\n",
       "            style=\"display:none;\">\n",
       "\n",
       "  <svg xmlns=\"http://www.w3.org/2000/svg\" height=\"24px\" viewBox=\"0 -960 960 960\">\n",
       "    <path d=\"M120-120v-720h720v720H120Zm60-500h600v-160H180v160Zm220 220h160v-160H400v160Zm0 220h160v-160H400v160ZM180-400h160v-160H180v160Zm440 0h160v-160H620v160ZM180-180h160v-160H180v160Zm440 0h160v-160H620v160Z\"/>\n",
       "  </svg>\n",
       "    </button>\n",
       "\n",
       "  <style>\n",
       "    .colab-df-container {\n",
       "      display:flex;\n",
       "      gap: 12px;\n",
       "    }\n",
       "\n",
       "    .colab-df-convert {\n",
       "      background-color: #E8F0FE;\n",
       "      border: none;\n",
       "      border-radius: 50%;\n",
       "      cursor: pointer;\n",
       "      display: none;\n",
       "      fill: #1967D2;\n",
       "      height: 32px;\n",
       "      padding: 0 0 0 0;\n",
       "      width: 32px;\n",
       "    }\n",
       "\n",
       "    .colab-df-convert:hover {\n",
       "      background-color: #E2EBFA;\n",
       "      box-shadow: 0px 1px 2px rgba(60, 64, 67, 0.3), 0px 1px 3px 1px rgba(60, 64, 67, 0.15);\n",
       "      fill: #174EA6;\n",
       "    }\n",
       "\n",
       "    .colab-df-buttons div {\n",
       "      margin-bottom: 4px;\n",
       "    }\n",
       "\n",
       "    [theme=dark] .colab-df-convert {\n",
       "      background-color: #3B4455;\n",
       "      fill: #D2E3FC;\n",
       "    }\n",
       "\n",
       "    [theme=dark] .colab-df-convert:hover {\n",
       "      background-color: #434B5C;\n",
       "      box-shadow: 0px 1px 3px 1px rgba(0, 0, 0, 0.15);\n",
       "      filter: drop-shadow(0px 1px 2px rgba(0, 0, 0, 0.3));\n",
       "      fill: #FFFFFF;\n",
       "    }\n",
       "  </style>\n",
       "\n",
       "    <script>\n",
       "      const buttonEl =\n",
       "        document.querySelector('#df-d607b344-c45e-4f40-93d4-387b43c338ea button.colab-df-convert');\n",
       "      buttonEl.style.display =\n",
       "        google.colab.kernel.accessAllowed ? 'block' : 'none';\n",
       "\n",
       "      async function convertToInteractive(key) {\n",
       "        const element = document.querySelector('#df-d607b344-c45e-4f40-93d4-387b43c338ea');\n",
       "        const dataTable =\n",
       "          await google.colab.kernel.invokeFunction('convertToInteractive',\n",
       "                                                    [key], {});\n",
       "        if (!dataTable) return;\n",
       "\n",
       "        const docLinkHtml = 'Like what you see? Visit the ' +\n",
       "          '<a target=\"_blank\" href=https://colab.research.google.com/notebooks/data_table.ipynb>data table notebook</a>'\n",
       "          + ' to learn more about interactive tables.';\n",
       "        element.innerHTML = '';\n",
       "        dataTable['output_type'] = 'display_data';\n",
       "        await google.colab.output.renderOutput(dataTable, element);\n",
       "        const docLink = document.createElement('div');\n",
       "        docLink.innerHTML = docLinkHtml;\n",
       "        element.appendChild(docLink);\n",
       "      }\n",
       "    </script>\n",
       "  </div>\n",
       "\n",
       "\n",
       "<div id=\"df-e77b4b3b-ca8b-448e-ae3e-6676ffa0c82e\">\n",
       "  <button class=\"colab-df-quickchart\" onclick=\"quickchart('df-e77b4b3b-ca8b-448e-ae3e-6676ffa0c82e')\"\n",
       "            title=\"Suggest charts\"\n",
       "            style=\"display:none;\">\n",
       "\n",
       "<svg xmlns=\"http://www.w3.org/2000/svg\" height=\"24px\"viewBox=\"0 0 24 24\"\n",
       "     width=\"24px\">\n",
       "    <g>\n",
       "        <path d=\"M19 3H5c-1.1 0-2 .9-2 2v14c0 1.1.9 2 2 2h14c1.1 0 2-.9 2-2V5c0-1.1-.9-2-2-2zM9 17H7v-7h2v7zm4 0h-2V7h2v10zm4 0h-2v-4h2v4z\"/>\n",
       "    </g>\n",
       "</svg>\n",
       "  </button>\n",
       "\n",
       "<style>\n",
       "  .colab-df-quickchart {\n",
       "      --bg-color: #E8F0FE;\n",
       "      --fill-color: #1967D2;\n",
       "      --hover-bg-color: #E2EBFA;\n",
       "      --hover-fill-color: #174EA6;\n",
       "      --disabled-fill-color: #AAA;\n",
       "      --disabled-bg-color: #DDD;\n",
       "  }\n",
       "\n",
       "  [theme=dark] .colab-df-quickchart {\n",
       "      --bg-color: #3B4455;\n",
       "      --fill-color: #D2E3FC;\n",
       "      --hover-bg-color: #434B5C;\n",
       "      --hover-fill-color: #FFFFFF;\n",
       "      --disabled-bg-color: #3B4455;\n",
       "      --disabled-fill-color: #666;\n",
       "  }\n",
       "\n",
       "  .colab-df-quickchart {\n",
       "    background-color: var(--bg-color);\n",
       "    border: none;\n",
       "    border-radius: 50%;\n",
       "    cursor: pointer;\n",
       "    display: none;\n",
       "    fill: var(--fill-color);\n",
       "    height: 32px;\n",
       "    padding: 0;\n",
       "    width: 32px;\n",
       "  }\n",
       "\n",
       "  .colab-df-quickchart:hover {\n",
       "    background-color: var(--hover-bg-color);\n",
       "    box-shadow: 0 1px 2px rgba(60, 64, 67, 0.3), 0 1px 3px 1px rgba(60, 64, 67, 0.15);\n",
       "    fill: var(--button-hover-fill-color);\n",
       "  }\n",
       "\n",
       "  .colab-df-quickchart-complete:disabled,\n",
       "  .colab-df-quickchart-complete:disabled:hover {\n",
       "    background-color: var(--disabled-bg-color);\n",
       "    fill: var(--disabled-fill-color);\n",
       "    box-shadow: none;\n",
       "  }\n",
       "\n",
       "  .colab-df-spinner {\n",
       "    border: 2px solid var(--fill-color);\n",
       "    border-color: transparent;\n",
       "    border-bottom-color: var(--fill-color);\n",
       "    animation:\n",
       "      spin 1s steps(1) infinite;\n",
       "  }\n",
       "\n",
       "  @keyframes spin {\n",
       "    0% {\n",
       "      border-color: transparent;\n",
       "      border-bottom-color: var(--fill-color);\n",
       "      border-left-color: var(--fill-color);\n",
       "    }\n",
       "    20% {\n",
       "      border-color: transparent;\n",
       "      border-left-color: var(--fill-color);\n",
       "      border-top-color: var(--fill-color);\n",
       "    }\n",
       "    30% {\n",
       "      border-color: transparent;\n",
       "      border-left-color: var(--fill-color);\n",
       "      border-top-color: var(--fill-color);\n",
       "      border-right-color: var(--fill-color);\n",
       "    }\n",
       "    40% {\n",
       "      border-color: transparent;\n",
       "      border-right-color: var(--fill-color);\n",
       "      border-top-color: var(--fill-color);\n",
       "    }\n",
       "    60% {\n",
       "      border-color: transparent;\n",
       "      border-right-color: var(--fill-color);\n",
       "    }\n",
       "    80% {\n",
       "      border-color: transparent;\n",
       "      border-right-color: var(--fill-color);\n",
       "      border-bottom-color: var(--fill-color);\n",
       "    }\n",
       "    90% {\n",
       "      border-color: transparent;\n",
       "      border-bottom-color: var(--fill-color);\n",
       "    }\n",
       "  }\n",
       "</style>\n",
       "\n",
       "  <script>\n",
       "    async function quickchart(key) {\n",
       "      const quickchartButtonEl =\n",
       "        document.querySelector('#' + key + ' button');\n",
       "      quickchartButtonEl.disabled = true;  // To prevent multiple clicks.\n",
       "      quickchartButtonEl.classList.add('colab-df-spinner');\n",
       "      try {\n",
       "        const charts = await google.colab.kernel.invokeFunction(\n",
       "            'suggestCharts', [key], {});\n",
       "      } catch (error) {\n",
       "        console.error('Error during call to suggestCharts:', error);\n",
       "      }\n",
       "      quickchartButtonEl.classList.remove('colab-df-spinner');\n",
       "      quickchartButtonEl.classList.add('colab-df-quickchart-complete');\n",
       "    }\n",
       "    (() => {\n",
       "      let quickchartButtonEl =\n",
       "        document.querySelector('#df-e77b4b3b-ca8b-448e-ae3e-6676ffa0c82e button');\n",
       "      quickchartButtonEl.style.display =\n",
       "        google.colab.kernel.accessAllowed ? 'block' : 'none';\n",
       "    })();\n",
       "  </script>\n",
       "</div>\n",
       "\n",
       "    </div>\n",
       "  </div>\n"
      ],
      "text/plain": [
       "           count          mean           std         min           25%  \\\n",
       "Time    283726.0  94811.077600  47481.047891    0.000000  54204.750000   \n",
       "V1      283726.0      0.005917      1.948026  -56.407510     -0.915951   \n",
       "V2      283726.0     -0.004135      1.646703  -72.715728     -0.600321   \n",
       "V3      283726.0      0.001613      1.508682  -48.325589     -0.889682   \n",
       "V4      283726.0     -0.002966      1.414184   -5.683171     -0.850134   \n",
       "V5      283726.0      0.001828      1.377008 -113.743307     -0.689830   \n",
       "V6      283726.0     -0.001139      1.331931  -26.160506     -0.769031   \n",
       "V7      283726.0      0.001801      1.227664  -43.557242     -0.552509   \n",
       "V8      283726.0     -0.000854      1.179054  -73.216718     -0.208828   \n",
       "V9      283726.0     -0.001596      1.095492  -13.434066     -0.644221   \n",
       "V10     283726.0     -0.001441      1.076407  -24.588262     -0.535578   \n",
       "V11     283726.0      0.000202      1.018720   -4.797473     -0.761649   \n",
       "V12     283726.0     -0.000715      0.994674  -18.683715     -0.406198   \n",
       "V13     283726.0      0.000603      0.995430   -5.791881     -0.647862   \n",
       "V14     283726.0      0.000252      0.952215  -19.214325     -0.425732   \n",
       "V15     283726.0      0.001043      0.914894   -4.498945     -0.581452   \n",
       "V16     283726.0      0.001162      0.873696  -14.129855     -0.466860   \n",
       "V17     283726.0      0.000170      0.842507  -25.162799     -0.483928   \n",
       "V18     283726.0      0.001515      0.837378   -9.498746     -0.498014   \n",
       "V19     283726.0     -0.000264      0.813379   -7.213527     -0.456289   \n",
       "V20     283726.0      0.000187      0.769984  -54.497720     -0.211469   \n",
       "V21     283726.0     -0.000371      0.723909  -34.830382     -0.228305   \n",
       "V22     283726.0     -0.000015      0.724550  -10.933144     -0.542700   \n",
       "V23     283726.0      0.000198      0.623702  -44.807735     -0.161703   \n",
       "V24     283726.0      0.000214      0.605627   -2.836627     -0.354453   \n",
       "V25     283726.0     -0.000232      0.521220  -10.295397     -0.317485   \n",
       "V26     283726.0      0.000149      0.482053   -2.604551     -0.326763   \n",
       "V27     283726.0      0.001763      0.395744  -22.565679     -0.070641   \n",
       "V28     283726.0      0.000547      0.328027  -15.430084     -0.052818   \n",
       "Amount  283726.0     88.472687    250.399437    0.000000      5.600000   \n",
       "Class   283726.0      0.001667      0.040796    0.000000      0.000000   \n",
       "\n",
       "                 50%            75%            max  \n",
       "Time    84692.500000  139298.000000  172792.000000  \n",
       "V1          0.020384       1.316068       2.454930  \n",
       "V2          0.063949       0.800283      22.057729  \n",
       "V3          0.179963       1.026960       9.382558  \n",
       "V4         -0.022248       0.739647      16.875344  \n",
       "V5         -0.053468       0.612218      34.801666  \n",
       "V6         -0.275168       0.396792      73.301626  \n",
       "V7          0.040859       0.570474     120.589494  \n",
       "V8          0.021898       0.325704      20.007208  \n",
       "V9         -0.052596       0.595977      15.594995  \n",
       "V10        -0.093237       0.453619      23.745136  \n",
       "V11        -0.032306       0.739579      12.018913  \n",
       "V12         0.139072       0.616976       7.848392  \n",
       "V13        -0.012927       0.663178       7.126883  \n",
       "V14         0.050209       0.492336      10.526766  \n",
       "V15         0.049299       0.650104       8.877742  \n",
       "V16         0.067119       0.523512      17.315112  \n",
       "V17        -0.065867       0.398972       9.253526  \n",
       "V18        -0.002142       0.501956       5.041069  \n",
       "V19         0.003367       0.458508       5.591971  \n",
       "V20        -0.062353       0.133207      39.420904  \n",
       "V21        -0.029441       0.186194      27.202839  \n",
       "V22         0.006675       0.528245      10.503090  \n",
       "V23        -0.011159       0.147748      22.528412  \n",
       "V24         0.041016       0.439738       4.584549  \n",
       "V25         0.016278       0.350667       7.519589  \n",
       "V26        -0.052172       0.240261       3.517346  \n",
       "V27         0.001479       0.091208      31.612198  \n",
       "V28         0.011288       0.078276      33.847808  \n",
       "Amount     22.000000      77.510000   25691.160000  \n",
       "Class       0.000000       0.000000       1.000000  "
      ]
     },
     "execution_count": 19,
     "metadata": {},
     "output_type": "execute_result"
    }
   ],
   "source": [
    "transactions.describe().T"
   ]
  },
  {
   "cell_type": "markdown",
   "id": "8fc2e3ef",
   "metadata": {
    "heading_collapsed": true,
    "hidden": true,
    "id": "8fc2e3ef"
   },
   "source": [
    "## Dividindo o conjunto em Treino e Teste"
   ]
  },
  {
   "cell_type": "code",
   "execution_count": null,
   "id": "3de3cbce",
   "metadata": {
    "hidden": true,
    "id": "3de3cbce"
   },
   "outputs": [],
   "source": [
    "X = transactions.drop(['Class'], axis=1)\n",
    "y = transactions['Class']"
   ]
  },
  {
   "cell_type": "code",
   "execution_count": null,
   "id": "b9495f3c",
   "metadata": {
    "hidden": true,
    "id": "b9495f3c"
   },
   "outputs": [],
   "source": [
    "# Dividindo o conjunto em treino e teste\n",
    "X_train_val, X_test, y_train_val, y_test = train_test_split(X, y, test_size=0.2, stratify=y, random_state=27)"
   ]
  },
  {
   "cell_type": "code",
   "execution_count": null,
   "id": "rC6WXgcPoBmm",
   "metadata": {
    "hidden": true,
    "id": "rC6WXgcPoBmm"
   },
   "outputs": [],
   "source": [
    "#Validation dataset\n",
    "X_train, X_val, y_train, y_val = train_test_split(X_train_val, y_train_val, test_size=0.25, stratify=y_train_val, random_state=27)"
   ]
  },
  {
   "cell_type": "code",
   "execution_count": null,
   "id": "ZRStbxsUkAjX",
   "metadata": {
    "hidden": true,
    "id": "ZRStbxsUkAjX"
   },
   "outputs": [],
   "source": [
    "# Copiando os datasets originais\n",
    "X_train_copy = X_train.copy()\n",
    "X_test_copy = X_test.copy()"
   ]
  },
  {
   "cell_type": "code",
   "execution_count": null,
   "id": "7de94718",
   "metadata": {
    "colab": {
     "base_uri": "https://localhost:8080/"
    },
    "hidden": true,
    "id": "7de94718",
    "outputId": "6900ef71-1658-488c-f7a0-3ca5740dde20"
   },
   "outputs": [
    {
     "name": "stdout",
     "output_type": "stream",
     "text": [
      "Treino:     (170235, 30) (170235,)\n",
      "Validação:  (56745, 30) (56745,)\n",
      "Teste:      (56746, 30) (56746,)\n"
     ]
    }
   ],
   "source": [
    "# Formato dos dados de treino e teste\n",
    "print('Treino:    ', X_train.shape, y_train.shape)\n",
    "print('Validação: ', X_val.shape, y_val.shape)\n",
    "print('Teste:     ', X_test.shape, y_test.shape)"
   ]
  },
  {
   "cell_type": "code",
   "execution_count": null,
   "id": "9a0b3d31",
   "metadata": {
    "colab": {
     "base_uri": "https://localhost:8080/"
    },
    "hidden": true,
    "id": "9a0b3d31",
    "outputId": "da244363-b6cd-4337-ec7d-418b5c5981ac"
   },
   "outputs": [
    {
     "data": {
      "application/vnd.google.colaboratory.intrinsic+json": {
       "summary": "{\n  \"name\": \"prop\",\n  \"rows\": 2,\n  \"fields\": [\n    {\n      \"column\": \"Class\",\n      \"properties\": {\n        \"dtype\": \"number\",\n        \"std\": 0,\n        \"min\": 0,\n        \"max\": 1,\n        \"num_unique_values\": 2,\n        \"samples\": [\n          1,\n          0\n        ],\n        \"semantic_type\": \"\",\n        \"description\": \"\"\n      }\n    },\n    {\n      \"column\": \"Treino\",\n      \"properties\": {\n        \"dtype\": \"number\",\n        \"std\": 0.704755781461746,\n        \"min\": 0.0016624078479748584,\n        \"max\": 0.9983375921520251,\n        \"num_unique_values\": 2,\n        \"samples\": [\n          0.0016624078479748584,\n          0.9983375921520251\n        ],\n        \"semantic_type\": \"\",\n        \"description\": \"\"\n      }\n    },\n    {\n      \"column\": \"Valida\\u00e7\\u00e3o\",\n      \"properties\": {\n        \"dtype\": \"number\",\n        \"std\": 0.7047391666227015,\n        \"min\": 0.001674156313331571,\n        \"max\": 0.9983258436866684,\n        \"num_unique_values\": 2,\n        \"samples\": [\n          0.001674156313331571,\n          0.9983258436866684\n        ],\n        \"semantic_type\": \"\",\n        \"description\": \"\"\n      }\n    },\n    {\n      \"column\": \"Teste\",\n      \"properties\": {\n        \"dtype\": \"number\",\n        \"std\": 0.7047392083457227,\n        \"min\": 0.0016741268107003137,\n        \"max\": 0.9983258731892997,\n        \"num_unique_values\": 2,\n        \"samples\": [\n          0.0016741268107003137,\n          0.9983258731892997\n        ],\n        \"semantic_type\": \"\",\n        \"description\": \"\"\n      }\n    }\n  ]\n}",
       "type": "dataframe",
       "variable_name": "prop"
      },
      "text/html": [
       "\n",
       "  <div id=\"df-5b8be80b-dd7a-4f9a-a8cd-2aa425c6b317\" class=\"colab-df-container\">\n",
       "    <div>\n",
       "<style scoped>\n",
       "    .dataframe tbody tr th:only-of-type {\n",
       "        vertical-align: middle;\n",
       "    }\n",
       "\n",
       "    .dataframe tbody tr th {\n",
       "        vertical-align: top;\n",
       "    }\n",
       "\n",
       "    .dataframe thead th {\n",
       "        text-align: right;\n",
       "    }\n",
       "</style>\n",
       "<table border=\"1\" class=\"dataframe\">\n",
       "  <thead>\n",
       "    <tr style=\"text-align: right;\">\n",
       "      <th></th>\n",
       "      <th>Treino</th>\n",
       "      <th>Validação</th>\n",
       "      <th>Teste</th>\n",
       "    </tr>\n",
       "    <tr>\n",
       "      <th>Class</th>\n",
       "      <th></th>\n",
       "      <th></th>\n",
       "      <th></th>\n",
       "    </tr>\n",
       "  </thead>\n",
       "  <tbody>\n",
       "    <tr>\n",
       "      <th>0</th>\n",
       "      <td>0.998338</td>\n",
       "      <td>0.998326</td>\n",
       "      <td>0.998326</td>\n",
       "    </tr>\n",
       "    <tr>\n",
       "      <th>1</th>\n",
       "      <td>0.001662</td>\n",
       "      <td>0.001674</td>\n",
       "      <td>0.001674</td>\n",
       "    </tr>\n",
       "  </tbody>\n",
       "</table>\n",
       "</div>\n",
       "    <div class=\"colab-df-buttons\">\n",
       "\n",
       "  <div class=\"colab-df-container\">\n",
       "    <button class=\"colab-df-convert\" onclick=\"convertToInteractive('df-5b8be80b-dd7a-4f9a-a8cd-2aa425c6b317')\"\n",
       "            title=\"Convert this dataframe to an interactive table.\"\n",
       "            style=\"display:none;\">\n",
       "\n",
       "  <svg xmlns=\"http://www.w3.org/2000/svg\" height=\"24px\" viewBox=\"0 -960 960 960\">\n",
       "    <path d=\"M120-120v-720h720v720H120Zm60-500h600v-160H180v160Zm220 220h160v-160H400v160Zm0 220h160v-160H400v160ZM180-400h160v-160H180v160Zm440 0h160v-160H620v160ZM180-180h160v-160H180v160Zm440 0h160v-160H620v160Z\"/>\n",
       "  </svg>\n",
       "    </button>\n",
       "\n",
       "  <style>\n",
       "    .colab-df-container {\n",
       "      display:flex;\n",
       "      gap: 12px;\n",
       "    }\n",
       "\n",
       "    .colab-df-convert {\n",
       "      background-color: #E8F0FE;\n",
       "      border: none;\n",
       "      border-radius: 50%;\n",
       "      cursor: pointer;\n",
       "      display: none;\n",
       "      fill: #1967D2;\n",
       "      height: 32px;\n",
       "      padding: 0 0 0 0;\n",
       "      width: 32px;\n",
       "    }\n",
       "\n",
       "    .colab-df-convert:hover {\n",
       "      background-color: #E2EBFA;\n",
       "      box-shadow: 0px 1px 2px rgba(60, 64, 67, 0.3), 0px 1px 3px 1px rgba(60, 64, 67, 0.15);\n",
       "      fill: #174EA6;\n",
       "    }\n",
       "\n",
       "    .colab-df-buttons div {\n",
       "      margin-bottom: 4px;\n",
       "    }\n",
       "\n",
       "    [theme=dark] .colab-df-convert {\n",
       "      background-color: #3B4455;\n",
       "      fill: #D2E3FC;\n",
       "    }\n",
       "\n",
       "    [theme=dark] .colab-df-convert:hover {\n",
       "      background-color: #434B5C;\n",
       "      box-shadow: 0px 1px 3px 1px rgba(0, 0, 0, 0.15);\n",
       "      filter: drop-shadow(0px 1px 2px rgba(0, 0, 0, 0.3));\n",
       "      fill: #FFFFFF;\n",
       "    }\n",
       "  </style>\n",
       "\n",
       "    <script>\n",
       "      const buttonEl =\n",
       "        document.querySelector('#df-5b8be80b-dd7a-4f9a-a8cd-2aa425c6b317 button.colab-df-convert');\n",
       "      buttonEl.style.display =\n",
       "        google.colab.kernel.accessAllowed ? 'block' : 'none';\n",
       "\n",
       "      async function convertToInteractive(key) {\n",
       "        const element = document.querySelector('#df-5b8be80b-dd7a-4f9a-a8cd-2aa425c6b317');\n",
       "        const dataTable =\n",
       "          await google.colab.kernel.invokeFunction('convertToInteractive',\n",
       "                                                    [key], {});\n",
       "        if (!dataTable) return;\n",
       "\n",
       "        const docLinkHtml = 'Like what you see? Visit the ' +\n",
       "          '<a target=\"_blank\" href=https://colab.research.google.com/notebooks/data_table.ipynb>data table notebook</a>'\n",
       "          + ' to learn more about interactive tables.';\n",
       "        element.innerHTML = '';\n",
       "        dataTable['output_type'] = 'display_data';\n",
       "        await google.colab.output.renderOutput(dataTable, element);\n",
       "        const docLink = document.createElement('div');\n",
       "        docLink.innerHTML = docLinkHtml;\n",
       "        element.appendChild(docLink);\n",
       "      }\n",
       "    </script>\n",
       "  </div>\n",
       "\n",
       "\n",
       "<div id=\"df-d87953b9-4161-456d-9493-da4fed45b0c2\">\n",
       "  <button class=\"colab-df-quickchart\" onclick=\"quickchart('df-d87953b9-4161-456d-9493-da4fed45b0c2')\"\n",
       "            title=\"Suggest charts\"\n",
       "            style=\"display:none;\">\n",
       "\n",
       "<svg xmlns=\"http://www.w3.org/2000/svg\" height=\"24px\"viewBox=\"0 0 24 24\"\n",
       "     width=\"24px\">\n",
       "    <g>\n",
       "        <path d=\"M19 3H5c-1.1 0-2 .9-2 2v14c0 1.1.9 2 2 2h14c1.1 0 2-.9 2-2V5c0-1.1-.9-2-2-2zM9 17H7v-7h2v7zm4 0h-2V7h2v10zm4 0h-2v-4h2v4z\"/>\n",
       "    </g>\n",
       "</svg>\n",
       "  </button>\n",
       "\n",
       "<style>\n",
       "  .colab-df-quickchart {\n",
       "      --bg-color: #E8F0FE;\n",
       "      --fill-color: #1967D2;\n",
       "      --hover-bg-color: #E2EBFA;\n",
       "      --hover-fill-color: #174EA6;\n",
       "      --disabled-fill-color: #AAA;\n",
       "      --disabled-bg-color: #DDD;\n",
       "  }\n",
       "\n",
       "  [theme=dark] .colab-df-quickchart {\n",
       "      --bg-color: #3B4455;\n",
       "      --fill-color: #D2E3FC;\n",
       "      --hover-bg-color: #434B5C;\n",
       "      --hover-fill-color: #FFFFFF;\n",
       "      --disabled-bg-color: #3B4455;\n",
       "      --disabled-fill-color: #666;\n",
       "  }\n",
       "\n",
       "  .colab-df-quickchart {\n",
       "    background-color: var(--bg-color);\n",
       "    border: none;\n",
       "    border-radius: 50%;\n",
       "    cursor: pointer;\n",
       "    display: none;\n",
       "    fill: var(--fill-color);\n",
       "    height: 32px;\n",
       "    padding: 0;\n",
       "    width: 32px;\n",
       "  }\n",
       "\n",
       "  .colab-df-quickchart:hover {\n",
       "    background-color: var(--hover-bg-color);\n",
       "    box-shadow: 0 1px 2px rgba(60, 64, 67, 0.3), 0 1px 3px 1px rgba(60, 64, 67, 0.15);\n",
       "    fill: var(--button-hover-fill-color);\n",
       "  }\n",
       "\n",
       "  .colab-df-quickchart-complete:disabled,\n",
       "  .colab-df-quickchart-complete:disabled:hover {\n",
       "    background-color: var(--disabled-bg-color);\n",
       "    fill: var(--disabled-fill-color);\n",
       "    box-shadow: none;\n",
       "  }\n",
       "\n",
       "  .colab-df-spinner {\n",
       "    border: 2px solid var(--fill-color);\n",
       "    border-color: transparent;\n",
       "    border-bottom-color: var(--fill-color);\n",
       "    animation:\n",
       "      spin 1s steps(1) infinite;\n",
       "  }\n",
       "\n",
       "  @keyframes spin {\n",
       "    0% {\n",
       "      border-color: transparent;\n",
       "      border-bottom-color: var(--fill-color);\n",
       "      border-left-color: var(--fill-color);\n",
       "    }\n",
       "    20% {\n",
       "      border-color: transparent;\n",
       "      border-left-color: var(--fill-color);\n",
       "      border-top-color: var(--fill-color);\n",
       "    }\n",
       "    30% {\n",
       "      border-color: transparent;\n",
       "      border-left-color: var(--fill-color);\n",
       "      border-top-color: var(--fill-color);\n",
       "      border-right-color: var(--fill-color);\n",
       "    }\n",
       "    40% {\n",
       "      border-color: transparent;\n",
       "      border-right-color: var(--fill-color);\n",
       "      border-top-color: var(--fill-color);\n",
       "    }\n",
       "    60% {\n",
       "      border-color: transparent;\n",
       "      border-right-color: var(--fill-color);\n",
       "    }\n",
       "    80% {\n",
       "      border-color: transparent;\n",
       "      border-right-color: var(--fill-color);\n",
       "      border-bottom-color: var(--fill-color);\n",
       "    }\n",
       "    90% {\n",
       "      border-color: transparent;\n",
       "      border-bottom-color: var(--fill-color);\n",
       "    }\n",
       "  }\n",
       "</style>\n",
       "\n",
       "  <script>\n",
       "    async function quickchart(key) {\n",
       "      const quickchartButtonEl =\n",
       "        document.querySelector('#' + key + ' button');\n",
       "      quickchartButtonEl.disabled = true;  // To prevent multiple clicks.\n",
       "      quickchartButtonEl.classList.add('colab-df-spinner');\n",
       "      try {\n",
       "        const charts = await google.colab.kernel.invokeFunction(\n",
       "            'suggestCharts', [key], {});\n",
       "      } catch (error) {\n",
       "        console.error('Error during call to suggestCharts:', error);\n",
       "      }\n",
       "      quickchartButtonEl.classList.remove('colab-df-spinner');\n",
       "      quickchartButtonEl.classList.add('colab-df-quickchart-complete');\n",
       "    }\n",
       "    (() => {\n",
       "      let quickchartButtonEl =\n",
       "        document.querySelector('#df-d87953b9-4161-456d-9493-da4fed45b0c2 button');\n",
       "      quickchartButtonEl.style.display =\n",
       "        google.colab.kernel.accessAllowed ? 'block' : 'none';\n",
       "    })();\n",
       "  </script>\n",
       "</div>\n",
       "\n",
       "  <div id=\"id_8085c5c4-e771-43d2-8257-6aa00a9de15b\">\n",
       "    <style>\n",
       "      .colab-df-generate {\n",
       "        background-color: #E8F0FE;\n",
       "        border: none;\n",
       "        border-radius: 50%;\n",
       "        cursor: pointer;\n",
       "        display: none;\n",
       "        fill: #1967D2;\n",
       "        height: 32px;\n",
       "        padding: 0 0 0 0;\n",
       "        width: 32px;\n",
       "      }\n",
       "\n",
       "      .colab-df-generate:hover {\n",
       "        background-color: #E2EBFA;\n",
       "        box-shadow: 0px 1px 2px rgba(60, 64, 67, 0.3), 0px 1px 3px 1px rgba(60, 64, 67, 0.15);\n",
       "        fill: #174EA6;\n",
       "      }\n",
       "\n",
       "      [theme=dark] .colab-df-generate {\n",
       "        background-color: #3B4455;\n",
       "        fill: #D2E3FC;\n",
       "      }\n",
       "\n",
       "      [theme=dark] .colab-df-generate:hover {\n",
       "        background-color: #434B5C;\n",
       "        box-shadow: 0px 1px 3px 1px rgba(0, 0, 0, 0.15);\n",
       "        filter: drop-shadow(0px 1px 2px rgba(0, 0, 0, 0.3));\n",
       "        fill: #FFFFFF;\n",
       "      }\n",
       "    </style>\n",
       "    <button class=\"colab-df-generate\" onclick=\"generateWithVariable('prop')\"\n",
       "            title=\"Generate code using this dataframe.\"\n",
       "            style=\"display:none;\">\n",
       "\n",
       "  <svg xmlns=\"http://www.w3.org/2000/svg\" height=\"24px\"viewBox=\"0 0 24 24\"\n",
       "       width=\"24px\">\n",
       "    <path d=\"M7,19H8.4L18.45,9,17,7.55,7,17.6ZM5,21V16.75L18.45,3.32a2,2,0,0,1,2.83,0l1.4,1.43a1.91,1.91,0,0,1,.58,1.4,1.91,1.91,0,0,1-.58,1.4L9.25,21ZM18.45,9,17,7.55Zm-12,3A5.31,5.31,0,0,0,4.9,8.1,5.31,5.31,0,0,0,1,6.5,5.31,5.31,0,0,0,4.9,4.9,5.31,5.31,0,0,0,6.5,1,5.31,5.31,0,0,0,8.1,4.9,5.31,5.31,0,0,0,12,6.5,5.46,5.46,0,0,0,6.5,12Z\"/>\n",
       "  </svg>\n",
       "    </button>\n",
       "    <script>\n",
       "      (() => {\n",
       "      const buttonEl =\n",
       "        document.querySelector('#id_8085c5c4-e771-43d2-8257-6aa00a9de15b button.colab-df-generate');\n",
       "      buttonEl.style.display =\n",
       "        google.colab.kernel.accessAllowed ? 'block' : 'none';\n",
       "\n",
       "      buttonEl.onclick = () => {\n",
       "        google.colab.notebook.generateWithVariable('prop');\n",
       "      }\n",
       "      })();\n",
       "    </script>\n",
       "  </div>\n",
       "\n",
       "    </div>\n",
       "  </div>\n"
      ],
      "text/plain": [
       "         Treino  Validação     Teste\n",
       "Class                               \n",
       "0      0.998338   0.998326  0.998326\n",
       "1      0.001662   0.001674  0.001674"
      ]
     },
     "execution_count": 25,
     "metadata": {},
     "output_type": "execute_result"
    }
   ],
   "source": [
    "# Proporção do Target em cada conjunto\n",
    "prop = pd.DataFrame({\"Treino\":y_train.value_counts(1), \"Validação\":y_val.value_counts(1), \"Teste\":y_test.value_counts(1)})\n",
    "prop"
   ]
  },
  {
   "cell_type": "code",
   "execution_count": null,
   "id": "5dd0cc1d",
   "metadata": {
    "hidden": true,
    "id": "5dd0cc1d"
   },
   "outputs": [],
   "source": [
    "# Juntando os dados de treino em um dataframe\n",
    "df_train = X_train.merge(y_train, how= 'inner', left_index=True, right_index=True)"
   ]
  },
  {
   "cell_type": "markdown",
   "id": "1e1cdcb6",
   "metadata": {
    "heading_collapsed": true,
    "id": "1e1cdcb6"
   },
   "source": [
    "# 3. EDA (Análise Exploratória de Dados)"
   ]
  },
  {
   "cell_type": "code",
   "execution_count": null,
   "id": "f1e73846",
   "metadata": {
    "hidden": true,
    "id": "f1e73846"
   },
   "outputs": [],
   "source": [
    "group_amount_by_class = df_train[['Class', 'Amount']].groupby(by=['Class']).describe()"
   ]
  },
  {
   "cell_type": "code",
   "execution_count": null,
   "id": "VnowxAgpkxSj",
   "metadata": {
    "colab": {
     "base_uri": "https://localhost:8080/"
    },
    "hidden": true,
    "id": "VnowxAgpkxSj",
    "outputId": "602f2ce6-28cd-41ee-acf3-8a9fdcd01072"
   },
   "outputs": [
    {
     "data": {
      "application/vnd.google.colaboratory.intrinsic+json": {
       "summary": "{\n  \"name\": \"group_amount_by_class\",\n  \"rows\": 2,\n  \"fields\": [\n    {\n      \"column\": [\n        \"Class\",\n        \"\"\n      ],\n      \"properties\": {\n        \"dtype\": \"number\",\n        \"std\": 0,\n        \"min\": 0,\n        \"max\": 1,\n        \"num_unique_values\": 2,\n        \"samples\": [\n          1,\n          0\n        ],\n        \"semantic_type\": \"\",\n        \"description\": \"\"\n      }\n    },\n    {\n      \"column\": [\n        \"Amount\",\n        \"count\"\n      ],\n      \"properties\": {\n        \"dtype\": \"number\",\n        \"std\": 119974.10045714033,\n        \"min\": 283.0,\n        \"max\": 169952.0,\n        \"num_unique_values\": 2,\n        \"samples\": [\n          283.0,\n          169952.0\n        ],\n        \"semantic_type\": \"\",\n        \"description\": \"\"\n      }\n    },\n    {\n      \"column\": [\n        \"Amount\",\n        \"mean\"\n      ],\n      \"properties\": {\n        \"dtype\": \"number\",\n        \"std\": 16.54054513870313,\n        \"min\": 88.73389645311616,\n        \"max\": 112.1257597173145,\n        \"num_unique_values\": 2,\n        \"samples\": [\n          112.1257597173145,\n          88.73389645311616\n        ],\n        \"semantic_type\": \"\",\n        \"description\": \"\"\n      }\n    },\n    {\n      \"column\": [\n        \"Amount\",\n        \"std\"\n      ],\n      \"properties\": {\n        \"dtype\": \"number\",\n        \"std\": 22.50111589979426,\n        \"min\": 220.54688236509563,\n        \"max\": 252.36826563911356,\n        \"num_unique_values\": 2,\n        \"samples\": [\n          220.54688236509563,\n          252.36826563911356\n        ],\n        \"semantic_type\": \"\",\n        \"description\": \"\"\n      }\n    },\n    {\n      \"column\": [\n        \"Amount\",\n        \"min\"\n      ],\n      \"properties\": {\n        \"dtype\": \"number\",\n        \"std\": 0.0,\n        \"min\": 0.0,\n        \"max\": 0.0,\n        \"num_unique_values\": 1,\n        \"samples\": [\n          0.0\n        ],\n        \"semantic_type\": \"\",\n        \"description\": \"\"\n      }\n    },\n    {\n      \"column\": [\n        \"Amount\",\n        \"25%\"\n      ],\n      \"properties\": {\n        \"dtype\": \"number\",\n        \"std\": 3.3728993462598313,\n        \"min\": 1.0,\n        \"max\": 5.77,\n        \"num_unique_values\": 2,\n        \"samples\": [\n          1.0\n        ],\n        \"semantic_type\": \"\",\n        \"description\": \"\"\n      }\n    },\n    {\n      \"column\": [\n        \"Amount\",\n        \"50%\"\n      ],\n      \"properties\": {\n        \"dtype\": \"number\",\n        \"std\": 10.20355085252188,\n        \"min\": 7.61,\n        \"max\": 22.04,\n        \"num_unique_values\": 2,\n        \"samples\": [\n          7.61\n        ],\n        \"semantic_type\": \"\",\n        \"description\": \"\"\n      }\n    },\n    {\n      \"column\": [\n        \"Amount\",\n        \"75%\"\n      ],\n      \"properties\": {\n        \"dtype\": \"number\",\n        \"std\": 18.759542904879105,\n        \"min\": 77.89,\n        \"max\": 104.42,\n        \"num_unique_values\": 2,\n        \"samples\": [\n          104.42\n        ],\n        \"semantic_type\": \"\",\n        \"description\": \"\"\n      }\n    },\n    {\n      \"column\": [\n        \"Amount\",\n        \"max\"\n      ],\n      \"properties\": {\n        \"dtype\": \"number\",\n        \"std\": 17102.24724433751,\n        \"min\": 1504.93,\n        \"max\": 25691.16,\n        \"num_unique_values\": 2,\n        \"samples\": [\n          1504.93\n        ],\n        \"semantic_type\": \"\",\n        \"description\": \"\"\n      }\n    }\n  ]\n}",
       "type": "dataframe",
       "variable_name": "group_amount_by_class"
      },
      "text/html": [
       "\n",
       "  <div id=\"df-b344736a-8e6c-427d-9e55-cb256f52a009\" class=\"colab-df-container\">\n",
       "    <div>\n",
       "<style scoped>\n",
       "    .dataframe tbody tr th:only-of-type {\n",
       "        vertical-align: middle;\n",
       "    }\n",
       "\n",
       "    .dataframe tbody tr th {\n",
       "        vertical-align: top;\n",
       "    }\n",
       "\n",
       "    .dataframe thead tr th {\n",
       "        text-align: left;\n",
       "    }\n",
       "\n",
       "    .dataframe thead tr:last-of-type th {\n",
       "        text-align: right;\n",
       "    }\n",
       "</style>\n",
       "<table border=\"1\" class=\"dataframe\">\n",
       "  <thead>\n",
       "    <tr>\n",
       "      <th></th>\n",
       "      <th colspan=\"8\" halign=\"left\">Amount</th>\n",
       "    </tr>\n",
       "    <tr>\n",
       "      <th></th>\n",
       "      <th>count</th>\n",
       "      <th>mean</th>\n",
       "      <th>std</th>\n",
       "      <th>min</th>\n",
       "      <th>25%</th>\n",
       "      <th>50%</th>\n",
       "      <th>75%</th>\n",
       "      <th>max</th>\n",
       "    </tr>\n",
       "    <tr>\n",
       "      <th>Class</th>\n",
       "      <th></th>\n",
       "      <th></th>\n",
       "      <th></th>\n",
       "      <th></th>\n",
       "      <th></th>\n",
       "      <th></th>\n",
       "      <th></th>\n",
       "      <th></th>\n",
       "    </tr>\n",
       "  </thead>\n",
       "  <tbody>\n",
       "    <tr>\n",
       "      <th>0</th>\n",
       "      <td>169952.0</td>\n",
       "      <td>88.733896</td>\n",
       "      <td>252.368266</td>\n",
       "      <td>0.0</td>\n",
       "      <td>5.77</td>\n",
       "      <td>22.04</td>\n",
       "      <td>77.89</td>\n",
       "      <td>25691.16</td>\n",
       "    </tr>\n",
       "    <tr>\n",
       "      <th>1</th>\n",
       "      <td>283.0</td>\n",
       "      <td>112.125760</td>\n",
       "      <td>220.546882</td>\n",
       "      <td>0.0</td>\n",
       "      <td>1.00</td>\n",
       "      <td>7.61</td>\n",
       "      <td>104.42</td>\n",
       "      <td>1504.93</td>\n",
       "    </tr>\n",
       "  </tbody>\n",
       "</table>\n",
       "</div>\n",
       "    <div class=\"colab-df-buttons\">\n",
       "\n",
       "  <div class=\"colab-df-container\">\n",
       "    <button class=\"colab-df-convert\" onclick=\"convertToInteractive('df-b344736a-8e6c-427d-9e55-cb256f52a009')\"\n",
       "            title=\"Convert this dataframe to an interactive table.\"\n",
       "            style=\"display:none;\">\n",
       "\n",
       "  <svg xmlns=\"http://www.w3.org/2000/svg\" height=\"24px\" viewBox=\"0 -960 960 960\">\n",
       "    <path d=\"M120-120v-720h720v720H120Zm60-500h600v-160H180v160Zm220 220h160v-160H400v160Zm0 220h160v-160H400v160ZM180-400h160v-160H180v160Zm440 0h160v-160H620v160ZM180-180h160v-160H180v160Zm440 0h160v-160H620v160Z\"/>\n",
       "  </svg>\n",
       "    </button>\n",
       "\n",
       "  <style>\n",
       "    .colab-df-container {\n",
       "      display:flex;\n",
       "      gap: 12px;\n",
       "    }\n",
       "\n",
       "    .colab-df-convert {\n",
       "      background-color: #E8F0FE;\n",
       "      border: none;\n",
       "      border-radius: 50%;\n",
       "      cursor: pointer;\n",
       "      display: none;\n",
       "      fill: #1967D2;\n",
       "      height: 32px;\n",
       "      padding: 0 0 0 0;\n",
       "      width: 32px;\n",
       "    }\n",
       "\n",
       "    .colab-df-convert:hover {\n",
       "      background-color: #E2EBFA;\n",
       "      box-shadow: 0px 1px 2px rgba(60, 64, 67, 0.3), 0px 1px 3px 1px rgba(60, 64, 67, 0.15);\n",
       "      fill: #174EA6;\n",
       "    }\n",
       "\n",
       "    .colab-df-buttons div {\n",
       "      margin-bottom: 4px;\n",
       "    }\n",
       "\n",
       "    [theme=dark] .colab-df-convert {\n",
       "      background-color: #3B4455;\n",
       "      fill: #D2E3FC;\n",
       "    }\n",
       "\n",
       "    [theme=dark] .colab-df-convert:hover {\n",
       "      background-color: #434B5C;\n",
       "      box-shadow: 0px 1px 3px 1px rgba(0, 0, 0, 0.15);\n",
       "      filter: drop-shadow(0px 1px 2px rgba(0, 0, 0, 0.3));\n",
       "      fill: #FFFFFF;\n",
       "    }\n",
       "  </style>\n",
       "\n",
       "    <script>\n",
       "      const buttonEl =\n",
       "        document.querySelector('#df-b344736a-8e6c-427d-9e55-cb256f52a009 button.colab-df-convert');\n",
       "      buttonEl.style.display =\n",
       "        google.colab.kernel.accessAllowed ? 'block' : 'none';\n",
       "\n",
       "      async function convertToInteractive(key) {\n",
       "        const element = document.querySelector('#df-b344736a-8e6c-427d-9e55-cb256f52a009');\n",
       "        const dataTable =\n",
       "          await google.colab.kernel.invokeFunction('convertToInteractive',\n",
       "                                                    [key], {});\n",
       "        if (!dataTable) return;\n",
       "\n",
       "        const docLinkHtml = 'Like what you see? Visit the ' +\n",
       "          '<a target=\"_blank\" href=https://colab.research.google.com/notebooks/data_table.ipynb>data table notebook</a>'\n",
       "          + ' to learn more about interactive tables.';\n",
       "        element.innerHTML = '';\n",
       "        dataTable['output_type'] = 'display_data';\n",
       "        await google.colab.output.renderOutput(dataTable, element);\n",
       "        const docLink = document.createElement('div');\n",
       "        docLink.innerHTML = docLinkHtml;\n",
       "        element.appendChild(docLink);\n",
       "      }\n",
       "    </script>\n",
       "  </div>\n",
       "\n",
       "\n",
       "<div id=\"df-5c955f5d-8ac7-4dd4-be54-49a1aa4f2c4f\">\n",
       "  <button class=\"colab-df-quickchart\" onclick=\"quickchart('df-5c955f5d-8ac7-4dd4-be54-49a1aa4f2c4f')\"\n",
       "            title=\"Suggest charts\"\n",
       "            style=\"display:none;\">\n",
       "\n",
       "<svg xmlns=\"http://www.w3.org/2000/svg\" height=\"24px\"viewBox=\"0 0 24 24\"\n",
       "     width=\"24px\">\n",
       "    <g>\n",
       "        <path d=\"M19 3H5c-1.1 0-2 .9-2 2v14c0 1.1.9 2 2 2h14c1.1 0 2-.9 2-2V5c0-1.1-.9-2-2-2zM9 17H7v-7h2v7zm4 0h-2V7h2v10zm4 0h-2v-4h2v4z\"/>\n",
       "    </g>\n",
       "</svg>\n",
       "  </button>\n",
       "\n",
       "<style>\n",
       "  .colab-df-quickchart {\n",
       "      --bg-color: #E8F0FE;\n",
       "      --fill-color: #1967D2;\n",
       "      --hover-bg-color: #E2EBFA;\n",
       "      --hover-fill-color: #174EA6;\n",
       "      --disabled-fill-color: #AAA;\n",
       "      --disabled-bg-color: #DDD;\n",
       "  }\n",
       "\n",
       "  [theme=dark] .colab-df-quickchart {\n",
       "      --bg-color: #3B4455;\n",
       "      --fill-color: #D2E3FC;\n",
       "      --hover-bg-color: #434B5C;\n",
       "      --hover-fill-color: #FFFFFF;\n",
       "      --disabled-bg-color: #3B4455;\n",
       "      --disabled-fill-color: #666;\n",
       "  }\n",
       "\n",
       "  .colab-df-quickchart {\n",
       "    background-color: var(--bg-color);\n",
       "    border: none;\n",
       "    border-radius: 50%;\n",
       "    cursor: pointer;\n",
       "    display: none;\n",
       "    fill: var(--fill-color);\n",
       "    height: 32px;\n",
       "    padding: 0;\n",
       "    width: 32px;\n",
       "  }\n",
       "\n",
       "  .colab-df-quickchart:hover {\n",
       "    background-color: var(--hover-bg-color);\n",
       "    box-shadow: 0 1px 2px rgba(60, 64, 67, 0.3), 0 1px 3px 1px rgba(60, 64, 67, 0.15);\n",
       "    fill: var(--button-hover-fill-color);\n",
       "  }\n",
       "\n",
       "  .colab-df-quickchart-complete:disabled,\n",
       "  .colab-df-quickchart-complete:disabled:hover {\n",
       "    background-color: var(--disabled-bg-color);\n",
       "    fill: var(--disabled-fill-color);\n",
       "    box-shadow: none;\n",
       "  }\n",
       "\n",
       "  .colab-df-spinner {\n",
       "    border: 2px solid var(--fill-color);\n",
       "    border-color: transparent;\n",
       "    border-bottom-color: var(--fill-color);\n",
       "    animation:\n",
       "      spin 1s steps(1) infinite;\n",
       "  }\n",
       "\n",
       "  @keyframes spin {\n",
       "    0% {\n",
       "      border-color: transparent;\n",
       "      border-bottom-color: var(--fill-color);\n",
       "      border-left-color: var(--fill-color);\n",
       "    }\n",
       "    20% {\n",
       "      border-color: transparent;\n",
       "      border-left-color: var(--fill-color);\n",
       "      border-top-color: var(--fill-color);\n",
       "    }\n",
       "    30% {\n",
       "      border-color: transparent;\n",
       "      border-left-color: var(--fill-color);\n",
       "      border-top-color: var(--fill-color);\n",
       "      border-right-color: var(--fill-color);\n",
       "    }\n",
       "    40% {\n",
       "      border-color: transparent;\n",
       "      border-right-color: var(--fill-color);\n",
       "      border-top-color: var(--fill-color);\n",
       "    }\n",
       "    60% {\n",
       "      border-color: transparent;\n",
       "      border-right-color: var(--fill-color);\n",
       "    }\n",
       "    80% {\n",
       "      border-color: transparent;\n",
       "      border-right-color: var(--fill-color);\n",
       "      border-bottom-color: var(--fill-color);\n",
       "    }\n",
       "    90% {\n",
       "      border-color: transparent;\n",
       "      border-bottom-color: var(--fill-color);\n",
       "    }\n",
       "  }\n",
       "</style>\n",
       "\n",
       "  <script>\n",
       "    async function quickchart(key) {\n",
       "      const quickchartButtonEl =\n",
       "        document.querySelector('#' + key + ' button');\n",
       "      quickchartButtonEl.disabled = true;  // To prevent multiple clicks.\n",
       "      quickchartButtonEl.classList.add('colab-df-spinner');\n",
       "      try {\n",
       "        const charts = await google.colab.kernel.invokeFunction(\n",
       "            'suggestCharts', [key], {});\n",
       "      } catch (error) {\n",
       "        console.error('Error during call to suggestCharts:', error);\n",
       "      }\n",
       "      quickchartButtonEl.classList.remove('colab-df-spinner');\n",
       "      quickchartButtonEl.classList.add('colab-df-quickchart-complete');\n",
       "    }\n",
       "    (() => {\n",
       "      let quickchartButtonEl =\n",
       "        document.querySelector('#df-5c955f5d-8ac7-4dd4-be54-49a1aa4f2c4f button');\n",
       "      quickchartButtonEl.style.display =\n",
       "        google.colab.kernel.accessAllowed ? 'block' : 'none';\n",
       "    })();\n",
       "  </script>\n",
       "</div>\n",
       "\n",
       "  <div id=\"id_c1baadcf-687a-4ab1-982e-b13217f9b777\">\n",
       "    <style>\n",
       "      .colab-df-generate {\n",
       "        background-color: #E8F0FE;\n",
       "        border: none;\n",
       "        border-radius: 50%;\n",
       "        cursor: pointer;\n",
       "        display: none;\n",
       "        fill: #1967D2;\n",
       "        height: 32px;\n",
       "        padding: 0 0 0 0;\n",
       "        width: 32px;\n",
       "      }\n",
       "\n",
       "      .colab-df-generate:hover {\n",
       "        background-color: #E2EBFA;\n",
       "        box-shadow: 0px 1px 2px rgba(60, 64, 67, 0.3), 0px 1px 3px 1px rgba(60, 64, 67, 0.15);\n",
       "        fill: #174EA6;\n",
       "      }\n",
       "\n",
       "      [theme=dark] .colab-df-generate {\n",
       "        background-color: #3B4455;\n",
       "        fill: #D2E3FC;\n",
       "      }\n",
       "\n",
       "      [theme=dark] .colab-df-generate:hover {\n",
       "        background-color: #434B5C;\n",
       "        box-shadow: 0px 1px 3px 1px rgba(0, 0, 0, 0.15);\n",
       "        filter: drop-shadow(0px 1px 2px rgba(0, 0, 0, 0.3));\n",
       "        fill: #FFFFFF;\n",
       "      }\n",
       "    </style>\n",
       "    <button class=\"colab-df-generate\" onclick=\"generateWithVariable('group_amount_by_class')\"\n",
       "            title=\"Generate code using this dataframe.\"\n",
       "            style=\"display:none;\">\n",
       "\n",
       "  <svg xmlns=\"http://www.w3.org/2000/svg\" height=\"24px\"viewBox=\"0 0 24 24\"\n",
       "       width=\"24px\">\n",
       "    <path d=\"M7,19H8.4L18.45,9,17,7.55,7,17.6ZM5,21V16.75L18.45,3.32a2,2,0,0,1,2.83,0l1.4,1.43a1.91,1.91,0,0,1,.58,1.4,1.91,1.91,0,0,1-.58,1.4L9.25,21ZM18.45,9,17,7.55Zm-12,3A5.31,5.31,0,0,0,4.9,8.1,5.31,5.31,0,0,0,1,6.5,5.31,5.31,0,0,0,4.9,4.9,5.31,5.31,0,0,0,6.5,1,5.31,5.31,0,0,0,8.1,4.9,5.31,5.31,0,0,0,12,6.5,5.46,5.46,0,0,0,6.5,12Z\"/>\n",
       "  </svg>\n",
       "    </button>\n",
       "    <script>\n",
       "      (() => {\n",
       "      const buttonEl =\n",
       "        document.querySelector('#id_c1baadcf-687a-4ab1-982e-b13217f9b777 button.colab-df-generate');\n",
       "      buttonEl.style.display =\n",
       "        google.colab.kernel.accessAllowed ? 'block' : 'none';\n",
       "\n",
       "      buttonEl.onclick = () => {\n",
       "        google.colab.notebook.generateWithVariable('group_amount_by_class');\n",
       "      }\n",
       "      })();\n",
       "    </script>\n",
       "  </div>\n",
       "\n",
       "    </div>\n",
       "  </div>\n"
      ],
      "text/plain": [
       "         Amount                                                            \n",
       "          count        mean         std  min   25%    50%     75%       max\n",
       "Class                                                                      \n",
       "0      169952.0   88.733896  252.368266  0.0  5.77  22.04   77.89  25691.16\n",
       "1         283.0  112.125760  220.546882  0.0  1.00   7.61  104.42   1504.93"
      ]
     },
     "execution_count": 28,
     "metadata": {},
     "output_type": "execute_result"
    }
   ],
   "source": [
    "group_amount_by_class"
   ]
  },
  {
   "cell_type": "code",
   "execution_count": null,
   "id": "7d350a33",
   "metadata": {
    "colab": {
     "base_uri": "https://localhost:8080/"
    },
    "hidden": true,
    "id": "7d350a33",
    "outputId": "08004b01-8b64-46de-8894-b1de36a7c7ac"
   },
   "outputs": [
    {
     "data": {
      "image/png": "[encoded data removed]",
      "text/plain": [
       "<Figure size 1200x500 with 2 Axes>"
      ]
     },
     "metadata": {},
     "output_type": "display_data"
    }
   ],
   "source": [
    "fig, ax = plt.subplots(1, 2, sharey=True, figsize=(12, 5))\n",
    "sns.boxenplot(data=df_train, y='Amount', x='Class', ax=ax[0])\n",
    "sns.violinplot(data=df_train, y='Amount', x='Class', ax=ax[1])\n",
    "\n",
    "plt.subplots_adjust(wspace=0)\n",
    "sns.despine()"
   ]
  },
  {
   "cell_type": "code",
   "execution_count": null,
   "id": "42f416e4",
   "metadata": {
    "colab": {
     "base_uri": "https://localhost:8080/"
    },
    "hidden": true,
    "id": "42f416e4",
    "outputId": "2b5ebd19-07ed-446c-90e2-ea800057454b"
   },
   "outputs": [
    {
     "data": {
      "image/png": "[encoded data removed]",
      "text/plain": [
       "<Figure size 2000x1800 with 2 Axes>"
      ]
     },
     "metadata": {},
     "output_type": "display_data"
    }
   ],
   "source": [
    "plt.figure(figsize=(20, 18))\n",
    "#Matriz de Correlação\n",
    "correlation = df_train.corr(method='pearson')\n",
    "\n",
    "# Heatmap com rotação nos rótulos\n",
    "sns.heatmap(correlation, annot=True, fmt=\".2f\", cmap=\"coolwarm\", linewidths=0.5, linecolor='black', xticklabels=correlation.columns, yticklabels=correlation.columns, cbar_kws={\"shrink\": 0.8})\n",
    "\n",
    "# Espaçamento entre os rótulos\n",
    "plt.yticks(rotation=0)\n",
    "plt.xticks(rotation=90)\n",
    "\n",
    "plt.show()"
   ]
  },
  {
   "cell_type": "markdown",
   "id": "74934269",
   "metadata": {
    "hidden": true,
    "id": "74934269"
   },
   "source": [
    "Observações importantes: <br>\n",
    "    **1** - Analisando a variável `Amount`, observamos que as médias dos *valores de transações* são diferentes entre as classes **Fraude** e **Não-Fraude**. Sendo mais especifico, as transações classificadas como fraudes tendem a apresentar um valor mpedio mais alto comparado às transações não fraudulentas. Essa diferença sugere que as transações de valor mais alto têm uma maior probabilidade de serem fraudulentas. No entanto, vimos que existe transações, que mesmo não sendo classificadas como fraudulentas, possuem valores bem altos. Basta olhar os valores máximos de cada classe.<br>\n",
    "    **2** - As correlações entre as features possuem intensidade de fraca(grande maioria) a moderada."
   ]
  },
  {
   "cell_type": "code",
   "execution_count": null,
   "id": "8530c697",
   "metadata": {
    "colab": {
     "base_uri": "https://localhost:8080/"
    },
    "hidden": true,
    "id": "8530c697",
    "outputId": "bac3bc68-13ae-4c74-cb37-b21624732b74"
   },
   "outputs": [
    {
     "name": "stdout",
     "output_type": "stream",
     "text": [
      "Média das transações fraudulentas: 112.13\n",
      "Média das transações Não-fraudulentas: 88.73\n",
      "T-statistic: 1.558\n",
      "P-value: 0.12\n",
      "Não há evidências suficientes para afirmar que as médias de Amount são diferentes entre Fraude e Não-Fraude.\n"
     ]
    }
   ],
   "source": [
    "# Separando os dados em Fraude e Não-Fraude\n",
    "fraud = df_train[df_train['Class'] == 1]['Amount']\n",
    "non_fraud = df_train[df_train['Class'] == 0]['Amount']\n",
    "\n",
    "# Calculando as médias\n",
    "mean_fraud = fraud.mean()\n",
    "mean_non_fraud = non_fraud.mean()\n",
    "\n",
    "print(f'Média das transações fraudulentas: {mean_fraud:.2f}')\n",
    "print(f'Média das transações Não-fraudulentas: {mean_non_fraud:.2f}')\n",
    "\n",
    "# Realizando o teste t de Student\n",
    "t_stat, p_value = stats.ttest_ind(fraud, non_fraud)\n",
    "\n",
    "print(f'T-statistic: {t_stat:.3f}')\n",
    "print(f'P-value: {p_value:.2f}')\n",
    "\n",
    "# Fazendo a afirmação com base no p-valor\n",
    "alpha = 0.05\n",
    "if p_value < alpha:\n",
    "    print(\"As médias de Amount são significativamente diferentes entre Fraude e Não-Fraude.\")\n",
    "else:\n",
    "    print(\"Não há evidências suficientes para afirmar que as médias de Amount são diferentes entre Fraude e Não-Fraude.\")\n"
   ]
  },
  {
   "cell_type": "markdown",
   "id": "12a635ba",
   "metadata": {
    "heading_collapsed": true,
    "id": "12a635ba"
   },
   "source": [
    "# 4. Modelagem"
   ]
  },
  {
   "cell_type": "code",
   "execution_count": null,
   "id": "fb8631af",
   "metadata": {
    "hidden": true,
    "id": "fb8631af"
   },
   "outputs": [],
   "source": [
    "from sklearn.utils.class_weight import compute_sample_weight\n",
    "\n",
    "weight = y_train.value_counts(1)[0]/y_train.value_counts(1)[1]"
   ]
  },
  {
   "cell_type": "markdown",
   "id": "a37acc23",
   "metadata": {
    "heading_collapsed": true,
    "hidden": true,
    "id": "a37acc23"
   },
   "source": [
    "## 4.1 Testando Modelos"
   ]
  },
  {
   "cell_type": "markdown",
   "id": "39573668",
   "metadata": {
    "heading_collapsed": true,
    "hidden": true,
    "id": "39573668"
   },
   "source": [
    "### XGBoost Classifier"
   ]
  },
  {
   "cell_type": "code",
   "execution_count": null,
   "id": "1193495e",
   "metadata": {
    "hidden": true,
    "id": "1193495e"
   },
   "outputs": [],
   "source": [
    "# Parâmetros do modelo\n",
    "params_xgb = {\n",
    "  'n_estimators':200,\n",
    "  'max_depth':7,\n",
    "  }\n",
    "\n",
    "# Instânciando o modelo\n",
    "clf_xgb = XGBClassifier(scale_pos_weight=weight, random_state=27)"
   ]
  },
  {
   "cell_type": "code",
   "execution_count": null,
   "id": "e8145df4",
   "metadata": {
    "colab": {
     "base_uri": "https://localhost:8080/"
    },
    "hidden": true,
    "id": "e8145df4",
    "outputId": "eaa5b0a3-94a7-4b9e-808d-8240eb258e66"
   },
   "outputs": [
    {
     "name": "stdout",
     "output_type": "stream",
     "text": [
      "Score Cross Validation: 97.29%\n",
      "Average Precision: 86.73%\n",
      "Precision Score: 91.67%\n",
      "Recall Score: 81.05%\n",
      "F1 Score: 86.03%\n",
      "AUCPR: 86.72%\n",
      "ROC AUC Score: 90.52%\n"
     ]
    }
   ],
   "source": [
    "modelo(clf_xgb, X_train, y_train, X_val, y_val)"
   ]
  },
  {
   "cell_type": "code",
   "execution_count": null,
   "id": "CDqA088u3nDK",
   "metadata": {
    "colab": {
     "base_uri": "https://localhost:8080/",
     "height": 472
    },
    "hidden": true,
    "id": "CDqA088u3nDK",
    "outputId": "eff6db25-7956-40d2-bf93-e8e0afab05e2"
   },
   "outputs": [
    {
     "data": {
      "image/png": "[encoded data removed]",
      "text/plain": [
       "<Figure size 640x480 with 1 Axes>"
      ]
     },
     "metadata": {},
     "output_type": "display_data"
    }
   ],
   "source": [
    "plot_recall_precision_curve(clf_xgb, X_val, y_val, name_clf='XGBoost Classifier')"
   ]
  },
  {
   "cell_type": "code",
   "execution_count": null,
   "id": "EDQIkj4MIrhk",
   "metadata": {
    "colab": {
     "base_uri": "https://localhost:8080/"
    },
    "hidden": true,
    "id": "EDQIkj4MIrhk",
    "outputId": "81ce877d-0694-4ea5-825c-df2dd62a6bae"
   },
   "outputs": [
    {
     "name": "stdout",
     "output_type": "stream",
     "text": [
      "Score Cross Validation: 97.29%\n",
      "Average Precision: 85.56%\n",
      "Precision Score: 91.76%\n",
      "Recall Score: 82.11%\n",
      "F1 Score: 86.67%\n",
      "AUCPR: 85.55%\n",
      "ROC AUC Score: 91.05%\n"
     ]
    }
   ],
   "source": [
    "# Avaliando o desempenho no conjunto de teste\n",
    "modelo(clf_xgb, X_train, y_train, X_test, y_test)"
   ]
  },
  {
   "cell_type": "markdown",
   "id": "4822ad3b",
   "metadata": {
    "heading_collapsed": true,
    "hidden": true,
    "id": "4822ad3b"
   },
   "source": [
    "### LightGBM Classifier"
   ]
  },
  {
   "cell_type": "code",
   "execution_count": null,
   "id": "3a1429c1",
   "metadata": {
    "hidden": true,
    "id": "3a1429c1"
   },
   "outputs": [],
   "source": [
    "params_lgbm = {\n",
    "  'n_estimators':200,\n",
    "  'num_leaves':50,\n",
    "  'max_depth':15,\n",
    "  'learning_rate':0.02,\n",
    "  'verbosity':-1\n",
    "  }\n",
    "\n",
    "# Instânciando o modelo\n",
    "clf_lgbm = LGBMClassifier(**params_lgbm, scale_pos_weight=weight, random_state=27)"
   ]
  },
  {
   "cell_type": "code",
   "execution_count": null,
   "id": "07686945",
   "metadata": {
    "colab": {
     "base_uri": "https://localhost:8080/"
    },
    "hidden": true,
    "id": "07686945",
    "outputId": "4ba85f21-83dd-4ff8-fc21-63da47a8f289"
   },
   "outputs": [
    {
     "name": "stdout",
     "output_type": "stream",
     "text": [
      "Score Cross Validation: 89.48%\n",
      "Average Precision: 81.93%\n",
      "Precision Score: 70.27%\n",
      "Recall Score: 82.11%\n",
      "F1 Score: 75.73%\n",
      "AUCPR: 81.92%\n",
      "ROC AUC Score: 91.02%\n"
     ]
    }
   ],
   "source": [
    "# Avaliando o desempenho no conjunto de validação para\n",
    "modelo(clf_lgbm, X_train, y_train, X_val, y_val)"
   ]
  },
  {
   "cell_type": "code",
   "execution_count": null,
   "id": "CspXOvrY2SHx",
   "metadata": {
    "colab": {
     "base_uri": "https://localhost:8080/",
     "height": 472
    },
    "hidden": true,
    "id": "CspXOvrY2SHx",
    "outputId": "1e66d6c2-d092-4f34-8881-eb3febeea25f"
   },
   "outputs": [
    {
     "data": {
      "image/png": "[encoded data removed]",
      "text/plain": [
       "<Figure size 640x480 with 1 Axes>"
      ]
     },
     "metadata": {},
     "output_type": "display_data"
    }
   ],
   "source": [
    "plot_recall_precision_curve(clf_lgbm, X_val, y_val, name_clf='LightGBM Classifier')"
   ]
  },
  {
   "cell_type": "code",
   "execution_count": null,
   "id": "WC5Tl_0kJc_M",
   "metadata": {
    "colab": {
     "base_uri": "https://localhost:8080/"
    },
    "hidden": true,
    "id": "WC5Tl_0kJc_M",
    "outputId": "b697f3df-1070-40c0-a8df-fced05c8373d"
   },
   "outputs": [
    {
     "name": "stdout",
     "output_type": "stream",
     "text": [
      "Score Cross Validation: 89.48%\n",
      "Average Precision: 82.15%\n",
      "Precision Score: 77.23%\n",
      "Recall Score: 82.11%\n",
      "F1 Score: 79.59%\n",
      "AUCPR: 82.14%\n",
      "ROC AUC Score: 91.03%\n"
     ]
    }
   ],
   "source": [
    "# Avaliando o desempenho no conjunto de teste\n",
    "modelo(clf_lgbm, X_train, y_train, X_test, y_test)"
   ]
  },
  {
   "cell_type": "markdown",
   "id": "dc296970",
   "metadata": {
    "heading_collapsed": true,
    "hidden": true,
    "id": "dc296970"
   },
   "source": [
    "### CatBoost Classifier"
   ]
  },
  {
   "cell_type": "code",
   "execution_count": null,
   "id": "e22838ed",
   "metadata": {
    "hidden": true,
    "id": "e22838ed"
   },
   "outputs": [],
   "source": [
    "# Parâmetros do modelo\n",
    "params_cat = {\n",
    "    'n_estimators':200,\n",
    "    'max_depth':7,\n",
    "    'min_child_samples':50,\n",
    "    'learning_rate':0.1\n",
    "    }\n",
    "\n",
    "# Instânciando o modelo\n",
    "clf_cat = CatBoostClassifier(**params_cat, auto_class_weights='Balanced', random_state=27, verbose=False, thread_count=4)"
   ]
  },
  {
   "cell_type": "code",
   "execution_count": null,
   "id": "abf76aa9",
   "metadata": {
    "colab": {
     "base_uri": "https://localhost:8080/"
    },
    "hidden": true,
    "id": "abf76aa9",
    "outputId": "2bb9b43c-13bc-4ad1-db80-7cddbd21d7e6"
   },
   "outputs": [
    {
     "name": "stdout",
     "output_type": "stream",
     "text": [
      "Score Cross Validation: 97.47%\n",
      "Average Precision: 86.42%\n",
      "Precision Score: 82.00%\n",
      "Recall Score: 86.32%\n",
      "F1 Score: 84.10%\n",
      "AUCPR: 86.40%\n",
      "ROC AUC Score: 93.14%\n"
     ]
    }
   ],
   "source": [
    "# Treinando modelo\n",
    "modelo(clf_cat, X_train, y_train, X_val, y_val)"
   ]
  },
  {
   "cell_type": "code",
   "execution_count": null,
   "id": "P9nzd0Bt8mke",
   "metadata": {
    "colab": {
     "base_uri": "https://localhost:8080/",
     "height": 472
    },
    "hidden": true,
    "id": "P9nzd0Bt8mke",
    "outputId": "426b229a-a711-4cf8-f3d6-53a4007d6365"
   },
   "outputs": [
    {
     "data": {
      "image/png": "[encoded data removed]",
      "text/plain": [
       "<Figure size 640x480 with 1 Axes>"
      ]
     },
     "metadata": {},
     "output_type": "display_data"
    }
   ],
   "source": [
    "plot_recall_precision_curve(clf_cat, X_val, y_val, name_clf='CatBoost Classifier')"
   ]
  },
  {
   "cell_type": "code",
   "execution_count": null,
   "id": "pcy6CGMfJoA7",
   "metadata": {
    "colab": {
     "base_uri": "https://localhost:8080/"
    },
    "hidden": true,
    "id": "pcy6CGMfJoA7",
    "outputId": "69b2ad82-804c-4e2a-b276-e461b2d3a1d5"
   },
   "outputs": [
    {
     "name": "stdout",
     "output_type": "stream",
     "text": [
      "Score Cross Validation: 97.47%\n",
      "Average Precision: 86.98%\n",
      "Precision Score: 83.00%\n",
      "Recall Score: 87.37%\n",
      "F1 Score: 85.13%\n",
      "AUCPR: 86.98%\n",
      "ROC AUC Score: 93.67%\n"
     ]
    }
   ],
   "source": [
    "# Avaliando o desempenho no conjunto de teste\n",
    "modelo(clf_cat, X_train, y_train, X_test, y_test)"
   ]
  },
  {
   "cell_type": "markdown",
   "id": "15de4fc2",
   "metadata": {
    "heading_collapsed": true,
    "hidden": true,
    "id": "15de4fc2"
   },
   "source": [
    "###  Regressão logística"
   ]
  },
  {
   "cell_type": "code",
   "execution_count": null,
   "id": "f369f322",
   "metadata": {
    "hidden": true,
    "id": "f369f322"
   },
   "outputs": [],
   "source": [
    "# Parâmetros do modelo\n",
    "params_log = {\n",
    "    'class_weight':'balanced',\n",
    "    'solver':'lbfgs',\n",
    "    'max_iter':500}\n",
    "\n",
    "# Instânciando o modelo\n",
    "clf_log = LogisticRegression(**params_log, C=0.5, random_state=27)"
   ]
  },
  {
   "cell_type": "code",
   "execution_count": null,
   "id": "89575a97",
   "metadata": {
    "colab": {
     "base_uri": "https://localhost:8080/"
    },
    "hidden": true,
    "id": "89575a97",
    "outputId": "548ecc01-6624-40f7-b275-1867a24688c3"
   },
   "outputs": [
    {
     "name": "stdout",
     "output_type": "stream",
     "text": [
      "Score Cross Validation: 96.91%\n",
      "Average Precision: 71.04%\n",
      "Precision Score: 3.51%\n",
      "Recall Score: 90.53%\n",
      "F1 Score: 6.76%\n",
      "AUCPR: 70.90%\n",
      "ROC AUC Score: 93.18%\n"
     ]
    }
   ],
   "source": [
    "modelo(clf_log, X_train, y_train, X_val, y_val)"
   ]
  },
  {
   "cell_type": "code",
   "execution_count": null,
   "id": "EhnAVEpdpqqU",
   "metadata": {
    "colab": {
     "base_uri": "https://localhost:8080/",
     "height": 472
    },
    "hidden": true,
    "id": "EhnAVEpdpqqU",
    "outputId": "dc203925-e11d-4efc-b44a-9c031bf34e06"
   },
   "outputs": [
    {
     "data": {
      "image/png": "[encoded data removed]",
      "text/plain": [
       "<Figure size 640x480 with 1 Axes>"
      ]
     },
     "metadata": {},
     "output_type": "display_data"
    }
   ],
   "source": [
    "plot_recall_precision_curve(clf_log, X_val, y_val, name_clf='Logistic Regression Classifier')"
   ]
  },
  {
   "cell_type": "code",
   "execution_count": null,
   "id": "_dDgJGT3KFeZ",
   "metadata": {
    "colab": {
     "base_uri": "https://localhost:8080/"
    },
    "hidden": true,
    "id": "_dDgJGT3KFeZ",
    "outputId": "9eaa3b98-bed9-461c-e66f-80fb6fcba4e5"
   },
   "outputs": [
    {
     "name": "stdout",
     "output_type": "stream",
     "text": [
      "Score Cross Validation: 96.91%\n",
      "Average Precision: 63.97%\n",
      "Precision Score: 3.67%\n",
      "Recall Score: 91.58%\n",
      "F1 Score: 7.05%\n",
      "AUCPR: 64.99%\n",
      "ROC AUC Score: 93.77%\n"
     ]
    }
   ],
   "source": [
    "# Avaliando o desempenho no conjunto de teste\n",
    "modelo(clf_log, X_train, y_train, X_test, y_test)"
   ]
  },
  {
   "cell_type": "markdown",
   "id": "6134dd4c",
   "metadata": {
    "heading_collapsed": true,
    "hidden": true,
    "id": "6134dd4c"
   },
   "source": [
    "### HistGradientBoostingClassifier"
   ]
  },
  {
   "cell_type": "code",
   "execution_count": null,
   "id": "aa52e1dc",
   "metadata": {
    "hidden": true,
    "id": "aa52e1dc"
   },
   "outputs": [],
   "source": [
    "params_hbc = {\n",
    "    'max_depth':12,\n",
    "    'learning_rate':0.01,\n",
    "    'min_samples_leaf':10,\n",
    "    }\n",
    "\n",
    "# Criando o modelo\n",
    "clf_hbc = HistGradientBoostingClassifier(**params_hbc, class_weight='balanced', random_state=27)"
   ]
  },
  {
   "cell_type": "code",
   "execution_count": null,
   "id": "78dd7389",
   "metadata": {
    "colab": {
     "base_uri": "https://localhost:8080/"
    },
    "hidden": true,
    "id": "78dd7389",
    "outputId": "69d79a6d-77be-49d1-9b2e-65a4cdcfd0b6"
   },
   "outputs": [
    {
     "name": "stdout",
     "output_type": "stream",
     "text": [
      "Score Cross Validation: 91.80%\n",
      "Average Precision: 65.16%\n",
      "Precision Score: 20.66%\n",
      "Recall Score: 85.26%\n",
      "F1 Score: 33.26%\n",
      "AUCPR: 74.25%\n",
      "ROC AUC Score: 92.36%\n"
     ]
    }
   ],
   "source": [
    "# Avaliação do desempenho\n",
    "modelo(clf_hbc, X_train, y_train, X_val, y_val)"
   ]
  },
  {
   "cell_type": "code",
   "execution_count": null,
   "id": "U22Iw0wGwZsI",
   "metadata": {
    "colab": {
     "base_uri": "https://localhost:8080/",
     "height": 472
    },
    "hidden": true,
    "id": "U22Iw0wGwZsI",
    "outputId": "b501ecae-78e4-4e33-b440-e8a2cebebb74"
   },
   "outputs": [
    {
     "data": {
      "image/png": "[encoded data removed]",
      "text/plain": [
       "<Figure size 640x480 with 1 Axes>"
      ]
     },
     "metadata": {},
     "output_type": "display_data"
    }
   ],
   "source": [
    "plot_recall_precision_curve(clf_hbc, X_val, y_val, name_clf='HistGradientBoosting Classifier')"
   ]
  },
  {
   "cell_type": "code",
   "execution_count": null,
   "id": "4jpoBYkzIUMd",
   "metadata": {
    "colab": {
     "base_uri": "https://localhost:8080/"
    },
    "hidden": true,
    "id": "4jpoBYkzIUMd",
    "outputId": "73e78a78-1755-4b65-efdb-1fe5c5bef517"
   },
   "outputs": [
    {
     "name": "stdout",
     "output_type": "stream",
     "text": [
      "Score Cross Validation: 91.80%\n",
      "Average Precision: 64.21%\n",
      "Precision Score: 22.07%\n",
      "Recall Score: 83.16%\n",
      "F1 Score: 34.88%\n",
      "AUCPR: 73.20%\n",
      "ROC AUC Score: 91.33%\n"
     ]
    }
   ],
   "source": [
    "# Avaliação no conjutno de teste\n",
    "modelo(clf_hbc, X_train, y_train, X_test, y_test)"
   ]
  },
  {
   "cell_type": "markdown",
   "id": "pOdWXAY0pann",
   "metadata": {
    "heading_collapsed": true,
    "hidden": true,
    "id": "pOdWXAY0pann"
   },
   "source": [
    "### Decision Tree Classifier"
   ]
  },
  {
   "cell_type": "code",
   "execution_count": null,
   "id": "6Kp1bD3-pa46",
   "metadata": {
    "hidden": true,
    "id": "6Kp1bD3-pa46"
   },
   "outputs": [],
   "source": [
    "params_tree = {\n",
    "    'max_depth':15,\n",
    "    'min_samples_split': 10,\n",
    "    'min_samples_leaf': 5\n",
    "    }\n",
    "\n",
    "# Instânciando o modelo\n",
    "clf_tree = DecisionTreeClassifier(**params_tree, class_weight='balanced', random_state=27)"
   ]
  },
  {
   "cell_type": "code",
   "execution_count": null,
   "id": "PTTFUOY-pa9x",
   "metadata": {
    "colab": {
     "base_uri": "https://localhost:8080/"
    },
    "hidden": true,
    "id": "PTTFUOY-pa9x",
    "outputId": "91878ebd-20f5-49f7-cce1-babd8341ef86"
   },
   "outputs": [
    {
     "name": "stdout",
     "output_type": "stream",
     "text": [
      "Score Cross Validation: 88.13%\n",
      "Average Precision: 74.49%\n",
      "Precision Score: 36.20%\n",
      "Recall Score: 84.21%\n",
      "F1 Score: 50.63%\n",
      "AUCPR: 81.34%\n",
      "ROC AUC Score: 91.98%\n"
     ]
    }
   ],
   "source": [
    "# Avaliação do desempenho\n",
    "modelo(clf_tree, X_train, y_train, X_val, y_val)"
   ]
  },
  {
   "cell_type": "code",
   "execution_count": null,
   "id": "CrY05FL82LvS",
   "metadata": {
    "colab": {
     "base_uri": "https://localhost:8080/",
     "height": 472
    },
    "hidden": true,
    "id": "CrY05FL82LvS",
    "outputId": "be285a44-a14e-49a0-962b-9f5cc4b14b4e"
   },
   "outputs": [
    {
     "data": {
      "image/png": "[encoded data removed]",
      "text/plain": [
       "<Figure size 640x480 with 1 Axes>"
      ]
     },
     "metadata": {},
     "output_type": "display_data"
    }
   ],
   "source": [
    "plot_recall_precision_curve(clf_tree, X_val, y_val, name_clf='DecisionTreeClassifier')"
   ]
  },
  {
   "cell_type": "code",
   "execution_count": null,
   "id": "8sQx5iagIDNC",
   "metadata": {
    "colab": {
     "base_uri": "https://localhost:8080/"
    },
    "hidden": true,
    "id": "8sQx5iagIDNC",
    "outputId": "6f1e9604-5f20-4e8a-97dc-9256369cbc72"
   },
   "outputs": [
    {
     "name": "stdout",
     "output_type": "stream",
     "text": [
      "Score Cross Validation: 88.13%\n",
      "Average Precision: 66.82%\n",
      "Precision Score: 35.82%\n",
      "Recall Score: 75.79%\n",
      "F1 Score: 48.65%\n",
      "AUCPR: 74.93%\n",
      "ROC AUC Score: 87.78%\n"
     ]
    }
   ],
   "source": [
    "# Avaliação no conjutno de teste\n",
    "modelo(clf_tree, X_train, y_train, X_test, y_test)"
   ]
  },
  {
   "cell_type": "markdown",
   "id": "Yodma0LagTSZ",
   "metadata": {
    "heading_collapsed": true,
    "hidden": true,
    "id": "Yodma0LagTSZ"
   },
   "source": [
    "## 4.2 Turnagem de Hiperparâmetros"
   ]
  },
  {
   "cell_type": "markdown",
   "id": "Rx4rGOjJMQug",
   "metadata": {
    "hidden": true,
    "id": "Rx4rGOjJMQug"
   },
   "source": [
    "* Após avaliar o desempenho de cada modelo no conjunto de teste, optei por selecionar os 3 melhores modelos, com base nos seguintes critérios:\n",
    "  - 1) Desempenhos parecidos e bons no conjunto de treino e teste, sendo medidos pela ROC AUC;\n",
    "  - 2) Possíveis pontos de melhorias apresentados no cojunto de validação. Nesse caso, olhei para a métrica AUCPR. Basicamente, ela indica possíveis pontos de melhorias entre Precision x Recall.\n",
    "\n",
    "* Os modelos escolhidos foram:\n",
    "  - 1) XGBoost Classifier\n",
    "  - 2) LightGBMBoost Classifier\n",
    "  - 3) CatBoost Classifier\n"
   ]
  },
  {
   "cell_type": "markdown",
   "id": "98XWXdm26zQQ",
   "metadata": {
    "heading_collapsed": true,
    "hidden": true,
    "id": "98XWXdm26zQQ"
   },
   "source": [
    "### XGBoost Classifier Turning"
   ]
  },
  {
   "cell_type": "code",
   "execution_count": null,
   "id": "MINr-dFL6yp8",
   "metadata": {
    "hidden": true,
    "id": "MINr-dFL6yp8"
   },
   "outputs": [],
   "source": [
    "def objective_xgb(trial):\n",
    "    # Definindo o espaço de busca dos hiperparâmetros\n",
    "    n_estimators = trial.suggest_int('n_estimators', 10, 500)\n",
    "    max_depth = trial.suggest_int('max_depth', 1, 40)\n",
    "    learning_rate = trial.suggest_float('learning_rate', 1e-3, 1e-1, log=True)\n",
    "    subsample = trial.suggest_float('subsample', 0.5, 0.95, step=0.05)\n",
    "    colsample_bytree = trial.suggest_float('colsample_bytree', 0.5, 0.95, step=0.05)\n",
    "    min_child_weight = trial.suggest_int('min_child_weight', 5, 150)\n",
    "\n",
    "    turn_params = {\n",
    "        'n_estimators':n_estimators,\n",
    "        'max_depth':max_depth,\n",
    "        'learning_rate':learning_rate,\n",
    "        'min_child_weight': min_child_weight,\n",
    "        'subsample':subsample,\n",
    "        'colsample_bytree':colsample_bytree\n",
    "        }\n",
    "\n",
    "    clf = XGBClassifier(**turn_params, scale_pos_weight=weight, random_state=27)\n",
    "    clf.fit(X_train, y_train)\n",
    "\n",
    "    score = f1_score(y_val, clf.predict(X_val))\n",
    "    # score = roc_auc_score(y_val, clf.predict_proba(X_val)[:, 1])\n",
    "\n",
    "    return score"
   ]
  },
  {
   "cell_type": "code",
   "execution_count": null,
   "id": "0SwP9E0z-her",
   "metadata": {
    "colab": {
     "base_uri": "https://localhost:8080/"
    },
    "hidden": true,
    "id": "0SwP9E0z-her",
    "outputId": "c8af1777-0250-4f80-e086-c139674d70bf"
   },
   "outputs": [
    {
     "name": "stderr",
     "output_type": "stream",
     "text": [
      "[I 2024-07-26 17:52:51,685] A new study created in memory with name: no-name-9aac2f1d-b79d-463d-b372-ebc8643d87b9\n",
      "[I 2024-07-26 17:52:56,831] Trial 0 finished with value: 0.20531400966183574 and parameters: {'n_estimators': 27, 'max_depth': 3, 'learning_rate': 0.00884315855052487, 'subsample': 0.55, 'colsample_bytree': 0.5, 'min_child_weight': 46}. Best is trial 0 with value: 0.20531400966183574.\n",
      "[I 2024-07-26 17:53:13,981] Trial 1 finished with value: 0.6536964980544747 and parameters: {'n_estimators': 311, 'max_depth': 13, 'learning_rate': 0.012535222930401114, 'subsample': 0.8500000000000001, 'colsample_bytree': 0.6, 'min_child_weight': 98}. Best is trial 1 with value: 0.6536964980544747.\n",
      "[I 2024-07-26 17:53:15,583] Trial 2 finished with value: 0.6919831223628692 and parameters: {'n_estimators': 22, 'max_depth': 40, 'learning_rate': 0.002720298284832524, 'subsample': 0.55, 'colsample_bytree': 0.5, 'min_child_weight': 68}. Best is trial 2 with value: 0.6919831223628692.\n",
      "[I 2024-07-26 17:53:26,544] Trial 3 finished with value: 0.6970954356846473 and parameters: {'n_estimators': 274, 'max_depth': 37, 'learning_rate': 0.06864684101072838, 'subsample': 0.7, 'colsample_bytree': 0.95, 'min_child_weight': 142}. Best is trial 3 with value: 0.6970954356846473.\n",
      "[I 2024-07-26 17:53:31,277] Trial 4 finished with value: 0.7312775330396475 and parameters: {'n_estimators': 154, 'max_depth': 34, 'learning_rate': 0.09534767942563867, 'subsample': 0.9, 'colsample_bytree': 0.7, 'min_child_weight': 110}. Best is trial 4 with value: 0.7312775330396475.\n",
      "[I 2024-07-26 17:53:41,167] Trial 5 finished with value: 0.7256637168141594 and parameters: {'n_estimators': 182, 'max_depth': 15, 'learning_rate': 0.05493061829686243, 'subsample': 0.8, 'colsample_bytree': 0.5, 'min_child_weight': 82}. Best is trial 4 with value: 0.7312775330396475.\n",
      "[I 2024-07-26 17:53:55,749] Trial 6 finished with value: 0.39436619718309857 and parameters: {'n_estimators': 492, 'max_depth': 5, 'learning_rate': 0.0013299151502505749, 'subsample': 0.7, 'colsample_bytree': 0.7, 'min_child_weight': 53}. Best is trial 4 with value: 0.7312775330396475.\n",
      "[I 2024-07-26 17:54:11,428] Trial 7 finished with value: 0.6776859504132231 and parameters: {'n_estimators': 399, 'max_depth': 11, 'learning_rate': 0.017958196943420726, 'subsample': 0.9, 'colsample_bytree': 0.65, 'min_child_weight': 105}. Best is trial 4 with value: 0.7312775330396475.\n",
      "[I 2024-07-26 17:54:26,037] Trial 8 finished with value: 0.6638297872340425 and parameters: {'n_estimators': 319, 'max_depth': 23, 'learning_rate': 0.002674269360292056, 'subsample': 0.65, 'colsample_bytree': 0.8500000000000001, 'min_child_weight': 50}. Best is trial 4 with value: 0.7312775330396475.\n",
      "[I 2024-07-26 17:54:43,414] Trial 9 finished with value: 0.7099567099567099 and parameters: {'n_estimators': 433, 'max_depth': 34, 'learning_rate': 0.0020608563307599973, 'subsample': 0.65, 'colsample_bytree': 0.6, 'min_child_weight': 60}. Best is trial 4 with value: 0.7312775330396475.\n",
      "[I 2024-07-26 17:54:48,253] Trial 10 finished with value: 0.689075630252101 and parameters: {'n_estimators': 158, 'max_depth': 28, 'learning_rate': 0.09806212381689812, 'subsample': 0.95, 'colsample_bytree': 0.8, 'min_child_weight': 150}. Best is trial 4 with value: 0.7312775330396475.\n",
      "[I 2024-07-26 17:54:57,660] Trial 11 finished with value: 0.6831275720164609 and parameters: {'n_estimators': 165, 'max_depth': 18, 'learning_rate': 0.04099745321590558, 'subsample': 0.8, 'colsample_bytree': 0.8, 'min_child_weight': 101}. Best is trial 4 with value: 0.7312775330396475.\n",
      "[I 2024-07-26 17:55:03,742] Trial 12 finished with value: 0.7751196172248803 and parameters: {'n_estimators': 161, 'max_depth': 28, 'learning_rate': 0.028735529282729867, 'subsample': 0.8, 'colsample_bytree': 0.55, 'min_child_weight': 20}. Best is trial 12 with value: 0.7751196172248803.\n",
      "[I 2024-07-26 17:55:11,720] Trial 13 finished with value: 0.7677725118483412 and parameters: {'n_estimators': 95, 'max_depth': 28, 'learning_rate': 0.03146003258313217, 'subsample': 0.95, 'colsample_bytree': 0.6, 'min_child_weight': 18}. Best is trial 12 with value: 0.7751196172248803.\n",
      "[I 2024-07-26 17:55:16,082] Trial 14 finished with value: 0.8144329896907218 and parameters: {'n_estimators': 92, 'max_depth': 27, 'learning_rate': 0.023406946172634557, 'subsample': 0.95, 'colsample_bytree': 0.6, 'min_child_weight': 8}. Best is trial 14 with value: 0.8144329896907218.\n",
      "[I 2024-07-26 17:55:21,965] Trial 15 finished with value: 0.8041237113402062 and parameters: {'n_estimators': 89, 'max_depth': 24, 'learning_rate': 0.005696153481591324, 'subsample': 0.8, 'colsample_bytree': 0.55, 'min_child_weight': 7}. Best is trial 14 with value: 0.8144329896907218.\n",
      "[I 2024-07-26 17:55:27,476] Trial 16 finished with value: 0.8020304568527918 and parameters: {'n_estimators': 72, 'max_depth': 22, 'learning_rate': 0.006475410091658994, 'subsample': 0.8500000000000001, 'colsample_bytree': 0.65, 'min_child_weight': 6}. Best is trial 14 with value: 0.8144329896907218.\n",
      "[I 2024-07-26 17:55:31,381] Trial 17 finished with value: 0.7592592592592592 and parameters: {'n_estimators': 85, 'max_depth': 25, 'learning_rate': 0.004691368338482716, 'subsample': 0.75, 'colsample_bytree': 0.55, 'min_child_weight': 33}. Best is trial 14 with value: 0.8144329896907218.\n",
      "[I 2024-07-26 17:55:42,925] Trial 18 finished with value: 0.7288888888888888 and parameters: {'n_estimators': 220, 'max_depth': 18, 'learning_rate': 0.0173476875541019, 'subsample': 0.9, 'colsample_bytree': 0.65, 'min_child_weight': 32}. Best is trial 14 with value: 0.8144329896907218.\n",
      "[I 2024-07-26 17:55:46,942] Trial 19 finished with value: 0.7958115183246073 and parameters: {'n_estimators': 98, 'max_depth': 31, 'learning_rate': 0.00530946139508992, 'subsample': 0.5, 'colsample_bytree': 0.75, 'min_child_weight': 12}. Best is trial 14 with value: 0.8144329896907218.\n",
      "[I 2024-07-26 17:55:58,005] Trial 20 finished with value: 0.7387387387387387 and parameters: {'n_estimators': 225, 'max_depth': 19, 'learning_rate': 0.01925544202571293, 'subsample': 0.95, 'colsample_bytree': 0.55, 'min_child_weight': 35}. Best is trial 14 with value: 0.8144329896907218.\n",
      "[I 2024-07-26 17:56:01,680] Trial 21 finished with value: 0.7980295566502463 and parameters: {'n_estimators': 75, 'max_depth': 22, 'learning_rate': 0.0073188531227622484, 'subsample': 0.8500000000000001, 'colsample_bytree': 0.65, 'min_child_weight': 12}. Best is trial 14 with value: 0.8144329896907218.\n",
      "[I 2024-07-26 17:56:06,525] Trial 22 finished with value: 0.8061224489795918 and parameters: {'n_estimators': 45, 'max_depth': 25, 'learning_rate': 0.004748987581883432, 'subsample': 0.8500000000000001, 'colsample_bytree': 0.6, 'min_child_weight': 5}. Best is trial 14 with value: 0.8144329896907218.\n",
      "[I 2024-07-26 17:56:08,883] Trial 23 finished with value: 0.7570093457943926 and parameters: {'n_estimators': 19, 'max_depth': 31, 'learning_rate': 0.0039018266159357522, 'subsample': 0.75, 'colsample_bytree': 0.55, 'min_child_weight': 27}. Best is trial 14 with value: 0.8144329896907218.\n",
      "[I 2024-07-26 17:56:14,156] Trial 24 finished with value: 0.8040201005025126 and parameters: {'n_estimators': 122, 'max_depth': 25, 'learning_rate': 0.011251479225440248, 'subsample': 0.9, 'colsample_bytree': 0.6, 'min_child_weight': 10}. Best is trial 14 with value: 0.8144329896907218.\n",
      "[I 2024-07-26 17:56:17,270] Trial 25 finished with value: 0.8080808080808081 and parameters: {'n_estimators': 55, 'max_depth': 25, 'learning_rate': 0.0010678559132812477, 'subsample': 0.8500000000000001, 'colsample_bytree': 0.7, 'min_child_weight': 5}. Best is trial 14 with value: 0.8144329896907218.\n",
      "[I 2024-07-26 17:56:23,188] Trial 26 finished with value: 0.6083650190114068 and parameters: {'n_estimators': 50, 'max_depth': 31, 'learning_rate': 0.0012617077769056715, 'subsample': 0.8500000000000001, 'colsample_bytree': 0.75, 'min_child_weight': 40}. Best is trial 14 with value: 0.8144329896907218.\n",
      "[I 2024-07-26 17:56:28,761] Trial 27 finished with value: 0.7155172413793103 and parameters: {'n_estimators': 131, 'max_depth': 27, 'learning_rate': 0.001085851088079803, 'subsample': 0.95, 'colsample_bytree': 0.7, 'min_child_weight': 23}. Best is trial 14 with value: 0.8144329896907218.\n",
      "[I 2024-07-26 17:56:31,650] Trial 28 finished with value: 0.467966573816156 and parameters: {'n_estimators': 58, 'max_depth': 16, 'learning_rate': 0.0017924440968027598, 'subsample': 0.9, 'colsample_bytree': 0.9, 'min_child_weight': 85}. Best is trial 14 with value: 0.8144329896907218.\n",
      "[I 2024-07-26 17:56:35,957] Trial 29 finished with value: 0.5364238410596027 and parameters: {'n_estimators': 38, 'max_depth': 7, 'learning_rate': 0.00895324548689811, 'subsample': 0.8500000000000001, 'colsample_bytree': 0.75, 'min_child_weight': 44}. Best is trial 14 with value: 0.8144329896907218.\n",
      "[I 2024-07-26 17:56:37,718] Trial 30 finished with value: 0.12970376301040834 and parameters: {'n_estimators': 13, 'max_depth': 1, 'learning_rate': 0.00312525561433089, 'subsample': 0.75, 'colsample_bytree': 0.65, 'min_child_weight': 122}. Best is trial 14 with value: 0.8144329896907218.\n",
      "[I 2024-07-26 17:56:42,886] Trial 31 finished with value: 0.8020833333333334 and parameters: {'n_estimators': 122, 'max_depth': 25, 'learning_rate': 0.013855764278026412, 'subsample': 0.8, 'colsample_bytree': 0.5, 'min_child_weight': 6}. Best is trial 14 with value: 0.8144329896907218.\n",
      "[I 2024-07-26 17:56:53,357] Trial 32 finished with value: 0.7766990291262136 and parameters: {'n_estimators': 196, 'max_depth': 21, 'learning_rate': 0.006940301320527682, 'subsample': 0.8, 'colsample_bytree': 0.6, 'min_child_weight': 20}. Best is trial 14 with value: 0.8144329896907218.\n",
      "[I 2024-07-26 17:56:56,186] Trial 33 finished with value: 0.806282722513089 and parameters: {'n_estimators': 50, 'max_depth': 24, 'learning_rate': 0.02552228320962998, 'subsample': 0.8500000000000001, 'colsample_bytree': 0.55, 'min_child_weight': 5}. Best is trial 14 with value: 0.8144329896907218.\n",
      "[I 2024-07-26 17:56:58,636] Trial 34 finished with value: 0.7980295566502463 and parameters: {'n_estimators': 42, 'max_depth': 34, 'learning_rate': 0.026157813443421035, 'subsample': 0.9, 'colsample_bytree': 0.5, 'min_child_weight': 17}. Best is trial 14 with value: 0.8144329896907218.\n",
      "[I 2024-07-26 17:57:00,056] Trial 35 finished with value: 0.7570093457943926 and parameters: {'n_estimators': 11, 'max_depth': 20, 'learning_rate': 0.035339707541651416, 'subsample': 0.8500000000000001, 'colsample_bytree': 0.6, 'min_child_weight': 25}. Best is trial 14 with value: 0.8144329896907218.\n",
      "[I 2024-07-26 17:57:07,926] Trial 36 finished with value: 0.6666666666666667 and parameters: {'n_estimators': 118, 'max_depth': 39, 'learning_rate': 0.04990130513953995, 'subsample': 0.6, 'colsample_bytree': 0.7, 'min_child_weight': 71}. Best is trial 14 with value: 0.8144329896907218.\n",
      "[I 2024-07-26 17:57:21,030] Trial 37 finished with value: 0.7699530516431925 and parameters: {'n_estimators': 298, 'max_depth': 30, 'learning_rate': 0.023769584088050032, 'subsample': 0.95, 'colsample_bytree': 0.6, 'min_child_weight': 28}. Best is trial 14 with value: 0.8144329896907218.\n",
      "[I 2024-07-26 17:57:23,909] Trial 38 finished with value: 0.8144329896907218 and parameters: {'n_estimators': 55, 'max_depth': 12, 'learning_rate': 0.07188921192524027, 'subsample': 0.8500000000000001, 'colsample_bytree': 0.5, 'min_child_weight': 5}. Best is trial 14 with value: 0.8144329896907218.\n",
      "[I 2024-07-26 17:57:36,015] Trial 39 finished with value: 0.7280701754385965 and parameters: {'n_estimators': 359, 'max_depth': 11, 'learning_rate': 0.07262991502629713, 'subsample': 0.7, 'colsample_bytree': 0.5, 'min_child_weight': 129}. Best is trial 14 with value: 0.8144329896907218.\n",
      "[I 2024-07-26 17:57:39,011] Trial 40 finished with value: 0.7256637168141594 and parameters: {'n_estimators': 63, 'max_depth': 14, 'learning_rate': 0.06223254182701825, 'subsample': 0.9, 'colsample_bytree': 0.5, 'min_child_weight': 59}. Best is trial 14 with value: 0.8144329896907218.\n",
      "[I 2024-07-26 17:57:41,195] Trial 41 finished with value: 0.7363636363636363 and parameters: {'n_estimators': 40, 'max_depth': 8, 'learning_rate': 0.04281000572659281, 'subsample': 0.8500000000000001, 'colsample_bytree': 0.55, 'min_child_weight': 15}. Best is trial 14 with value: 0.8144329896907218.\n",
      "[I 2024-07-26 17:57:49,323] Trial 42 finished with value: 0.8229166666666666 and parameters: {'n_estimators': 105, 'max_depth': 26, 'learning_rate': 0.014071367579363048, 'subsample': 0.8500000000000001, 'colsample_bytree': 0.55, 'min_child_weight': 5}. Best is trial 42 with value: 0.8229166666666666.\n",
      "[I 2024-07-26 17:57:54,730] Trial 43 finished with value: 0.7918781725888325 and parameters: {'n_estimators': 137, 'max_depth': 27, 'learning_rate': 0.014442304049651343, 'subsample': 0.75, 'colsample_bytree': 0.5, 'min_child_weight': 13}. Best is trial 42 with value: 0.8229166666666666.\n",
      "[I 2024-07-26 17:57:59,534] Trial 44 finished with value: 0.689075630252101 and parameters: {'n_estimators': 104, 'max_depth': 33, 'learning_rate': 0.010732171901618109, 'subsample': 0.9, 'colsample_bytree': 0.55, 'min_child_weight': 39}. Best is trial 42 with value: 0.8229166666666666.\n",
      "[I 2024-07-26 17:58:09,146] Trial 45 finished with value: 0.8144329896907218 and parameters: {'n_estimators': 187, 'max_depth': 17, 'learning_rate': 0.02291862511170172, 'subsample': 0.8, 'colsample_bytree': 0.55, 'min_child_weight': 5}. Best is trial 42 with value: 0.8229166666666666.\n",
      "[I 2024-07-26 17:58:18,820] Trial 46 finished with value: 0.7830188679245282 and parameters: {'n_estimators': 190, 'max_depth': 11, 'learning_rate': 0.0207039866834172, 'subsample': 0.8, 'colsample_bytree': 0.5, 'min_child_weight': 20}. Best is trial 42 with value: 0.8229166666666666.\n",
      "[I 2024-07-26 17:58:29,550] Trial 47 finished with value: 0.7804878048780488 and parameters: {'n_estimators': 248, 'max_depth': 16, 'learning_rate': 0.03504855094432647, 'subsample': 0.7, 'colsample_bytree': 0.95, 'min_child_weight': 14}. Best is trial 42 with value: 0.8229166666666666.\n",
      "[I 2024-07-26 17:58:36,495] Trial 48 finished with value: 0.6335877862595419 and parameters: {'n_estimators': 143, 'max_depth': 13, 'learning_rate': 0.014947088813142474, 'subsample': 0.8, 'colsample_bytree': 0.8, 'min_child_weight': 93}. Best is trial 42 with value: 0.8229166666666666.\n",
      "[I 2024-07-26 17:58:42,075] Trial 49 finished with value: 0.7772511848341233 and parameters: {'n_estimators': 160, 'max_depth': 17, 'learning_rate': 0.08107041662645563, 'subsample': 0.75, 'colsample_bytree': 0.55, 'min_child_weight': 28}. Best is trial 42 with value: 0.8229166666666666.\n",
      "[I 2024-07-26 17:58:49,325] Trial 50 finished with value: 0.7256637168141594 and parameters: {'n_estimators': 112, 'max_depth': 9, 'learning_rate': 0.046064347817317934, 'subsample': 0.9, 'colsample_bytree': 0.5, 'min_child_weight': 55}. Best is trial 42 with value: 0.8229166666666666.\n",
      "[I 2024-07-26 17:58:53,273] Trial 51 finished with value: 0.8229166666666666 and parameters: {'n_estimators': 81, 'max_depth': 22, 'learning_rate': 0.023027702481705364, 'subsample': 0.8500000000000001, 'colsample_bytree': 0.55, 'min_child_weight': 5}. Best is trial 42 with value: 0.8229166666666666.\n",
      "[I 2024-07-26 17:58:59,826] Trial 52 finished with value: 0.7897435897435898 and parameters: {'n_estimators': 98, 'max_depth': 20, 'learning_rate': 0.022652467383584878, 'subsample': 0.8, 'colsample_bytree': 0.6, 'min_child_weight': 9}. Best is trial 42 with value: 0.8229166666666666.\n",
      "[I 2024-07-26 17:59:04,236] Trial 53 finished with value: 0.782608695652174 and parameters: {'n_estimators': 79, 'max_depth': 23, 'learning_rate': 0.030387396217067646, 'subsample': 0.8500000000000001, 'colsample_bytree': 0.55, 'min_child_weight': 16}. Best is trial 42 with value: 0.8229166666666666.\n",
      "[I 2024-07-26 17:59:11,163] Trial 54 finished with value: 0.7477477477477478 and parameters: {'n_estimators': 175, 'max_depth': 29, 'learning_rate': 0.016905488129367534, 'subsample': 0.95, 'colsample_bytree': 0.65, 'min_child_weight': 22}. Best is trial 42 with value: 0.8229166666666666.\n",
      "[I 2024-07-26 17:59:31,340] Trial 55 finished with value: 0.8901098901098902 and parameters: {'n_estimators': 495, 'max_depth': 13, 'learning_rate': 0.056660271915512, 'subsample': 0.8500000000000001, 'colsample_bytree': 0.55, 'min_child_weight': 5}. Best is trial 55 with value: 0.8901098901098902.\n",
      "[I 2024-07-26 17:59:42,621] Trial 56 finished with value: 0.8663101604278075 and parameters: {'n_estimators': 342, 'max_depth': 14, 'learning_rate': 0.05905237319217313, 'subsample': 0.9, 'colsample_bytree': 0.55, 'min_child_weight': 11}. Best is trial 55 with value: 0.8901098901098902.\n",
      "[I 2024-07-26 17:59:59,621] Trial 57 finished with value: 0.8804347826086957 and parameters: {'n_estimators': 484, 'max_depth': 13, 'learning_rate': 0.057255485429086594, 'subsample': 0.95, 'colsample_bytree': 0.55, 'min_child_weight': 11}. Best is trial 55 with value: 0.8901098901098902.\n",
      "[I 2024-07-26 18:00:13,749] Trial 58 finished with value: 0.8137254901960783 and parameters: {'n_estimators': 497, 'max_depth': 5, 'learning_rate': 0.05647673605404349, 'subsample': 0.95, 'colsample_bytree': 0.6, 'min_child_weight': 31}. Best is trial 55 with value: 0.8901098901098902.\n",
      "[I 2024-07-26 18:00:26,457] Trial 59 finished with value: 0.8743169398907102 and parameters: {'n_estimators': 460, 'max_depth': 14, 'learning_rate': 0.08769476700423194, 'subsample': 0.95, 'colsample_bytree': 0.55, 'min_child_weight': 12}. Best is trial 55 with value: 0.8901098901098902.\n",
      "[I 2024-07-26 18:00:42,864] Trial 60 finished with value: 0.8743169398907102 and parameters: {'n_estimators': 468, 'max_depth': 14, 'learning_rate': 0.05772373052395424, 'subsample': 0.9, 'colsample_bytree': 0.55, 'min_child_weight': 11}. Best is trial 55 with value: 0.8901098901098902.\n",
      "[I 2024-07-26 18:00:55,607] Trial 61 finished with value: 0.8743169398907102 and parameters: {'n_estimators': 464, 'max_depth': 14, 'learning_rate': 0.08733867325887541, 'subsample': 0.9, 'colsample_bytree': 0.55, 'min_child_weight': 11}. Best is trial 55 with value: 0.8901098901098902.\n",
      "[I 2024-07-26 18:01:09,042] Trial 62 finished with value: 0.8729281767955801 and parameters: {'n_estimators': 459, 'max_depth': 14, 'learning_rate': 0.0888030284747598, 'subsample': 0.95, 'colsample_bytree': 0.55, 'min_child_weight': 12}. Best is trial 55 with value: 0.8901098901098902.\n",
      "[I 2024-07-26 18:01:23,219] Trial 63 finished with value: 0.8756756756756757 and parameters: {'n_estimators': 467, 'max_depth': 14, 'learning_rate': 0.08952691892005132, 'subsample': 0.95, 'colsample_bytree': 0.55, 'min_child_weight': 12}. Best is trial 55 with value: 0.8901098901098902.\n",
      "[I 2024-07-26 18:01:36,920] Trial 64 finished with value: 0.8756756756756757 and parameters: {'n_estimators': 460, 'max_depth': 9, 'learning_rate': 0.09113533845190563, 'subsample': 0.95, 'colsample_bytree': 0.6, 'min_child_weight': 18}. Best is trial 55 with value: 0.8901098901098902.\n",
      "[I 2024-07-26 18:01:50,642] Trial 65 finished with value: 0.8481675392670157 and parameters: {'n_estimators': 463, 'max_depth': 9, 'learning_rate': 0.09652892674392649, 'subsample': 0.95, 'colsample_bytree': 0.6, 'min_child_weight': 37}. Best is trial 55 with value: 0.8901098901098902.\n",
      "[I 2024-07-26 18:02:04,016] Trial 66 finished with value: 0.8695652173913043 and parameters: {'n_estimators': 412, 'max_depth': 10, 'learning_rate': 0.08290765010206601, 'subsample': 0.95, 'colsample_bytree': 0.5, 'min_child_weight': 24}. Best is trial 55 with value: 0.8901098901098902.\n",
      "[I 2024-07-26 18:02:18,793] Trial 67 finished with value: 0.8571428571428572 and parameters: {'n_estimators': 473, 'max_depth': 6, 'learning_rate': 0.06441627329241816, 'subsample': 0.9, 'colsample_bytree': 0.6, 'min_child_weight': 18}. Best is trial 55 with value: 0.8901098901098902.\n",
      "[I 2024-07-26 18:02:33,382] Trial 68 finished with value: 0.7941176470588235 and parameters: {'n_estimators': 437, 'max_depth': 12, 'learning_rate': 0.050550395124121066, 'subsample': 0.95, 'colsample_bytree': 0.65, 'min_child_weight': 45}. Best is trial 55 with value: 0.8901098901098902.\n",
      "[I 2024-07-26 18:02:48,452] Trial 69 finished with value: 0.826530612244898 and parameters: {'n_estimators': 479, 'max_depth': 16, 'learning_rate': 0.0692801970112637, 'subsample': 0.9, 'colsample_bytree': 0.55, 'min_child_weight': 31}. Best is trial 55 with value: 0.8901098901098902.\n",
      "[I 2024-07-26 18:02:59,832] Trial 70 finished with value: 0.792270531400966 and parameters: {'n_estimators': 433, 'max_depth': 3, 'learning_rate': 0.09982980936001454, 'subsample': 0.95, 'colsample_bytree': 0.6, 'min_child_weight': 19}. Best is trial 55 with value: 0.8901098901098902.\n",
      "[I 2024-07-26 18:03:14,514] Trial 71 finished with value: 0.8756756756756757 and parameters: {'n_estimators': 455, 'max_depth': 14, 'learning_rate': 0.08560697262429433, 'subsample': 0.95, 'colsample_bytree': 0.55, 'min_child_weight': 12}. Best is trial 55 with value: 0.8901098901098902.\n",
      "[I 2024-07-26 18:03:29,063] Trial 72 finished with value: 0.8756756756756757 and parameters: {'n_estimators': 443, 'max_depth': 13, 'learning_rate': 0.07868158709502306, 'subsample': 0.95, 'colsample_bytree': 0.55, 'min_child_weight': 11}. Best is trial 55 with value: 0.8901098901098902.\n",
      "[I 2024-07-26 18:03:43,381] Trial 73 finished with value: 0.8756756756756757 and parameters: {'n_estimators': 447, 'max_depth': 13, 'learning_rate': 0.07798759320870964, 'subsample': 0.95, 'colsample_bytree': 0.55, 'min_child_weight': 16}. Best is trial 55 with value: 0.8901098901098902.\n",
      "[I 2024-07-26 18:03:57,577] Trial 74 finished with value: 0.8663101604278075 and parameters: {'n_estimators': 445, 'max_depth': 12, 'learning_rate': 0.07762146651100943, 'subsample': 0.95, 'colsample_bytree': 0.5, 'min_child_weight': 23}. Best is trial 55 with value: 0.8901098901098902.\n",
      "[I 2024-07-26 18:04:11,413] Trial 75 finished with value: 0.8709677419354839 and parameters: {'n_estimators': 401, 'max_depth': 10, 'learning_rate': 0.06653096283112911, 'subsample': 0.95, 'colsample_bytree': 0.6, 'min_child_weight': 16}. Best is trial 55 with value: 0.8901098901098902.\n",
      "[I 2024-07-26 18:04:26,529] Trial 76 finished with value: 0.8181818181818181 and parameters: {'n_estimators': 417, 'max_depth': 18, 'learning_rate': 0.0395156891121821, 'subsample': 0.95, 'colsample_bytree': 0.55, 'min_child_weight': 26}. Best is trial 55 with value: 0.8901098901098902.\n",
      "[I 2024-07-26 18:04:42,605] Trial 77 finished with value: 0.8709677419354839 and parameters: {'n_estimators': 485, 'max_depth': 13, 'learning_rate': 0.05129456908207496, 'subsample': 0.95, 'colsample_bytree': 0.6, 'min_child_weight': 15}. Best is trial 55 with value: 0.8901098901098902.\n",
      "[I 2024-07-26 18:04:55,752] Trial 78 finished with value: 0.8709677419354839 and parameters: {'n_estimators': 382, 'max_depth': 15, 'learning_rate': 0.07812649131685387, 'subsample': 0.95, 'colsample_bytree': 0.5, 'min_child_weight': 20}. Best is trial 55 with value: 0.8901098901098902.\n",
      "[I 2024-07-26 18:05:10,130] Trial 79 finished with value: 0.8743169398907102 and parameters: {'n_estimators': 446, 'max_depth': 7, 'learning_rate': 0.08962778200728445, 'subsample': 0.95, 'colsample_bytree': 0.55, 'min_child_weight': 10}. Best is trial 55 with value: 0.8901098901098902.\n",
      "[I 2024-07-26 18:05:24,774] Trial 80 finished with value: 0.8410256410256411 and parameters: {'n_estimators': 493, 'max_depth': 10, 'learning_rate': 0.0721210315812502, 'subsample': 0.9, 'colsample_bytree': 0.55, 'min_child_weight': 34}. Best is trial 55 with value: 0.8901098901098902.\n",
      "[I 2024-07-26 18:05:39,978] Trial 81 finished with value: 0.8743169398907102 and parameters: {'n_estimators': 422, 'max_depth': 15, 'learning_rate': 0.05780614871434179, 'subsample': 0.9, 'colsample_bytree': 0.55, 'min_child_weight': 9}. Best is trial 55 with value: 0.8901098901098902.\n",
      "[I 2024-07-26 18:05:54,965] Trial 82 finished with value: 0.8804347826086957 and parameters: {'n_estimators': 451, 'max_depth': 12, 'learning_rate': 0.06419845767052834, 'subsample': 0.95, 'colsample_bytree': 0.5, 'min_child_weight': 14}. Best is trial 55 with value: 0.8901098901098902.\n",
      "[I 2024-07-26 18:06:10,494] Trial 83 finished with value: 0.8526315789473685 and parameters: {'n_estimators': 452, 'max_depth': 11, 'learning_rate': 0.04516683890099771, 'subsample': 0.95, 'colsample_bytree': 0.5, 'min_child_weight': 17}. Best is trial 55 with value: 0.8901098901098902.\n",
      "[I 2024-07-26 18:06:23,885] Trial 84 finished with value: 0.84375 and parameters: {'n_estimators': 383, 'max_depth': 13, 'learning_rate': 0.06383631264375196, 'subsample': 0.95, 'colsample_bytree': 0.5, 'min_child_weight': 28}. Best is trial 55 with value: 0.8901098901098902.\n",
      "[I 2024-07-26 18:06:38,552] Trial 85 finished with value: 0.8804347826086957 and parameters: {'n_estimators': 500, 'max_depth': 9, 'learning_rate': 0.07676837800374117, 'subsample': 0.95, 'colsample_bytree': 0.55, 'min_child_weight': 22}. Best is trial 55 with value: 0.8901098901098902.\n",
      "[I 2024-07-26 18:06:53,832] Trial 86 finished with value: 0.8756756756756757 and parameters: {'n_estimators': 499, 'max_depth': 9, 'learning_rate': 0.07671139778462009, 'subsample': 0.95, 'colsample_bytree': 0.5, 'min_child_weight': 22}. Best is trial 55 with value: 0.8901098901098902.\n",
      "[I 2024-07-26 18:07:08,291] Trial 87 finished with value: 0.8709677419354839 and parameters: {'n_estimators': 484, 'max_depth': 8, 'learning_rate': 0.09903669386836027, 'subsample': 0.9, 'colsample_bytree': 0.9, 'min_child_weight': 15}. Best is trial 55 with value: 0.8901098901098902.\n",
      "[I 2024-07-26 18:07:23,659] Trial 88 finished with value: 0.7627906976744186 and parameters: {'n_estimators': 427, 'max_depth': 12, 'learning_rate': 0.03965333555363328, 'subsample': 0.65, 'colsample_bytree': 0.6, 'min_child_weight': 50}. Best is trial 55 with value: 0.8901098901098902.\n",
      "[I 2024-07-26 18:07:37,890] Trial 89 finished with value: 0.7830188679245282 and parameters: {'n_estimators': 477, 'max_depth': 16, 'learning_rate': 0.05332024676270101, 'subsample': 0.95, 'colsample_bytree': 0.5, 'min_child_weight': 74}. Best is trial 55 with value: 0.8901098901098902.\n",
      "[I 2024-07-26 18:07:50,707] Trial 90 finished with value: 0.7579908675799086 and parameters: {'n_estimators': 439, 'max_depth': 5, 'learning_rate': 0.06649672886922757, 'subsample': 0.95, 'colsample_bytree': 0.55, 'min_child_weight': 111}. Best is trial 55 with value: 0.8901098901098902.\n",
      "[I 2024-07-26 18:08:05,668] Trial 91 finished with value: 0.8617021276595744 and parameters: {'n_estimators': 499, 'max_depth': 9, 'learning_rate': 0.08135564985853673, 'subsample': 0.95, 'colsample_bytree': 0.5, 'min_child_weight': 24}. Best is trial 55 with value: 0.8901098901098902.\n",
      "[I 2024-07-26 18:08:21,682] Trial 92 finished with value: 0.81 and parameters: {'n_estimators': 489, 'max_depth': 8, 'learning_rate': 0.07467880928732366, 'subsample': 0.5, 'colsample_bytree': 0.5, 'min_child_weight': 21}. Best is trial 55 with value: 0.8901098901098902.\n",
      "[I 2024-07-26 18:08:38,139] Trial 93 finished with value: 0.8756756756756757 and parameters: {'n_estimators': 453, 'max_depth': 11, 'learning_rate': 0.0467250969733331, 'subsample': 0.95, 'colsample_bytree': 0.5, 'min_child_weight': 8}. Best is trial 55 with value: 0.8901098901098902.\n",
      "[I 2024-07-26 18:08:52,150] Trial 94 finished with value: 0.8571428571428572 and parameters: {'n_estimators': 500, 'max_depth': 12, 'learning_rate': 0.07557694827344723, 'subsample': 0.9, 'colsample_bytree': 0.55, 'min_child_weight': 29}. Best is trial 55 with value: 0.8901098901098902.\n",
      "[I 2024-07-26 18:09:06,011] Trial 95 finished with value: 0.8804347826086957 and parameters: {'n_estimators': 472, 'max_depth': 10, 'learning_rate': 0.08970220653348773, 'subsample': 0.95, 'colsample_bytree': 0.55, 'min_child_weight': 8}. Best is trial 55 with value: 0.8901098901098902.\n",
      "[I 2024-07-26 18:09:20,469] Trial 96 finished with value: 0.8743169398907102 and parameters: {'n_estimators': 473, 'max_depth': 13, 'learning_rate': 0.09011971407335145, 'subsample': 0.9, 'colsample_bytree': 0.55, 'min_child_weight': 8}. Best is trial 55 with value: 0.8901098901098902.\n",
      "[I 2024-07-26 18:09:35,358] Trial 97 finished with value: 0.8663101604278075 and parameters: {'n_estimators': 454, 'max_depth': 7, 'learning_rate': 0.059521529826234924, 'subsample': 0.95, 'colsample_bytree': 0.6, 'min_child_weight': 14}. Best is trial 55 with value: 0.8901098901098902.\n",
      "[I 2024-07-26 18:09:49,054] Trial 98 finished with value: 0.8663101604278075 and parameters: {'n_estimators': 401, 'max_depth': 10, 'learning_rate': 0.064284563376991, 'subsample': 0.95, 'colsample_bytree': 0.55, 'min_child_weight': 17}. Best is trial 55 with value: 0.8901098901098902.\n",
      "[I 2024-07-26 18:10:03,596] Trial 99 finished with value: 0.8804347826086957 and parameters: {'n_estimators': 475, 'max_depth': 17, 'learning_rate': 0.09965993048256924, 'subsample': 0.9, 'colsample_bytree': 0.6, 'min_child_weight': 9}. Best is trial 55 with value: 0.8901098901098902.\n"
     ]
    }
   ],
   "source": [
    "study_xgb = optuna.create_study(direction = 'maximize')\n",
    "study_xgb.optimize(objective_xgb, n_trials=100)"
   ]
  },
  {
   "cell_type": "code",
   "execution_count": null,
   "id": "ByMdpeP7-hkc",
   "metadata": {
    "colab": {
     "base_uri": "https://localhost:8080/"
    },
    "hidden": true,
    "id": "ByMdpeP7-hkc",
    "outputId": "a45d8bd7-6817-4543-98e0-a518202da203"
   },
   "outputs": [
    {
     "name": "stdout",
     "output_type": "stream",
     "text": [
      "{'n_estimators': 495, 'max_depth': 13, 'learning_rate': 0.056660271915512, 'subsample': 0.8500000000000001, 'colsample_bytree': 0.55, 'min_child_weight': 5}\n"
     ]
    }
   ],
   "source": [
    "best_params_xgb = study_xgb.best_params\n",
    "print(best_params_xgb)"
   ]
  },
  {
   "cell_type": "code",
   "execution_count": null,
   "id": "-DwozAOqGtT-",
   "metadata": {
    "hidden": true,
    "id": "-DwozAOqGtT-"
   },
   "outputs": [],
   "source": [
    "clf_xgb_turn = XGBClassifier(**best_params_xgb, scale_pos_weight=weight, random_state=27)"
   ]
  },
  {
   "cell_type": "code",
   "execution_count": null,
   "id": "P2lxqg-QJxi-",
   "metadata": {
    "colab": {
     "base_uri": "https://localhost:8080/"
    },
    "hidden": true,
    "id": "P2lxqg-QJxi-",
    "outputId": "45dfd215-c2cd-4870-a203-2bf7b70e43fe"
   },
   "outputs": [
    {
     "name": "stdout",
     "output_type": "stream",
     "text": [
      "Score Cross Validation: 98.55%\n",
      "Average Precision: 87.24%\n",
      "Precision Score: 93.10%\n",
      "Recall Score: 85.26%\n",
      "F1 Score: 89.01%\n",
      "AUCPR: 87.23%\n",
      "ROC AUC Score: 92.63%\n"
     ]
    }
   ],
   "source": [
    "modelo(clf_xgb_turn, X_train, y_train, X_val, y_val)"
   ]
  },
  {
   "cell_type": "code",
   "execution_count": null,
   "id": "0d_wnGT-G8mu",
   "metadata": {
    "colab": {
     "base_uri": "https://localhost:8080/",
     "height": 472
    },
    "hidden": true,
    "id": "0d_wnGT-G8mu",
    "outputId": "b120b55f-f86f-431b-cc03-6e98e7882602"
   },
   "outputs": [
    {
     "data": {
      "image/png": "[encoded data removed]",
      "text/plain": [
       "<Figure size 640x480 with 1 Axes>"
      ]
     },
     "metadata": {},
     "output_type": "display_data"
    }
   ],
   "source": [
    "plot_recall_precision_curve(clf_xgb_turn, X_val, y_val, name_clf='XGBoost Classifier')"
   ]
  },
  {
   "cell_type": "code",
   "execution_count": null,
   "id": "LVfKpd7DQxgr",
   "metadata": {
    "colab": {
     "base_uri": "https://localhost:8080/"
    },
    "hidden": true,
    "id": "LVfKpd7DQxgr",
    "outputId": "4512a265-fa91-4e35-cef1-5d94ca7a1aea"
   },
   "outputs": [
    {
     "name": "stdout",
     "output_type": "stream",
     "text": [
      "Score Cross Validation: 98.55%\n",
      "Average Precision: 87.03%\n",
      "Precision Score: 91.01%\n",
      "Recall Score: 85.26%\n",
      "F1 Score: 88.04%\n",
      "AUCPR: 87.03%\n",
      "ROC AUC Score: 92.62%\n"
     ]
    }
   ],
   "source": [
    "modelo(clf_xgb_turn, X_train, y_train, X_test, y_test)"
   ]
  },
  {
   "cell_type": "markdown",
   "id": "pri41axogZyh",
   "metadata": {
    "heading_collapsed": true,
    "hidden": true,
    "id": "pri41axogZyh"
   },
   "source": [
    "### LightGBM Classifier Turning"
   ]
  },
  {
   "cell_type": "code",
   "execution_count": null,
   "id": "DLXrHjiAf2Jg",
   "metadata": {
    "hidden": true,
    "id": "DLXrHjiAf2Jg"
   },
   "outputs": [],
   "source": [
    "def objective_lgbm(trial):\n",
    "    # Definindo o espaço de busca dos hiperparâmetros\n",
    "    n_estimators = trial.suggest_int('n_estimators', 6, 500)\n",
    "    max_depth = trial.suggest_int('max_depth', 3, 20)\n",
    "    learning_rate = trial.suggest_float('learning_rate', 1e-3, 1e-1, log=True)\n",
    "    num_leaves = trial.suggest_int('num_leaves', 31, 60)\n",
    "    min_data_in_leaf = trial.suggest_int('min_data_in_leaf', 5, 200)\n",
    "    subsample = trial.suggest_float('subsample', 0.5, 0.95, step=0.05)\n",
    "    colsample_bytree = trial.suggest_float('colsample_bytree', 0.4, 0.8, step=0.05)\n",
    "\n",
    "    params = {\n",
    "        'n_estimators':n_estimators,\n",
    "        'max_depth':max_depth,\n",
    "        'learning_rate':learning_rate,\n",
    "        'subsample':subsample,\n",
    "        'min_data_in_leaf':min_data_in_leaf,\n",
    "        'num_leaves':num_leaves,\n",
    "        'colsample_bytree':colsample_bytree,\n",
    "        }\n",
    "\n",
    "    clf = LGBMClassifier(**params, is_unbalance=True, verbosity=-1, random_state = 27)\n",
    "    clf.fit(X_train, y_train)\n",
    "\n",
    "    score = f1_score(y_val, clf.predict(X_val))\n",
    "    # score = roc_auc_score(y_val, clf.predict_proba(X_val)[:, 1])\n",
    "\n",
    "    return score"
   ]
  },
  {
   "cell_type": "code",
   "execution_count": null,
   "id": "_EhOF3DNf2Nq",
   "metadata": {
    "colab": {
     "base_uri": "https://localhost:8080/"
    },
    "hidden": true,
    "id": "_EhOF3DNf2Nq",
    "outputId": "8cd7be52-142a-465a-d7cb-e2a9c8e9088c"
   },
   "outputs": [
    {
     "name": "stderr",
     "output_type": "stream",
     "text": [
      "[I 2024-07-26 18:26:04,749] A new study created in memory with name: no-name-0591d3ad-ce31-4e2d-ab23-19ae6599c126\n",
      "[I 2024-07-26 18:26:11,199] Trial 0 finished with value: 0.32684824902723736 and parameters: {'n_estimators': 287, 'max_depth': 3, 'learning_rate': 0.004732900058244881, 'num_leaves': 34, 'min_data_in_leaf': 71, 'subsample': 0.65, 'colsample_bytree': 0.5}. Best is trial 0 with value: 0.32684824902723736.\n",
      "[I 2024-07-26 18:26:26,044] Trial 1 finished with value: 0.7668393782383419 and parameters: {'n_estimators': 342, 'max_depth': 19, 'learning_rate': 0.026260083554743376, 'num_leaves': 43, 'min_data_in_leaf': 117, 'subsample': 0.8, 'colsample_bytree': 0.65}. Best is trial 1 with value: 0.7668393782383419.\n",
      "[I 2024-07-26 18:26:34,860] Trial 2 finished with value: 0.0 and parameters: {'n_estimators': 161, 'max_depth': 18, 'learning_rate': 0.0031030262710892227, 'num_leaves': 51, 'min_data_in_leaf': 62, 'subsample': 0.7, 'colsample_bytree': 0.75}. Best is trial 1 with value: 0.7668393782383419.\n",
      "[I 2024-07-26 18:26:49,858] Trial 3 finished with value: 0.6893617021276596 and parameters: {'n_estimators': 392, 'max_depth': 10, 'learning_rate': 0.008058068960425817, 'num_leaves': 46, 'min_data_in_leaf': 182, 'subsample': 0.8, 'colsample_bytree': 0.6000000000000001}. Best is trial 1 with value: 0.7668393782383419.\n",
      "[I 2024-07-26 18:26:57,265] Trial 4 finished with value: 0.0 and parameters: {'n_estimators': 196, 'max_depth': 6, 'learning_rate': 0.0012242201915259022, 'num_leaves': 52, 'min_data_in_leaf': 147, 'subsample': 0.9, 'colsample_bytree': 0.65}. Best is trial 1 with value: 0.7668393782383419.\n",
      "[I 2024-07-26 18:27:03,063] Trial 5 finished with value: 0.0 and parameters: {'n_estimators': 115, 'max_depth': 8, 'learning_rate': 0.0019497023940153587, 'num_leaves': 33, 'min_data_in_leaf': 72, 'subsample': 0.95, 'colsample_bytree': 0.6000000000000001}. Best is trial 1 with value: 0.7668393782383419.\n",
      "[I 2024-07-26 18:27:11,370] Trial 6 finished with value: 0.004619758351101635 and parameters: {'n_estimators': 407, 'max_depth': 6, 'learning_rate': 0.06699879030471878, 'num_leaves': 53, 'min_data_in_leaf': 90, 'subsample': 0.6, 'colsample_bytree': 0.5}. Best is trial 1 with value: 0.7668393782383419.\n",
      "[I 2024-07-26 18:27:18,961] Trial 7 finished with value: 0.022902869757174392 and parameters: {'n_estimators': 231, 'max_depth': 14, 'learning_rate': 0.05065923236315042, 'num_leaves': 46, 'min_data_in_leaf': 152, 'subsample': 0.75, 'colsample_bytree': 0.5}. Best is trial 1 with value: 0.7668393782383419.\n",
      "[I 2024-07-26 18:27:29,967] Trial 8 finished with value: 0.0 and parameters: {'n_estimators': 243, 'max_depth': 15, 'learning_rate': 0.0013531151348473588, 'num_leaves': 46, 'min_data_in_leaf': 172, 'subsample': 0.55, 'colsample_bytree': 0.7000000000000001}. Best is trial 1 with value: 0.7668393782383419.\n",
      "[I 2024-07-26 18:27:37,735] Trial 9 finished with value: 0.39143730886850153 and parameters: {'n_estimators': 196, 'max_depth': 7, 'learning_rate': 0.0318010393567799, 'num_leaves': 47, 'min_data_in_leaf': 29, 'subsample': 0.8500000000000001, 'colsample_bytree': 0.75}. Best is trial 1 with value: 0.7668393782383419.\n",
      "[I 2024-07-26 18:27:39,721] Trial 10 finished with value: 0.12658227848101267 and parameters: {'n_estimators': 13, 'max_depth': 18, 'learning_rate': 0.019381901227949746, 'num_leaves': 59, 'min_data_in_leaf': 124, 'subsample': 0.5, 'colsample_bytree': 0.4}. Best is trial 1 with value: 0.7668393782383419.\n",
      "[I 2024-07-26 18:28:01,173] Trial 11 finished with value: 0.7677725118483412 and parameters: {'n_estimators': 455, 'max_depth': 11, 'learning_rate': 0.010794925981466879, 'num_leaves': 39, 'min_data_in_leaf': 192, 'subsample': 0.8, 'colsample_bytree': 0.6000000000000001}. Best is trial 11 with value: 0.7677725118483412.\n",
      "[I 2024-07-26 18:28:22,253] Trial 12 finished with value: 0.8681318681318682 and parameters: {'n_estimators': 489, 'max_depth': 13, 'learning_rate': 0.014757518744435372, 'num_leaves': 39, 'min_data_in_leaf': 198, 'subsample': 0.8, 'colsample_bytree': 0.65}. Best is trial 12 with value: 0.8681318681318682.\n",
      "[I 2024-07-26 18:28:43,799] Trial 13 finished with value: 0.7783251231527094 and parameters: {'n_estimators': 490, 'max_depth': 13, 'learning_rate': 0.011292718369891278, 'num_leaves': 39, 'min_data_in_leaf': 199, 'subsample': 0.75, 'colsample_bytree': 0.8}. Best is trial 12 with value: 0.8681318681318682.\n",
      "[I 2024-07-26 18:29:05,797] Trial 14 finished with value: 0.8040201005025126 and parameters: {'n_estimators': 494, 'max_depth': 14, 'learning_rate': 0.011708436427886763, 'num_leaves': 38, 'min_data_in_leaf': 200, 'subsample': 0.7, 'colsample_bytree': 0.8}. Best is trial 12 with value: 0.8681318681318682.\n",
      "[I 2024-07-26 18:29:28,876] Trial 15 finished with value: 0.7960199004975125 and parameters: {'n_estimators': 498, 'max_depth': 16, 'learning_rate': 0.005868098236592654, 'num_leaves': 38, 'min_data_in_leaf': 161, 'subsample': 0.65, 'colsample_bytree': 0.8}. Best is trial 12 with value: 0.8681318681318682.\n",
      "[I 2024-07-26 18:29:41,755] Trial 16 finished with value: 0.8272251308900523 and parameters: {'n_estimators': 328, 'max_depth': 12, 'learning_rate': 0.01627872815334048, 'num_leaves': 31, 'min_data_in_leaf': 19, 'subsample': 0.7, 'colsample_bytree': 0.7000000000000001}. Best is trial 12 with value: 0.8681318681318682.\n",
      "[I 2024-07-26 18:29:54,334] Trial 17 finished with value: 0.8229166666666666 and parameters: {'n_estimators': 317, 'max_depth': 10, 'learning_rate': 0.023362659016941463, 'num_leaves': 31, 'min_data_in_leaf': 8, 'subsample': 0.9, 'colsample_bytree': 0.7000000000000001}. Best is trial 12 with value: 0.8681318681318682.\n",
      "[I 2024-07-26 18:30:05,747] Trial 18 finished with value: 0.11127167630057802 and parameters: {'n_estimators': 377, 'max_depth': 12, 'learning_rate': 0.04150159575069745, 'num_leaves': 35, 'min_data_in_leaf': 23, 'subsample': 0.65, 'colsample_bytree': 0.55}. Best is trial 12 with value: 0.8681318681318682.\n",
      "[I 2024-07-26 18:30:14,948] Trial 19 finished with value: 0.06314978821717367 and parameters: {'n_estimators': 440, 'max_depth': 17, 'learning_rate': 0.08651047349117391, 'num_leaves': 31, 'min_data_in_leaf': 52, 'subsample': 0.8500000000000001, 'colsample_bytree': 0.7000000000000001}. Best is trial 12 with value: 0.8681318681318682.\n",
      "[I 2024-07-26 18:30:28,359] Trial 20 finished with value: 0.8510638297872339 and parameters: {'n_estimators': 331, 'max_depth': 9, 'learning_rate': 0.01843131803328527, 'num_leaves': 42, 'min_data_in_leaf': 98, 'subsample': 0.6, 'colsample_bytree': 0.65}. Best is trial 12 with value: 0.8681318681318682.\n",
      "[I 2024-07-26 18:30:42,026] Trial 21 finished with value: 0.8376963350785339 and parameters: {'n_estimators': 337, 'max_depth': 9, 'learning_rate': 0.016100610789403676, 'num_leaves': 43, 'min_data_in_leaf': 94, 'subsample': 0.6, 'colsample_bytree': 0.65}. Best is trial 12 with value: 0.8681318681318682.\n",
      "[I 2024-07-26 18:30:54,006] Trial 22 finished with value: 0.8080808080808081 and parameters: {'n_estimators': 285, 'max_depth': 9, 'learning_rate': 0.01578916498955295, 'num_leaves': 42, 'min_data_in_leaf': 98, 'subsample': 0.55, 'colsample_bytree': 0.65}. Best is trial 12 with value: 0.8681318681318682.\n",
      "[I 2024-07-26 18:31:02,872] Trial 23 finished with value: 0.198090692124105 and parameters: {'n_estimators': 358, 'max_depth': 3, 'learning_rate': 0.007098980110862499, 'num_leaves': 42, 'min_data_in_leaf': 129, 'subsample': 0.6, 'colsample_bytree': 0.55}. Best is trial 12 with value: 0.8681318681318682.\n",
      "[I 2024-07-26 18:31:14,854] Trial 24 finished with value: 0.4416403785488959 and parameters: {'n_estimators': 431, 'max_depth': 5, 'learning_rate': 0.03253124327281722, 'num_leaves': 49, 'min_data_in_leaf': 89, 'subsample': 0.5, 'colsample_bytree': 0.65}. Best is trial 12 with value: 0.8681318681318682.\n",
      "[I 2024-07-26 18:31:25,936] Trial 25 finished with value: 0.7894736842105263 and parameters: {'n_estimators': 294, 'max_depth': 9, 'learning_rate': 0.004148189496748797, 'num_leaves': 43, 'min_data_in_leaf': 107, 'subsample': 0.6, 'colsample_bytree': 0.75}. Best is trial 12 with value: 0.8681318681318682.\n",
      "[I 2024-07-26 18:31:30,981] Trial 26 finished with value: 0.33128834355828224 and parameters: {'n_estimators': 83, 'max_depth': 11, 'learning_rate': 0.014468533237440543, 'num_leaves': 41, 'min_data_in_leaf': 138, 'subsample': 0.55, 'colsample_bytree': 0.55}. Best is trial 12 with value: 0.8681318681318682.\n",
      "[I 2024-07-26 18:31:45,178] Trial 27 finished with value: 0.6 and parameters: {'n_estimators': 400, 'max_depth': 8, 'learning_rate': 0.008546312876635223, 'num_leaves': 36, 'min_data_in_leaf': 48, 'subsample': 0.65, 'colsample_bytree': 0.6000000000000001}. Best is trial 12 with value: 0.8681318681318682.\n",
      "[I 2024-07-26 18:31:55,688] Trial 28 finished with value: 0.8465608465608466 and parameters: {'n_estimators': 262, 'max_depth': 13, 'learning_rate': 0.021680018723308693, 'num_leaves': 44, 'min_data_in_leaf': 80, 'subsample': 0.75, 'colsample_bytree': 0.65}. Best is trial 12 with value: 0.8681318681318682.\n",
      "[I 2024-07-26 18:32:07,529] Trial 29 finished with value: 0.8404255319148937 and parameters: {'n_estimators': 279, 'max_depth': 13, 'learning_rate': 0.02315691977638645, 'num_leaves': 56, 'min_data_in_leaf': 75, 'subsample': 0.75, 'colsample_bytree': 0.6000000000000001}. Best is trial 12 with value: 0.8681318681318682.\n",
      "[I 2024-07-26 18:32:15,367] Trial 30 finished with value: 0.0395653385344107 and parameters: {'n_estimators': 211, 'max_depth': 15, 'learning_rate': 0.04229160397733739, 'num_leaves': 48, 'min_data_in_leaf': 114, 'subsample': 0.8500000000000001, 'colsample_bytree': 0.4}. Best is trial 12 with value: 0.8681318681318682.\n",
      "[I 2024-07-26 18:32:27,042] Trial 31 finished with value: 0.8602150537634409 and parameters: {'n_estimators': 279, 'max_depth': 13, 'learning_rate': 0.022730217229663525, 'num_leaves': 57, 'min_data_in_leaf': 76, 'subsample': 0.75, 'colsample_bytree': 0.6000000000000001}. Best is trial 12 with value: 0.8681318681318682.\n",
      "[I 2024-07-26 18:32:38,233] Trial 32 finished with value: 0.6083650190114068 and parameters: {'n_estimators': 267, 'max_depth': 13, 'learning_rate': 0.028971787879925673, 'num_leaves': 44, 'min_data_in_leaf': 79, 'subsample': 0.8, 'colsample_bytree': 0.65}. Best is trial 12 with value: 0.8681318681318682.\n",
      "[I 2024-07-26 18:32:46,491] Trial 33 finished with value: 0.6866952789699571 and parameters: {'n_estimators': 144, 'max_depth': 15, 'learning_rate': 0.022211182533344233, 'num_leaves': 40, 'min_data_in_leaf': 52, 'subsample': 0.75, 'colsample_bytree': 0.55}. Best is trial 12 with value: 0.8681318681318682.\n",
      "[I 2024-07-26 18:33:00,830] Trial 34 finished with value: 0.7431192660550459 and parameters: {'n_estimators': 305, 'max_depth': 11, 'learning_rate': 0.01285882539087921, 'num_leaves': 60, 'min_data_in_leaf': 61, 'subsample': 0.7, 'colsample_bytree': 0.7000000000000001}. Best is trial 12 with value: 0.8681318681318682.\n",
      "[I 2024-07-26 18:33:16,456] Trial 35 finished with value: 0.8743169398907102 and parameters: {'n_estimators': 361, 'max_depth': 20, 'learning_rate': 0.019039433505215184, 'num_leaves': 50, 'min_data_in_leaf': 39, 'subsample': 0.8, 'colsample_bytree': 0.6000000000000001}. Best is trial 35 with value: 0.8743169398907102.\n",
      "[I 2024-07-26 18:33:31,421] Trial 36 finished with value: 0.8510638297872339 and parameters: {'n_estimators': 361, 'max_depth': 20, 'learning_rate': 0.00891262056706329, 'num_leaves': 56, 'min_data_in_leaf': 37, 'subsample': 0.8, 'colsample_bytree': 0.45}. Best is trial 35 with value: 0.8743169398907102.\n",
      "[I 2024-07-26 18:33:39,254] Trial 37 finished with value: 0.024949321690316544 and parameters: {'n_estimators': 464, 'max_depth': 20, 'learning_rate': 0.03948822650316506, 'num_leaves': 54, 'min_data_in_leaf': 65, 'subsample': 0.9, 'colsample_bytree': 0.6000000000000001}. Best is trial 35 with value: 0.8743169398907102.\n",
      "[I 2024-07-26 18:33:46,270] Trial 38 finished with value: 0.032646398694144055 and parameters: {'n_estimators': 421, 'max_depth': 18, 'learning_rate': 0.06278197387315863, 'num_leaves': 50, 'min_data_in_leaf': 116, 'subsample': 0.8500000000000001, 'colsample_bytree': 0.55}. Best is trial 35 with value: 0.8743169398907102.\n",
      "[I 2024-07-26 18:34:01,497] Trial 39 finished with value: 0.8260869565217391 and parameters: {'n_estimators': 377, 'max_depth': 17, 'learning_rate': 0.0061120610354097205, 'num_leaves': 58, 'min_data_in_leaf': 39, 'subsample': 0.95, 'colsample_bytree': 0.5}. Best is trial 35 with value: 0.8743169398907102.\n",
      "[I 2024-07-26 18:34:10,577] Trial 40 finished with value: 0.8111111111111111 and parameters: {'n_estimators': 223, 'max_depth': 10, 'learning_rate': 0.003906761218522857, 'num_leaves': 55, 'min_data_in_leaf': 103, 'subsample': 0.8, 'colsample_bytree': 0.6000000000000001}. Best is trial 35 with value: 0.8743169398907102.\n",
      "[I 2024-07-26 18:34:24,954] Trial 41 finished with value: 0.8556149732620322 and parameters: {'n_estimators': 358, 'max_depth': 20, 'learning_rate': 0.009028493756825995, 'num_leaves': 57, 'min_data_in_leaf': 36, 'subsample': 0.8, 'colsample_bytree': 0.45}. Best is trial 35 with value: 0.8743169398907102.\n",
      "[I 2024-07-26 18:34:42,382] Trial 42 finished with value: 0.8633879781420765 and parameters: {'n_estimators': 356, 'max_depth': 19, 'learning_rate': 0.018680680407633758, 'num_leaves': 52, 'min_data_in_leaf': 12, 'subsample': 0.8, 'colsample_bytree': 0.75}. Best is trial 35 with value: 0.8743169398907102.\n",
      "[I 2024-07-26 18:34:57,893] Trial 43 finished with value: 0.8556149732620322 and parameters: {'n_estimators': 389, 'max_depth': 19, 'learning_rate': 0.009965127107440429, 'num_leaves': 52, 'min_data_in_leaf': 10, 'subsample': 0.8500000000000001, 'colsample_bytree': 0.45}. Best is trial 35 with value: 0.8743169398907102.\n",
      "[I 2024-07-26 18:35:13,548] Trial 44 finished with value: 0.03839527442776274 and parameters: {'n_estimators': 355, 'max_depth': 19, 'learning_rate': 0.030275315463592276, 'num_leaves': 51, 'min_data_in_leaf': 32, 'subsample': 0.8, 'colsample_bytree': 0.75}. Best is trial 35 with value: 0.8743169398907102.\n",
      "[I 2024-07-26 18:35:31,945] Trial 45 finished with value: 0.8571428571428572 and parameters: {'n_estimators': 464, 'max_depth': 20, 'learning_rate': 0.013711371907665264, 'num_leaves': 58, 'min_data_in_leaf': 44, 'subsample': 0.75, 'colsample_bytree': 0.45}. Best is trial 35 with value: 0.8743169398907102.\n",
      "[I 2024-07-26 18:35:54,580] Trial 46 finished with value: 0.8297872340425532 and parameters: {'n_estimators': 464, 'max_depth': 18, 'learning_rate': 0.012726510449097755, 'num_leaves': 53, 'min_data_in_leaf': 22, 'subsample': 0.75, 'colsample_bytree': 0.75}. Best is trial 35 with value: 0.8743169398907102.\n",
      "[I 2024-07-26 18:36:10,117] Trial 47 finished with value: 0.8135593220338984 and parameters: {'n_estimators': 410, 'max_depth': 17, 'learning_rate': 0.0026710379779483024, 'num_leaves': 60, 'min_data_in_leaf': 44, 'subsample': 0.7, 'colsample_bytree': 0.5}. Best is trial 35 with value: 0.8743169398907102.\n",
      "[I 2024-07-26 18:36:32,564] Trial 48 finished with value: 0.88268156424581 and parameters: {'n_estimators': 476, 'max_depth': 16, 'learning_rate': 0.01828778962762935, 'num_leaves': 58, 'min_data_in_leaf': 62, 'subsample': 0.8, 'colsample_bytree': 0.7000000000000001}. Best is trial 48 with value: 0.88268156424581.\n",
      "[I 2024-07-26 18:36:53,210] Trial 49 finished with value: 0.8729281767955801 and parameters: {'n_estimators': 448, 'max_depth': 16, 'learning_rate': 0.01906334442078464, 'num_leaves': 53, 'min_data_in_leaf': 60, 'subsample': 0.8500000000000001, 'colsample_bytree': 0.7000000000000001}. Best is trial 48 with value: 0.88268156424581.\n",
      "[I 2024-07-26 18:37:16,874] Trial 50 finished with value: 0.8839779005524862 and parameters: {'n_estimators': 480, 'max_depth': 16, 'learning_rate': 0.018710054825698083, 'num_leaves': 50, 'min_data_in_leaf': 61, 'subsample': 0.8500000000000001, 'colsample_bytree': 0.75}. Best is trial 50 with value: 0.8839779005524862.\n",
      "[I 2024-07-26 18:37:27,850] Trial 51 finished with value: 0.05161290322580645 and parameters: {'n_estimators': 481, 'max_depth': 17, 'learning_rate': 0.035810072520201935, 'num_leaves': 48, 'min_data_in_leaf': 59, 'subsample': 0.9, 'colsample_bytree': 0.75}. Best is trial 50 with value: 0.8839779005524862.\n",
      "[I 2024-07-26 18:37:47,502] Trial 52 finished with value: 0.879120879120879 and parameters: {'n_estimators': 443, 'max_depth': 15, 'learning_rate': 0.018654429630914716, 'num_leaves': 51, 'min_data_in_leaf': 16, 'subsample': 0.8500000000000001, 'colsample_bytree': 0.7000000000000001}. Best is trial 50 with value: 0.8839779005524862.\n",
      "[I 2024-07-26 18:38:08,020] Trial 53 finished with value: 0.879120879120879 and parameters: {'n_estimators': 445, 'max_depth': 16, 'learning_rate': 0.018740639061816573, 'num_leaves': 50, 'min_data_in_leaf': 180, 'subsample': 0.9, 'colsample_bytree': 0.7000000000000001}. Best is trial 50 with value: 0.8839779005524862.\n",
      "[I 2024-07-26 18:38:28,250] Trial 54 finished with value: 0.7184466019417475 and parameters: {'n_estimators': 445, 'max_depth': 16, 'learning_rate': 0.027331857737203726, 'num_leaves': 50, 'min_data_in_leaf': 66, 'subsample': 0.9, 'colsample_bytree': 0.7000000000000001}. Best is trial 50 with value: 0.8839779005524862.\n",
      "[I 2024-07-26 18:38:49,885] Trial 55 finished with value: 0.8681318681318682 and parameters: {'n_estimators': 478, 'max_depth': 16, 'learning_rate': 0.018407115928394932, 'num_leaves': 54, 'min_data_in_leaf': 170, 'subsample': 0.8500000000000001, 'colsample_bytree': 0.7000000000000001}. Best is trial 50 with value: 0.8839779005524862.\n",
      "[I 2024-07-26 18:39:16,792] Trial 56 finished with value: 0.8387096774193549 and parameters: {'n_estimators': 425, 'max_depth': 14, 'learning_rate': 0.026205693508497392, 'num_leaves': 50, 'min_data_in_leaf': 27, 'subsample': 0.95, 'colsample_bytree': 0.8}. Best is trial 50 with value: 0.8839779005524862.\n",
      "[I 2024-07-26 18:39:25,868] Trial 57 finished with value: 0.03798882681564245 and parameters: {'n_estimators': 447, 'max_depth': 15, 'learning_rate': 0.05087458288293942, 'num_leaves': 48, 'min_data_in_leaf': 55, 'subsample': 0.9, 'colsample_bytree': 0.7000000000000001}. Best is trial 50 with value: 0.8839779005524862.\n",
      "[I 2024-07-26 18:39:44,346] Trial 58 finished with value: 0.8059701492537313 and parameters: {'n_estimators': 412, 'max_depth': 16, 'learning_rate': 0.010941985723427188, 'num_leaves': 47, 'min_data_in_leaf': 84, 'subsample': 0.8500000000000001, 'colsample_bytree': 0.75}. Best is trial 50 with value: 0.8839779005524862.\n",
      "[I 2024-07-26 18:40:06,334] Trial 59 finished with value: 0.8729281767955801 and parameters: {'n_estimators': 481, 'max_depth': 18, 'learning_rate': 0.017364615560914086, 'num_leaves': 53, 'min_data_in_leaf': 16, 'subsample': 0.8500000000000001, 'colsample_bytree': 0.7000000000000001}. Best is trial 50 with value: 0.8839779005524862.\n",
      "[I 2024-07-26 18:40:27,832] Trial 60 finished with value: 0.8681318681318682 and parameters: {'n_estimators': 434, 'max_depth': 14, 'learning_rate': 0.019719606038825888, 'num_leaves': 51, 'min_data_in_leaf': 186, 'subsample': 0.9, 'colsample_bytree': 0.8}. Best is trial 50 with value: 0.8839779005524862.\n",
      "[I 2024-07-26 18:40:50,211] Trial 61 finished with value: 0.8524590163934427 and parameters: {'n_estimators': 499, 'max_depth': 18, 'learning_rate': 0.016768033257134208, 'num_leaves': 53, 'min_data_in_leaf': 13, 'subsample': 0.8500000000000001, 'colsample_bytree': 0.7000000000000001}. Best is trial 50 with value: 0.8839779005524862.\n",
      "[I 2024-07-26 18:41:11,209] Trial 62 finished with value: 0.7487684729064039 and parameters: {'n_estimators': 472, 'max_depth': 17, 'learning_rate': 0.02517645822316081, 'num_leaves': 51, 'min_data_in_leaf': 5, 'subsample': 0.8500000000000001, 'colsample_bytree': 0.75}. Best is trial 50 with value: 0.8839779005524862.\n",
      "[I 2024-07-26 18:41:31,784] Trial 63 finished with value: 0.8387096774193549 and parameters: {'n_estimators': 454, 'max_depth': 16, 'learning_rate': 0.014764459905677303, 'num_leaves': 54, 'min_data_in_leaf': 16, 'subsample': 0.9, 'colsample_bytree': 0.7000000000000001}. Best is trial 50 with value: 0.8839779005524862.\n",
      "[I 2024-07-26 18:41:54,469] Trial 64 finished with value: 0.8666666666666667 and parameters: {'n_estimators': 485, 'max_depth': 19, 'learning_rate': 0.019423937234648945, 'num_leaves': 49, 'min_data_in_leaf': 30, 'subsample': 0.8500000000000001, 'colsample_bytree': 0.7000000000000001}. Best is trial 50 with value: 0.8839779005524862.\n",
      "[I 2024-07-26 18:42:11,513] Trial 65 finished with value: 0.8080808080808081 and parameters: {'n_estimators': 387, 'max_depth': 15, 'learning_rate': 0.01220268064989618, 'num_leaves': 55, 'min_data_in_leaf': 70, 'subsample': 0.95, 'colsample_bytree': 0.65}. Best is trial 50 with value: 0.8839779005524862.\n",
      "[I 2024-07-26 18:42:23,183] Trial 66 finished with value: 0.014747589336358481 and parameters: {'n_estimators': 445, 'max_depth': 18, 'learning_rate': 0.034622771806849965, 'num_leaves': 49, 'min_data_in_leaf': 23, 'subsample': 0.8500000000000001, 'colsample_bytree': 0.7000000000000001}. Best is trial 50 with value: 0.8839779005524862.\n",
      "[I 2024-07-26 18:42:42,593] Trial 67 finished with value: 0.8743169398907102 and parameters: {'n_estimators': 417, 'max_depth': 17, 'learning_rate': 0.016932781675744222, 'num_leaves': 46, 'min_data_in_leaf': 43, 'subsample': 0.8, 'colsample_bytree': 0.75}. Best is trial 50 with value: 0.8839779005524862.\n",
      "[I 2024-07-26 18:43:02,002] Trial 68 finished with value: 0.8777777777777777 and parameters: {'n_estimators': 419, 'max_depth': 16, 'learning_rate': 0.021188624150934525, 'num_leaves': 46, 'min_data_in_leaf': 46, 'subsample': 0.8, 'colsample_bytree': 0.8}. Best is trial 50 with value: 0.8839779005524862.\n",
      "[I 2024-07-26 18:43:21,508] Trial 69 finished with value: 0.7452830188679246 and parameters: {'n_estimators': 427, 'max_depth': 15, 'learning_rate': 0.007577158671331173, 'num_leaves': 45, 'min_data_in_leaf': 45, 'subsample': 0.8, 'colsample_bytree': 0.8}. Best is trial 50 with value: 0.8839779005524862.\n",
      "[I 2024-07-26 18:43:40,470] Trial 70 finished with value: 0.8350515463917525 and parameters: {'n_estimators': 405, 'max_depth': 14, 'learning_rate': 0.01486192448023415, 'num_leaves': 46, 'min_data_in_leaf': 148, 'subsample': 0.8, 'colsample_bytree': 0.8}. Best is trial 50 with value: 0.8839779005524862.\n",
      "[I 2024-07-26 18:44:01,328] Trial 71 finished with value: 0.8743169398907102 and parameters: {'n_estimators': 458, 'max_depth': 16, 'learning_rate': 0.02081899074922023, 'num_leaves': 47, 'min_data_in_leaf': 58, 'subsample': 0.8, 'colsample_bytree': 0.75}. Best is trial 50 with value: 0.8839779005524862.\n",
      "[I 2024-07-26 18:44:21,248] Trial 72 finished with value: 0.8602150537634409 and parameters: {'n_estimators': 416, 'max_depth': 17, 'learning_rate': 0.021562757486209054, 'num_leaves': 47, 'min_data_in_leaf': 53, 'subsample': 0.8, 'colsample_bytree': 0.75}. Best is trial 50 with value: 0.8839779005524862.\n",
      "[I 2024-07-26 18:44:41,593] Trial 73 finished with value: 0.7738693467336684 and parameters: {'n_estimators': 461, 'max_depth': 16, 'learning_rate': 0.025500891475208468, 'num_leaves': 45, 'min_data_in_leaf': 67, 'subsample': 0.8, 'colsample_bytree': 0.75}. Best is trial 50 with value: 0.8839779005524862.\n",
      "[I 2024-07-26 18:44:57,261] Trial 74 finished with value: 0.008257483344280754 and parameters: {'n_estimators': 394, 'max_depth': 15, 'learning_rate': 0.02942641639095596, 'num_leaves': 47, 'min_data_in_leaf': 39, 'subsample': 0.75, 'colsample_bytree': 0.8}. Best is trial 50 with value: 0.8839779005524862.\n",
      "[I 2024-07-26 18:45:16,489] Trial 75 finished with value: 0.7655502392344496 and parameters: {'n_estimators': 431, 'max_depth': 17, 'learning_rate': 0.01011019061077236, 'num_leaves': 44, 'min_data_in_leaf': 49, 'subsample': 0.8, 'colsample_bytree': 0.75}. Best is trial 50 with value: 0.8839779005524862.\n",
      "[I 2024-07-26 18:45:40,512] Trial 76 finished with value: 0.849462365591398 and parameters: {'n_estimators': 491, 'max_depth': 14, 'learning_rate': 0.016617515956048202, 'num_leaves': 49, 'min_data_in_leaf': 58, 'subsample': 0.8, 'colsample_bytree': 0.75}. Best is trial 50 with value: 0.8839779005524862.\n",
      "[I 2024-07-26 18:45:58,198] Trial 77 finished with value: 0.8648648648648649 and parameters: {'n_estimators': 370, 'max_depth': 16, 'learning_rate': 0.02323306880350635, 'num_leaves': 46, 'min_data_in_leaf': 137, 'subsample': 0.8500000000000001, 'colsample_bytree': 0.8}. Best is trial 50 with value: 0.8839779005524862.\n",
      "[I 2024-07-26 18:46:02,305] Trial 78 finished with value: 0.34024896265560167 and parameters: {'n_estimators': 51, 'max_depth': 17, 'learning_rate': 0.020981443770708715, 'num_leaves': 48, 'min_data_in_leaf': 71, 'subsample': 0.75, 'colsample_bytree': 0.8}. Best is trial 50 with value: 0.8839779005524862.\n",
      "[I 2024-07-26 18:46:11,988] Trial 79 finished with value: 0.03272302298402805 and parameters: {'n_estimators': 467, 'max_depth': 15, 'learning_rate': 0.046079672539927924, 'num_leaves': 50, 'min_data_in_leaf': 85, 'subsample': 0.9, 'colsample_bytree': 0.65}. Best is trial 50 with value: 0.8839779005524862.\n",
      "[I 2024-07-26 18:46:32,848] Trial 80 finished with value: 0.8080808080808081 and parameters: {'n_estimators': 436, 'max_depth': 18, 'learning_rate': 0.013429243777780587, 'num_leaves': 45, 'min_data_in_leaf': 42, 'subsample': 0.8, 'colsample_bytree': 0.75}. Best is trial 50 with value: 0.8839779005524862.\n",
      "[I 2024-07-26 18:46:52,608] Trial 81 finished with value: 0.0 and parameters: {'n_estimators': 449, 'max_depth': 16, 'learning_rate': 0.001077382172789484, 'num_leaves': 52, 'min_data_in_leaf': 34, 'subsample': 0.8500000000000001, 'colsample_bytree': 0.7000000000000001}. Best is trial 50 with value: 0.8839779005524862.\n",
      "[I 2024-07-26 18:47:12,472] Trial 82 finished with value: 0.8540540540540541 and parameters: {'n_estimators': 452, 'max_depth': 16, 'learning_rate': 0.0156287034047623, 'num_leaves': 49, 'min_data_in_leaf': 51, 'subsample': 0.8500000000000001, 'colsample_bytree': 0.65}. Best is trial 50 with value: 0.8839779005524862.\n",
      "[I 2024-07-26 18:47:30,919] Trial 83 finished with value: 0.8681318681318682 and parameters: {'n_estimators': 401, 'max_depth': 15, 'learning_rate': 0.020582700795795984, 'num_leaves': 48, 'min_data_in_leaf': 26, 'subsample': 0.8, 'colsample_bytree': 0.75}. Best is trial 50 with value: 0.8839779005524862.\n",
      "[I 2024-07-26 18:47:53,805] Trial 84 finished with value: 0.8743169398907102 and parameters: {'n_estimators': 499, 'max_depth': 14, 'learning_rate': 0.024060297364781536, 'num_leaves': 52, 'min_data_in_leaf': 62, 'subsample': 0.9, 'colsample_bytree': 0.7000000000000001}. Best is trial 50 with value: 0.8839779005524862.\n",
      "[I 2024-07-26 18:48:16,082] Trial 85 finished with value: 0.8633879781420765 and parameters: {'n_estimators': 499, 'max_depth': 12, 'learning_rate': 0.025964981960599647, 'num_leaves': 51, 'min_data_in_leaf': 64, 'subsample': 0.95, 'colsample_bytree': 0.75}. Best is trial 50 with value: 0.8839779005524862.\n",
      "[I 2024-07-26 18:48:26,508] Trial 86 finished with value: 0.03300198807157058 and parameters: {'n_estimators': 468, 'max_depth': 14, 'learning_rate': 0.03280955066077134, 'num_leaves': 47, 'min_data_in_leaf': 56, 'subsample': 0.9, 'colsample_bytree': 0.65}. Best is trial 50 with value: 0.8839779005524862.\n",
      "[I 2024-07-26 18:48:46,899] Trial 87 finished with value: 0.861878453038674 and parameters: {'n_estimators': 476, 'max_depth': 17, 'learning_rate': 0.02424322215468252, 'num_leaves': 46, 'min_data_in_leaf': 75, 'subsample': 0.9, 'colsample_bytree': 0.7000000000000001}. Best is trial 50 with value: 0.8839779005524862.\n",
      "[I 2024-07-26 18:48:54,652] Trial 88 finished with value: 0.008340780458742925 and parameters: {'n_estimators': 418, 'max_depth': 12, 'learning_rate': 0.038170350403151115, 'num_leaves': 50, 'min_data_in_leaf': 48, 'subsample': 0.75, 'colsample_bytree': 0.6000000000000001}. Best is trial 50 with value: 0.8839779005524862.\n",
      "[I 2024-07-26 18:49:04,663] Trial 89 finished with value: 0.7465437788018433 and parameters: {'n_estimators': 171, 'max_depth': 15, 'learning_rate': 0.017472066584897528, 'num_leaves': 43, 'min_data_in_leaf': 40, 'subsample': 0.8, 'colsample_bytree': 0.8}. Best is trial 50 with value: 0.8839779005524862.\n",
      "[I 2024-07-26 18:49:22,017] Trial 90 finished with value: 0.7582938388625593 and parameters: {'n_estimators': 381, 'max_depth': 13, 'learning_rate': 0.011828547475578944, 'num_leaves': 52, 'min_data_in_leaf': 33, 'subsample': 0.9, 'colsample_bytree': 0.75}. Best is trial 50 with value: 0.8839779005524862.\n",
      "[I 2024-07-26 18:49:36,761] Trial 91 finished with value: 0.009887857228988304 and parameters: {'n_estimators': 438, 'max_depth': 16, 'learning_rate': 0.029037237755897394, 'num_leaves': 53, 'min_data_in_leaf': 60, 'subsample': 0.8500000000000001, 'colsample_bytree': 0.7000000000000001}. Best is trial 50 with value: 0.8839779005524862.\n",
      "[I 2024-07-26 18:49:57,423] Trial 92 finished with value: 0.8938547486033519 and parameters: {'n_estimators': 457, 'max_depth': 16, 'learning_rate': 0.018856604684840253, 'num_leaves': 52, 'min_data_in_leaf': 62, 'subsample': 0.8500000000000001, 'colsample_bytree': 0.7000000000000001}. Best is trial 92 with value: 0.8938547486033519.\n",
      "[I 2024-07-26 18:50:18,707] Trial 93 finished with value: 0.8777777777777777 and parameters: {'n_estimators': 460, 'max_depth': 14, 'learning_rate': 0.022084252475369836, 'num_leaves': 51, 'min_data_in_leaf': 68, 'subsample': 0.8500000000000001, 'colsample_bytree': 0.7000000000000001}. Best is trial 92 with value: 0.8938547486033519.\n",
      "[I 2024-07-26 18:50:38,197] Trial 94 finished with value: 0.8556149732620322 and parameters: {'n_estimators': 454, 'max_depth': 15, 'learning_rate': 0.013976914881675384, 'num_leaves': 50, 'min_data_in_leaf': 162, 'subsample': 0.8, 'colsample_bytree': 0.65}. Best is trial 92 with value: 0.8938547486033519.\n",
      "[I 2024-07-26 18:50:56,971] Trial 95 finished with value: 0.8729281767955801 and parameters: {'n_estimators': 422, 'max_depth': 17, 'learning_rate': 0.02097080565158107, 'num_leaves': 51, 'min_data_in_leaf': 79, 'subsample': 0.8500000000000001, 'colsample_bytree': 0.7000000000000001}. Best is trial 92 with value: 0.8938547486033519.\n",
      "[I 2024-07-26 18:51:20,881] Trial 96 finished with value: 0.879120879120879 and parameters: {'n_estimators': 486, 'max_depth': 16, 'learning_rate': 0.018362523332338666, 'num_leaves': 49, 'min_data_in_leaf': 70, 'subsample': 0.8500000000000001, 'colsample_bytree': 0.75}. Best is trial 92 with value: 0.8938547486033519.\n",
      "[I 2024-07-26 18:51:42,791] Trial 97 finished with value: 0.8888888888888888 and parameters: {'n_estimators': 487, 'max_depth': 19, 'learning_rate': 0.017511308354823476, 'num_leaves': 49, 'min_data_in_leaf': 69, 'subsample': 0.8500000000000001, 'colsample_bytree': 0.7000000000000001}. Best is trial 92 with value: 0.8938547486033519.\n",
      "[I 2024-07-26 18:52:04,944] Trial 98 finished with value: 0.8743169398907102 and parameters: {'n_estimators': 486, 'max_depth': 20, 'learning_rate': 0.015001346438632938, 'num_leaves': 49, 'min_data_in_leaf': 88, 'subsample': 0.8500000000000001, 'colsample_bytree': 0.65}. Best is trial 92 with value: 0.8938547486033519.\n",
      "[I 2024-07-26 18:52:26,673] Trial 99 finished with value: 0.8729281767955801 and parameters: {'n_estimators': 477, 'max_depth': 18, 'learning_rate': 0.018362440681731394, 'num_leaves': 51, 'min_data_in_leaf': 67, 'subsample': 0.8500000000000001, 'colsample_bytree': 0.7000000000000001}. Best is trial 92 with value: 0.8938547486033519.\n"
     ]
    }
   ],
   "source": [
    "study_lgbm = optuna.create_study(direction = 'maximize')\n",
    "study_lgbm.optimize(objective_lgbm, n_trials=100)"
   ]
  },
  {
   "cell_type": "code",
   "execution_count": null,
   "id": "bd5BAvGwiHjv",
   "metadata": {
    "colab": {
     "base_uri": "https://localhost:8080/"
    },
    "hidden": true,
    "id": "bd5BAvGwiHjv",
    "outputId": "385bcbee-6289-4654-ae79-eb1e759116fa"
   },
   "outputs": [
    {
     "name": "stdout",
     "output_type": "stream",
     "text": [
      "{'n_estimators': 457, 'max_depth': 16, 'learning_rate': 0.018856604684840253, 'num_leaves': 52, 'min_data_in_leaf': 62, 'subsample': 0.8500000000000001, 'colsample_bytree': 0.7000000000000001}\n"
     ]
    }
   ],
   "source": [
    "best_params_lgmb = study_lgbm.best_params\n",
    "print(best_params_lgmb)"
   ]
  },
  {
   "cell_type": "code",
   "execution_count": null,
   "id": "eQUG2IGNiHob",
   "metadata": {
    "hidden": true,
    "id": "eQUG2IGNiHob"
   },
   "outputs": [],
   "source": [
    "# Criação do modelo\n",
    "clf_lgbm_turn = LGBMClassifier(**best_params_lgmb, is_unbalance=True, random_state = 27, verbosity=-1)"
   ]
  },
  {
   "cell_type": "code",
   "execution_count": null,
   "id": "fZpVyXzFiHtG",
   "metadata": {
    "colab": {
     "base_uri": "https://localhost:8080/"
    },
    "hidden": true,
    "id": "fZpVyXzFiHtG",
    "outputId": "21ac9292-114e-4adc-a3fb-5090914dd874"
   },
   "outputs": [
    {
     "name": "stdout",
     "output_type": "stream",
     "text": [
      "Score Cross Validation: 92.92%\n",
      "Average Precision: 85.37%\n",
      "Precision Score: 95.24%\n",
      "Recall Score: 84.21%\n",
      "F1 Score: 89.39%\n",
      "AUCPR: 85.36%\n",
      "ROC AUC Score: 92.10%\n"
     ]
    }
   ],
   "source": [
    "modelo(clf_lgbm_turn, X_train, y_train, X_val, y_val)"
   ]
  },
  {
   "cell_type": "code",
   "execution_count": null,
   "id": "BNhWQwTx0vxp",
   "metadata": {
    "colab": {
     "base_uri": "https://localhost:8080/",
     "height": 472
    },
    "hidden": true,
    "id": "BNhWQwTx0vxp",
    "outputId": "088d399c-4751-4e41-dcf1-6921139fca72"
   },
   "outputs": [
    {
     "data": {
      "image/png": "[encoded data removed]",
      "text/plain": [
       "<Figure size 640x480 with 1 Axes>"
      ]
     },
     "metadata": {},
     "output_type": "display_data"
    }
   ],
   "source": [
    "plot_recall_precision_curve(clf_lgbm_turn, X_val, y_val, name_clf='LightGBM Classifier Turn')"
   ]
  },
  {
   "cell_type": "code",
   "execution_count": null,
   "id": "Jqpcc9_dRGQA",
   "metadata": {
    "colab": {
     "base_uri": "https://localhost:8080/"
    },
    "hidden": true,
    "id": "Jqpcc9_dRGQA",
    "outputId": "58b7f3fa-80c9-4c87-ff34-1d37d715c773"
   },
   "outputs": [
    {
     "name": "stdout",
     "output_type": "stream",
     "text": [
      "Score Cross Validation: 92.92%\n",
      "Average Precision: 84.02%\n",
      "Precision Score: 86.67%\n",
      "Recall Score: 82.11%\n",
      "F1 Score: 84.32%\n",
      "AUCPR: 84.01%\n",
      "ROC AUC Score: 91.04%\n"
     ]
    }
   ],
   "source": [
    "modelo(clf_lgbm_turn, X_train, y_train, X_test, y_test)"
   ]
  },
  {
   "cell_type": "markdown",
   "id": "EHuCgyAqaPc8",
   "metadata": {
    "heading_collapsed": true,
    "hidden": true,
    "id": "EHuCgyAqaPc8"
   },
   "source": [
    "### CatBoost Classifier"
   ]
  },
  {
   "cell_type": "code",
   "execution_count": null,
   "id": "vIbj6h6paTm1",
   "metadata": {
    "hidden": true,
    "id": "vIbj6h6paTm1"
   },
   "outputs": [],
   "source": [
    "def objective_cat(trial):\n",
    "    # Definindo o espaço de busca dos hiperparâmetros\n",
    "    n_estimators = trial.suggest_int('n_estimators', 6, 400)\n",
    "    max_depth = trial.suggest_int('max_depth', 3, 14)\n",
    "    learning_rate = trial.suggest_float('learning_rate', 1e-3, 1e-1, log=True)\n",
    "    l2_leaf_reg = trial.suggest_float('l2_leaf_reg', 1e-3, 10, log=True)\n",
    "    subsample = trial.suggest_float('subsample', 0.5, 0.90, step=0.05)\n",
    "    colsample_bylevel = trial.suggest_float('colsample_bylevel', 0.4, 1.0, step=0.05)\n",
    "\n",
    "    params = {\n",
    "        'n_estimators': n_estimators,\n",
    "        'max_depth': max_depth,\n",
    "        'learning_rate': learning_rate,\n",
    "        'l2_leaf_reg': l2_leaf_reg,\n",
    "        'colsample_bylevel': colsample_bylevel,\n",
    "        'subsample':subsample,\n",
    "    }\n",
    "\n",
    "    clf = CatBoostClassifier(**params, auto_class_weights='Balanced', thread_count=-1, verbose=False, random_state=27)\n",
    "    clf.fit(X_train, y_train)\n",
    "\n",
    "    score = f1_score(y_val, clf.predict(X_val))\n",
    "    # score = roc_auc_score(y_val, clf.predict_proba(X_val)[:, 1])\n",
    "\n",
    "    return score"
   ]
  },
  {
   "cell_type": "code",
   "execution_count": null,
   "id": "yIsUO2M8aTsH",
   "metadata": {
    "colab": {
     "base_uri": "https://localhost:8080/"
    },
    "hidden": true,
    "id": "yIsUO2M8aTsH",
    "outputId": "793b3993-6bb8-4630-bee4-4b9840fbfd44"
   },
   "outputs": [
    {
     "name": "stderr",
     "output_type": "stream",
     "text": [
      "[I 2024-07-28 15:50:55,324] A new study created in memory with name: no-name-dfde5f13-7443-43bb-abb2-732a55758da6\n",
      "[I 2024-07-28 15:51:13,697] Trial 0 finished with value: 0.24411764705882352 and parameters: {'n_estimators': 312, 'max_depth': 5, 'learning_rate': 0.0016839324892917787, 'l2_leaf_reg': 0.047930924010609464, 'subsample': 0.6, 'colsample_bylevel': 0.8500000000000001}. Best is trial 0 with value: 0.24411764705882352.\n",
      "[I 2024-07-28 15:59:23,920] Trial 1 finished with value: 0.8241758241758242 and parameters: {'n_estimators': 272, 'max_depth': 14, 'learning_rate': 0.006790653063839386, 'l2_leaf_reg': 0.004980470888512318, 'subsample': 0.6, 'colsample_bylevel': 0.55}. Best is trial 1 with value: 0.8241758241758242.\n",
      "[I 2024-07-28 16:04:55,400] Trial 2 finished with value: 0.839779005524862 and parameters: {'n_estimators': 282, 'max_depth': 13, 'learning_rate': 0.008802646043395456, 'l2_leaf_reg': 0.02438545920170259, 'subsample': 0.9, 'colsample_bylevel': 0.75}. Best is trial 2 with value: 0.839779005524862.\n",
      "[I 2024-07-28 16:05:46,674] Trial 3 finished with value: 0.88268156424581 and parameters: {'n_estimators': 369, 'max_depth': 10, 'learning_rate': 0.06340629093550247, 'l2_leaf_reg': 0.02053536199577518, 'subsample': 0.65, 'colsample_bylevel': 0.55}. Best is trial 3 with value: 0.88268156424581.\n",
      "[I 2024-07-28 16:06:06,101] Trial 4 finished with value: 0.7094017094017093 and parameters: {'n_estimators': 104, 'max_depth': 10, 'learning_rate': 0.0019927818871524846, 'l2_leaf_reg': 0.3181430356832308, 'subsample': 0.5, 'colsample_bylevel': 0.65}. Best is trial 3 with value: 0.88268156424581.\n",
      "[I 2024-07-28 16:06:19,920] Trial 5 finished with value: 0.7410714285714286 and parameters: {'n_estimators': 236, 'max_depth': 5, 'learning_rate': 0.05546527474641251, 'l2_leaf_reg': 0.6077799508387697, 'subsample': 0.5, 'colsample_bylevel': 0.8500000000000001}. Best is trial 3 with value: 0.88268156424581.\n",
      "[I 2024-07-28 16:06:40,830] Trial 6 finished with value: 0.6693548387096774 and parameters: {'n_estimators': 179, 'max_depth': 8, 'learning_rate': 0.004506249494648351, 'l2_leaf_reg': 0.005061929619179949, 'subsample': 0.9, 'colsample_bylevel': 0.7000000000000001}. Best is trial 3 with value: 0.88268156424581.\n",
      "[I 2024-07-28 16:06:51,612] Trial 7 finished with value: 0.38967136150234744 and parameters: {'n_estimators': 142, 'max_depth': 7, 'learning_rate': 0.0011997186939391672, 'l2_leaf_reg': 0.2685438378863704, 'subsample': 0.7, 'colsample_bylevel': 0.45}. Best is trial 3 with value: 0.88268156424581.\n",
      "[I 2024-07-28 16:07:10,018] Trial 8 finished with value: 0.1678048780487805 and parameters: {'n_estimators': 375, 'max_depth': 3, 'learning_rate': 0.007302575222560198, 'l2_leaf_reg': 3.803004666940981, 'subsample': 0.9, 'colsample_bylevel': 0.7000000000000001}. Best is trial 3 with value: 0.88268156424581.\n",
      "[I 2024-07-28 16:08:42,555] Trial 9 finished with value: 0.8279569892473119 and parameters: {'n_estimators': 212, 'max_depth': 12, 'learning_rate': 0.004660992833016826, 'l2_leaf_reg': 0.0013075313455950491, 'subsample': 0.7, 'colsample_bylevel': 0.6000000000000001}. Best is trial 3 with value: 0.88268156424581.\n",
      "[I 2024-07-28 16:08:44,049] Trial 10 finished with value: 0.41604010025062654 and parameters: {'n_estimators': 6, 'max_depth': 10, 'learning_rate': 0.09952009908379827, 'l2_leaf_reg': 5.157137982429026, 'subsample': 0.8, 'colsample_bylevel': 0.4}. Best is trial 3 with value: 0.88268156424581.\n",
      "[I 2024-07-28 16:27:24,463] Trial 11 finished with value: 0.8764044943820224 and parameters: {'n_estimators': 390, 'max_depth': 14, 'learning_rate': 0.02792979288727292, 'l2_leaf_reg': 0.03194853655150555, 'subsample': 0.8, 'colsample_bylevel': 1.0}. Best is trial 3 with value: 0.88268156424581.\n",
      "[I 2024-07-28 16:29:44,421] Trial 12 finished with value: 0.88268156424581 and parameters: {'n_estimators': 397, 'max_depth': 11, 'learning_rate': 0.029272266354729758, 'l2_leaf_reg': 0.019096990918952426, 'subsample': 0.8, 'colsample_bylevel': 1.0}. Best is trial 3 with value: 0.88268156424581.\n",
      "[I 2024-07-28 16:30:54,768] Trial 13 finished with value: 0.8666666666666667 and parameters: {'n_estimators': 332, 'max_depth': 11, 'learning_rate': 0.0298281778384954, 'l2_leaf_reg': 0.008894522758913236, 'subsample': 0.8, 'colsample_bylevel': 0.5}. Best is trial 3 with value: 0.88268156424581.\n",
      "[I 2024-07-28 16:31:51,098] Trial 14 finished with value: 0.8804347826086957 and parameters: {'n_estimators': 399, 'max_depth': 9, 'learning_rate': 0.021608114124569026, 'l2_leaf_reg': 0.1429867172194107, 'subsample': 0.6, 'colsample_bylevel': 1.0}. Best is trial 3 with value: 0.88268156424581.\n",
      "[I 2024-07-28 16:34:49,646] Trial 15 finished with value: 0.8700564971751412 and parameters: {'n_estimators': 341, 'max_depth': 12, 'learning_rate': 0.017071557264866498, 'l2_leaf_reg': 0.0011163225186082532, 'subsample': 0.75, 'colsample_bylevel': 0.8500000000000001}. Best is trial 3 with value: 0.88268156424581.\n",
      "[I 2024-07-28 16:35:23,220] Trial 16 finished with value: 0.8555555555555556 and parameters: {'n_estimators': 341, 'max_depth': 8, 'learning_rate': 0.05405219057789882, 'l2_leaf_reg': 0.01314469435785969, 'subsample': 0.65, 'colsample_bylevel': 0.9500000000000001}. Best is trial 3 with value: 0.88268156424581.\n",
      "[I 2024-07-28 16:35:41,494] Trial 17 finished with value: 0.8369565217391305 and parameters: {'n_estimators': 68, 'max_depth': 11, 'learning_rate': 0.054776526074512576, 'l2_leaf_reg': 0.058909844899656186, 'subsample': 0.75, 'colsample_bylevel': 0.55}. Best is trial 3 with value: 0.88268156424581.\n",
      "[I 2024-07-28 16:36:00,667] Trial 18 finished with value: 0.4267352185089974 and parameters: {'n_estimators': 268, 'max_depth': 6, 'learning_rate': 0.014609392902923679, 'l2_leaf_reg': 1.255733672584325, 'subsample': 0.8500000000000001, 'colsample_bylevel': 0.8}. Best is trial 3 with value: 0.88268156424581.\n",
      "[I 2024-07-28 16:36:46,635] Trial 19 finished with value: 0.8950276243093923 and parameters: {'n_estimators': 368, 'max_depth': 9, 'learning_rate': 0.08832154570307492, 'l2_leaf_reg': 0.09841498647386973, 'subsample': 0.65, 'colsample_bylevel': 0.6000000000000001}. Best is trial 19 with value: 0.8950276243093923.\n",
      "[I 2024-07-28 16:37:22,190] Trial 20 finished with value: 0.8681318681318682 and parameters: {'n_estimators': 298, 'max_depth': 9, 'learning_rate': 0.08170717205347945, 'l2_leaf_reg': 0.10662463895658182, 'subsample': 0.55, 'colsample_bylevel': 0.6000000000000001}. Best is trial 19 with value: 0.8950276243093923.\n",
      "[I 2024-07-28 16:38:10,368] Trial 21 finished with value: 0.8715083798882681 and parameters: {'n_estimators': 362, 'max_depth': 10, 'learning_rate': 0.03711276581273981, 'l2_leaf_reg': 0.015163890286331612, 'subsample': 0.65, 'colsample_bylevel': 0.5}. Best is trial 19 with value: 0.8950276243093923.\n",
      "[I 2024-07-28 16:39:30,062] Trial 22 finished with value: 0.8555555555555556 and parameters: {'n_estimators': 367, 'max_depth': 11, 'learning_rate': 0.07512491219638029, 'l2_leaf_reg': 0.004669181659516202, 'subsample': 0.65, 'colsample_bylevel': 0.65}. Best is trial 19 with value: 0.8950276243093923.\n",
      "[I 2024-07-28 16:39:57,581] Trial 23 finished with value: 0.8723404255319148 and parameters: {'n_estimators': 398, 'max_depth': 7, 'learning_rate': 0.04244372850021458, 'l2_leaf_reg': 0.0840224802421019, 'subsample': 0.75, 'colsample_bylevel': 0.4}. Best is trial 19 with value: 0.8950276243093923.\n",
      "[I 2024-07-28 16:41:47,624] Trial 24 finished with value: 0.8666666666666667 and parameters: {'n_estimators': 331, 'max_depth': 12, 'learning_rate': 0.0638792493008752, 'l2_leaf_reg': 0.02649859395366824, 'subsample': 0.7, 'colsample_bylevel': 0.55}. Best is trial 19 with value: 0.8950276243093923.\n",
      "[I 2024-07-28 16:42:21,024] Trial 25 finished with value: 0.8852459016393441 and parameters: {'n_estimators': 241, 'max_depth': 9, 'learning_rate': 0.037756340245998284, 'l2_leaf_reg': 0.20419177035260008, 'subsample': 0.55, 'colsample_bylevel': 0.65}. Best is trial 19 with value: 0.8950276243093923.\n",
      "[I 2024-07-28 16:42:53,239] Trial 26 finished with value: 0.7942583732057417 and parameters: {'n_estimators': 234, 'max_depth': 9, 'learning_rate': 0.01256420207635207, 'l2_leaf_reg': 0.9678270430908499, 'subsample': 0.55, 'colsample_bylevel': 0.65}. Best is trial 19 with value: 0.8950276243093923.\n",
      "[I 2024-07-28 16:43:06,017] Trial 27 finished with value: 0.8723404255319148 and parameters: {'n_estimators': 169, 'max_depth': 7, 'learning_rate': 0.092370648512991, 'l2_leaf_reg': 0.1536918392696815, 'subsample': 0.55, 'colsample_bylevel': 0.6000000000000001}. Best is trial 19 with value: 0.8950276243093923.\n",
      "[I 2024-07-28 16:43:31,393] Trial 28 finished with value: 0.8526315789473685 and parameters: {'n_estimators': 251, 'max_depth': 8, 'learning_rate': 0.039465446958068355, 'l2_leaf_reg': 0.30691172015894347, 'subsample': 0.6, 'colsample_bylevel': 0.75}. Best is trial 19 with value: 0.8950276243093923.\n",
      "[I 2024-07-28 16:43:42,874] Trial 29 finished with value: 0.1676528599605523 and parameters: {'n_estimators': 303, 'max_depth': 3, 'learning_rate': 0.021493059643397476, 'l2_leaf_reg': 0.0508556584747203, 'subsample': 0.65, 'colsample_bylevel': 0.5}. Best is trial 19 with value: 0.8950276243093923.\n",
      "[I 2024-07-28 16:44:02,211] Trial 30 finished with value: 0.8078817733990148 and parameters: {'n_estimators': 316, 'max_depth': 6, 'learning_rate': 0.043835314260217174, 'l2_leaf_reg': 2.309335987028343, 'subsample': 0.55, 'colsample_bylevel': 0.45}. Best is trial 19 with value: 0.8950276243093923.\n",
      "[I 2024-07-28 16:45:16,506] Trial 31 finished with value: 0.8729281767955801 and parameters: {'n_estimators': 361, 'max_depth': 10, 'learning_rate': 0.027851230767613134, 'l2_leaf_reg': 0.04242820160336682, 'subsample': 0.7, 'colsample_bylevel': 0.9}. Best is trial 19 with value: 0.8950276243093923.\n",
      "[I 2024-07-28 16:46:45,396] Trial 32 finished with value: 0.8587570621468926 and parameters: {'n_estimators': 354, 'max_depth': 11, 'learning_rate': 0.06639429516314815, 'l2_leaf_reg': 0.015886910805226313, 'subsample': 0.6, 'colsample_bylevel': 0.75}. Best is trial 19 with value: 0.8950276243093923.\n",
      "[I 2024-07-28 16:49:49,271] Trial 33 finished with value: 0.8620689655172414 and parameters: {'n_estimators': 282, 'max_depth': 13, 'learning_rate': 0.03371322161019049, 'l2_leaf_reg': 0.002929632905233789, 'subsample': 0.65, 'colsample_bylevel': 0.6000000000000001}. Best is trial 19 with value: 0.8950276243093923.\n",
      "[I 2024-07-28 16:50:40,152] Trial 34 finished with value: 0.8695652173913043 and parameters: {'n_estimators': 384, 'max_depth': 9, 'learning_rate': 0.0201916777258132, 'l2_leaf_reg': 0.20829870222021313, 'subsample': 0.6, 'colsample_bylevel': 0.55}. Best is trial 19 with value: 0.8950276243093923.\n",
      "[I 2024-07-28 16:51:32,480] Trial 35 finished with value: 0.8804347826086957 and parameters: {'n_estimators': 307, 'max_depth': 10, 'learning_rate': 0.048001965040827314, 'l2_leaf_reg': 0.6112968195576659, 'subsample': 0.8500000000000001, 'colsample_bylevel': 0.65}. Best is trial 19 with value: 0.8950276243093923.\n",
      "[I 2024-07-28 16:53:05,784] Trial 36 finished with value: 0.8539325842696628 and parameters: {'n_estimators': 115, 'max_depth': 13, 'learning_rate': 0.06928642409013863, 'l2_leaf_reg': 0.07529198136260591, 'subsample': 0.5, 'colsample_bylevel': 0.75}. Best is trial 19 with value: 0.8950276243093923.\n",
      "[I 2024-07-28 16:53:27,288] Trial 37 finished with value: 0.839378238341969 and parameters: {'n_estimators': 210, 'max_depth': 8, 'learning_rate': 0.02526192069716906, 'l2_leaf_reg': 0.008010533808874218, 'subsample': 0.5, 'colsample_bylevel': 0.8}. Best is trial 19 with value: 0.8950276243093923.\n",
      "[I 2024-07-28 16:54:14,827] Trial 38 finished with value: 0.7804878048780488 and parameters: {'n_estimators': 257, 'max_depth': 10, 'learning_rate': 0.0028972207569946274, 'l2_leaf_reg': 0.022214782352680484, 'subsample': 0.7, 'colsample_bylevel': 0.7000000000000001}. Best is trial 19 with value: 0.8950276243093923.\n",
      "[I 2024-07-28 16:54:41,050] Trial 39 finished with value: 0.7685185185185186 and parameters: {'n_estimators': 185, 'max_depth': 9, 'learning_rate': 0.011578663967811022, 'l2_leaf_reg': 0.4313670194132426, 'subsample': 0.8500000000000001, 'colsample_bylevel': 0.45}. Best is trial 19 with value: 0.8950276243093923.\n",
      "[I 2024-07-28 16:56:57,125] Trial 40 finished with value: 0.8603351955307262 and parameters: {'n_estimators': 321, 'max_depth': 12, 'learning_rate': 0.008925820187091503, 'l2_leaf_reg': 0.0027073133359804763, 'subsample': 0.75, 'colsample_bylevel': 0.6000000000000001}. Best is trial 19 with value: 0.8950276243093923.\n",
      "[I 2024-07-28 16:57:47,464] Trial 41 finished with value: 0.8709677419354839 and parameters: {'n_estimators': 397, 'max_depth': 9, 'learning_rate': 0.02139262326701801, 'l2_leaf_reg': 0.13748921813638293, 'subsample': 0.6, 'colsample_bylevel': 1.0}. Best is trial 19 with value: 0.8950276243093923.\n",
      "[I 2024-07-28 16:58:24,687] Trial 42 finished with value: 0.8852459016393441 and parameters: {'n_estimators': 372, 'max_depth': 8, 'learning_rate': 0.03558579569382387, 'l2_leaf_reg': 0.1600848609253499, 'subsample': 0.6, 'colsample_bylevel': 0.9500000000000001}. Best is trial 19 with value: 0.8950276243093923.\n",
      "[I 2024-07-28 16:58:52,980] Trial 43 finished with value: 0.8756756756756757 and parameters: {'n_estimators': 287, 'max_depth': 8, 'learning_rate': 0.05773416435394081, 'l2_leaf_reg': 0.03455280559628365, 'subsample': 0.55, 'colsample_bylevel': 0.9500000000000001}. Best is trial 19 with value: 0.8950276243093923.\n",
      "[I 2024-07-28 16:59:16,124] Trial 44 finished with value: 0.8556149732620322 and parameters: {'n_estimators': 379, 'max_depth': 6, 'learning_rate': 0.08579735165305671, 'l2_leaf_reg': 0.21381060741969285, 'subsample': 0.65, 'colsample_bylevel': 0.9500000000000001}. Best is trial 19 with value: 0.8950276243093923.\n",
      "[I 2024-07-28 16:59:41,045] Trial 45 finished with value: 0.839378238341969 and parameters: {'n_estimators': 357, 'max_depth': 7, 'learning_rate': 0.033901824250275846, 'l2_leaf_reg': 0.06809364139021372, 'subsample': 0.6, 'colsample_bylevel': 0.65}. Best is trial 19 with value: 0.8950276243093923.\n",
      "[I 2024-07-28 17:00:49,183] Trial 46 finished with value: 0.8756756756756757 and parameters: {'n_estimators': 347, 'max_depth': 10, 'learning_rate': 0.04773065591419938, 'l2_leaf_reg': 0.4681317593031218, 'subsample': 0.7, 'colsample_bylevel': 0.8500000000000001}. Best is trial 19 with value: 0.8950276243093923.\n",
      "[I 2024-07-28 17:02:42,257] Trial 47 finished with value: 0.879120879120879 and parameters: {'n_estimators': 374, 'max_depth': 11, 'learning_rate': 0.09889482769222283, 'l2_leaf_reg': 0.10951029046596118, 'subsample': 0.65, 'colsample_bylevel': 0.9}. Best is trial 19 with value: 0.8950276243093923.\n",
      "[I 2024-07-28 17:03:17,365] Trial 48 finished with value: 0.46927374301675984 and parameters: {'n_estimators': 323, 'max_depth': 8, 'learning_rate': 0.005144359170658983, 'l2_leaf_reg': 9.42701499908741, 'subsample': 0.6, 'colsample_bylevel': 0.9}. Best is trial 19 with value: 0.8950276243093923.\n",
      "[I 2024-07-28 17:03:20,536] Trial 49 finished with value: 0.26837060702875404 and parameters: {'n_estimators': 58, 'max_depth': 5, 'learning_rate': 0.05277264440118456, 'l2_leaf_reg': 0.009605527469417138, 'subsample': 0.55, 'colsample_bylevel': 1.0}. Best is trial 19 with value: 0.8950276243093923.\n"
     ]
    }
   ],
   "source": [
    "study_cat = optuna.create_study(direction = 'maximize')\n",
    "study_cat.optimize(objective_cat, n_trials=50)"
   ]
  },
  {
   "cell_type": "code",
   "execution_count": null,
   "id": "EhfJCtf2aTxt",
   "metadata": {
    "colab": {
     "base_uri": "https://localhost:8080/"
    },
    "hidden": true,
    "id": "EhfJCtf2aTxt",
    "outputId": "40106e04-ef02-4809-ef6a-49ce930f2533"
   },
   "outputs": [
    {
     "name": "stdout",
     "output_type": "stream",
     "text": [
      "{'n_estimators': 368, 'max_depth': 9, 'learning_rate': 0.08832154570307492, 'l2_leaf_reg': 0.09841498647386973, 'subsample': 0.65, 'colsample_bylevel': 0.6000000000000001}\n"
     ]
    }
   ],
   "source": [
    "best_params_cat = study_cat.best_params\n",
    "print(best_params_cat)"
   ]
  },
  {
   "cell_type": "code",
   "execution_count": null,
   "id": "RuFV4l6IaT2P",
   "metadata": {
    "hidden": true,
    "id": "RuFV4l6IaT2P"
   },
   "outputs": [],
   "source": [
    "# Criação do modelo\n",
    "clf_cat_turn = CatBoostClassifier(\n",
    "    **best_params_cat,\n",
    "    auto_class_weights='Balanced',\n",
    "    thread_count=-1,\n",
    "    random_state = 27,\n",
    "    verbose=False)"
   ]
  },
  {
   "cell_type": "code",
   "execution_count": null,
   "id": "0xvXaCaVaT7p",
   "metadata": {
    "colab": {
     "base_uri": "https://localhost:8080/"
    },
    "hidden": true,
    "id": "0xvXaCaVaT7p",
    "outputId": "0110df60-9d65-4111-da23-74fbb8af1e27"
   },
   "outputs": [
    {
     "name": "stdout",
     "output_type": "stream",
     "text": [
      "Score Cross Validation: 97.11%\n",
      "Average Precision: 86.32%\n",
      "Precision Score: 94.19%\n",
      "Recall Score: 85.26%\n",
      "F1 Score: 89.50%\n",
      "AUCPR: 86.30%\n",
      "ROC AUC Score: 92.63%\n"
     ]
    }
   ],
   "source": [
    "modelo(clf_cat_turn, X_train, y_train, X_val, y_val)"
   ]
  },
  {
   "cell_type": "code",
   "execution_count": null,
   "id": "zwtvxoPCaT_2",
   "metadata": {
    "colab": {
     "base_uri": "https://localhost:8080/",
     "height": 472
    },
    "hidden": true,
    "id": "zwtvxoPCaT_2",
    "outputId": "e6a4282b-e489-4636-8c6e-d6c1634e23d7"
   },
   "outputs": [
    {
     "data": {
      "image/png": "[encoded data removed]",
      "text/plain": [
       "<Figure size 640x480 with 1 Axes>"
      ]
     },
     "metadata": {},
     "output_type": "display_data"
    }
   ],
   "source": [
    "plot_recall_precision_curve(clf_cat_turn, X_val, y_val, name_clf='CatBoost Classifier Turn')"
   ]
  },
  {
   "cell_type": "code",
   "execution_count": null,
   "id": "-v1QYA3jcDCs",
   "metadata": {
    "hidden": true,
    "id": "-v1QYA3jcDCs"
   },
   "outputs": [],
   "source": [
    "modelo(clf_lgbm_turn, X_train, y_train, X_test, y_test)"
   ]
  },
  {
   "cell_type": "markdown",
   "id": "H4jBqMM_mKgv",
   "metadata": {
    "heading_collapsed": true,
    "hidden": true,
    "id": "H4jBqMM_mKgv"
   },
   "source": [
    "## 4.3 Escolha do Modelo"
   ]
  },
  {
   "cell_type": "code",
   "execution_count": null,
   "id": "vRpiLdgkmNrN",
   "metadata": {
    "hidden": true,
    "id": "vRpiLdgkmNrN"
   },
   "outputs": [],
   "source": [
    "params_model = {\n",
    "    'n_estimators': 495,\n",
    "    'max_depth': 13,\n",
    "    'learning_rate': 0.056660271915512,\n",
    "    'subsample': 0.8500000000000001,\n",
    "    'colsample_bytree': 0.55,\n",
    "    'min_child_weight': 5\n",
    "    }\n",
    "\n",
    "model = XGBClassifier(**params_model, scale_pos_weight=weight, random_state=27)"
   ]
  },
  {
   "cell_type": "code",
   "execution_count": null,
   "id": "9eSpvzveTBBh",
   "metadata": {
    "colab": {
     "base_uri": "https://localhost:8080/"
    },
    "hidden": true,
    "id": "9eSpvzveTBBh",
    "outputId": "d88c507b-5ddf-451f-83bd-33d61286be67"
   },
   "outputs": [
    {
     "name": "stdout",
     "output_type": "stream",
     "text": [
      "Score Cross Validation: 98.33%\n",
      "Average Precision: 86.97%\n",
      "Precision Score: 90.91%\n",
      "Recall Score: 84.21%\n",
      "F1 Score: 87.43%\n",
      "AUCPR: 86.97%\n",
      "ROC AUC Score: 92.10%\n"
     ]
    }
   ],
   "source": [
    "modelo(model, X_train, y_train, X_test, y_test)"
   ]
  },
  {
   "cell_type": "code",
   "execution_count": null,
   "id": "hHLrz8A9mN0j",
   "metadata": {
    "colab": {
     "base_uri": "https://localhost:8080/",
     "height": 248
    },
    "hidden": true,
    "id": "hHLrz8A9mN0j",
    "outputId": "c49497ae-2013-40c4-8f74-c22d0c7ca590"
   },
   "outputs": [
    {
     "data": {
      "text/html": [
       "<style>#sk-container-id-2 {color: black;}#sk-container-id-2 pre{padding: 0;}#sk-container-id-2 div.sk-toggleable {background-color: white;}#sk-container-id-2 label.sk-toggleable__label {cursor: pointer;display: block;width: 100%;margin-bottom: 0;padding: 0.3em;box-sizing: border-box;text-align: center;}#sk-container-id-2 label.sk-toggleable__label-arrow:before {content: \"▸\";float: left;margin-right: 0.25em;color: #696969;}#sk-container-id-2 label.sk-toggleable__label-arrow:hover:before {color: black;}#sk-container-id-2 div.sk-estimator:hover label.sk-toggleable__label-arrow:before {color: black;}#sk-container-id-2 div.sk-toggleable__content {max-height: 0;max-width: 0;overflow: hidden;text-align: left;background-color: #f0f8ff;}#sk-container-id-2 div.sk-toggleable__content pre {margin: 0.2em;color: black;border-radius: 0.25em;background-color: #f0f8ff;}#sk-container-id-2 input.sk-toggleable__control:checked~div.sk-toggleable__content {max-height: 200px;max-width: 100%;overflow: auto;}#sk-container-id-2 input.sk-toggleable__control:checked~label.sk-toggleable__label-arrow:before {content: \"▾\";}#sk-container-id-2 div.sk-estimator input.sk-toggleable__control:checked~label.sk-toggleable__label {background-color: #d4ebff;}#sk-container-id-2 div.sk-label input.sk-toggleable__control:checked~label.sk-toggleable__label {background-color: #d4ebff;}#sk-container-id-2 input.sk-hidden--visually {border: 0;clip: rect(1px 1px 1px 1px);clip: rect(1px, 1px, 1px, 1px);height: 1px;margin: -1px;overflow: hidden;padding: 0;position: absolute;width: 1px;}#sk-container-id-2 div.sk-estimator {font-family: monospace;background-color: #f0f8ff;border: 1px dotted black;border-radius: 0.25em;box-sizing: border-box;margin-bottom: 0.5em;}#sk-container-id-2 div.sk-estimator:hover {background-color: #d4ebff;}#sk-container-id-2 div.sk-parallel-item::after {content: \"\";width: 100%;border-bottom: 1px solid gray;flex-grow: 1;}#sk-container-id-2 div.sk-label:hover label.sk-toggleable__label {background-color: #d4ebff;}#sk-container-id-2 div.sk-serial::before {content: \"\";position: absolute;border-left: 1px solid gray;box-sizing: border-box;top: 0;bottom: 0;left: 50%;z-index: 0;}#sk-container-id-2 div.sk-serial {display: flex;flex-direction: column;align-items: center;background-color: white;padding-right: 0.2em;padding-left: 0.2em;position: relative;}#sk-container-id-2 div.sk-item {position: relative;z-index: 1;}#sk-container-id-2 div.sk-parallel {display: flex;align-items: stretch;justify-content: center;background-color: white;position: relative;}#sk-container-id-2 div.sk-item::before, #sk-container-id-2 div.sk-parallel-item::before {content: \"\";position: absolute;border-left: 1px solid gray;box-sizing: border-box;top: 0;bottom: 0;left: 50%;z-index: -1;}#sk-container-id-2 div.sk-parallel-item {display: flex;flex-direction: column;z-index: 1;position: relative;background-color: white;}#sk-container-id-2 div.sk-parallel-item:first-child::after {align-self: flex-end;width: 50%;}#sk-container-id-2 div.sk-parallel-item:last-child::after {align-self: flex-start;width: 50%;}#sk-container-id-2 div.sk-parallel-item:only-child::after {width: 0;}#sk-container-id-2 div.sk-dashed-wrapped {border: 1px dashed gray;margin: 0 0.4em 0.5em 0.4em;box-sizing: border-box;padding-bottom: 0.4em;background-color: white;}#sk-container-id-2 div.sk-label label {font-family: monospace;font-weight: bold;display: inline-block;line-height: 1.2em;}#sk-container-id-2 div.sk-label-container {text-align: center;}#sk-container-id-2 div.sk-container {/* jupyter's `normalize.less` sets `[hidden] { display: none; }` but bootstrap.min.css set `[hidden] { display: none !important; }` so we also need the `!important` here to be able to override the default hidden behavior on the sphinx rendered scikit-learn.org. See: https://github.com/scikit-learn/scikit-learn/issues/21755 */display: inline-block !important;position: relative;}#sk-container-id-2 div.sk-text-repr-fallback {display: none;}</style><div id=\"sk-container-id-2\" class=\"sk-top-container\"><div class=\"sk-text-repr-fallback\"><pre>XGBClassifier(base_score=None, booster=None, callbacks=None,\n",
       "              colsample_bylevel=None, colsample_bynode=None,\n",
       "              colsample_bytree=0.55, device=None, early_stopping_rounds=None,\n",
       "              enable_categorical=False, eval_metric=None, feature_types=None,\n",
       "              gamma=None, grow_policy=None, importance_type=None,\n",
       "              interaction_constraints=None, learning_rate=0.056660271915512,\n",
       "              max_bin=None, max_cat_threshold=None, max_cat_to_onehot=None,\n",
       "              max_delta_step=None, max_depth=13, max_leaves=None,\n",
       "              min_child_weight=5, missing=nan, monotone_constraints=None,\n",
       "              multi_strategy=None, n_estimators=495, n_jobs=None,\n",
       "              num_parallel_tree=None, random_state=27, ...)</pre><b>In a Jupyter environment, please rerun this cell to show the HTML representation or trust the notebook. <br />On GitHub, the HTML representation is unable to render, please try loading this page with nbviewer.org.</b></div><div class=\"sk-container\" hidden><div class=\"sk-item\"><div class=\"sk-estimator sk-toggleable\"><input class=\"sk-toggleable__control sk-hidden--visually\" id=\"sk-estimator-id-2\" type=\"checkbox\" checked><label for=\"sk-estimator-id-2\" class=\"sk-toggleable__label sk-toggleable__label-arrow\">XGBClassifier</label><div class=\"sk-toggleable__content\"><pre>XGBClassifier(base_score=None, booster=None, callbacks=None,\n",
       "              colsample_bylevel=None, colsample_bynode=None,\n",
       "              colsample_bytree=0.55, device=None, early_stopping_rounds=None,\n",
       "              enable_categorical=False, eval_metric=None, feature_types=None,\n",
       "              gamma=None, grow_policy=None, importance_type=None,\n",
       "              interaction_constraints=None, learning_rate=0.056660271915512,\n",
       "              max_bin=None, max_cat_threshold=None, max_cat_to_onehot=None,\n",
       "              max_delta_step=None, max_depth=13, max_leaves=None,\n",
       "              min_child_weight=5, missing=nan, monotone_constraints=None,\n",
       "              multi_strategy=None, n_estimators=495, n_jobs=None,\n",
       "              num_parallel_tree=None, random_state=27, ...)</pre></div></div></div></div></div>"
      ],
      "text/plain": [
       "XGBClassifier(base_score=None, booster=None, callbacks=None,\n",
       "              colsample_bylevel=None, colsample_bynode=None,\n",
       "              colsample_bytree=0.55, device=None, early_stopping_rounds=None,\n",
       "              enable_categorical=False, eval_metric=None, feature_types=None,\n",
       "              gamma=None, grow_policy=None, importance_type=None,\n",
       "              interaction_constraints=None, learning_rate=0.056660271915512,\n",
       "              max_bin=None, max_cat_threshold=None, max_cat_to_onehot=None,\n",
       "              max_delta_step=None, max_depth=13, max_leaves=None,\n",
       "              min_child_weight=5, missing=nan, monotone_constraints=None,\n",
       "              multi_strategy=None, n_estimators=495, n_jobs=None,\n",
       "              num_parallel_tree=None, random_state=27, ...)"
      ]
     },
     "execution_count": 69,
     "metadata": {},
     "output_type": "execute_result"
    }
   ],
   "source": [
    "model.fit(X_train, y_train)"
   ]
  },
  {
   "cell_type": "code",
   "execution_count": null,
   "id": "HNK4M54WRu1L",
   "metadata": {
    "colab": {
     "base_uri": "https://localhost:8080/",
     "height": 599
    },
    "hidden": true,
    "id": "HNK4M54WRu1L",
    "outputId": "3137c1e5-4c36-407e-d891-31c2916c3c31"
   },
   "outputs": [
    {
     "data": {
      "image/png": "[encoded data removed]",
      "text/plain": [
       "<Figure size 1200x700 with 2 Axes>"
      ]
     },
     "metadata": {},
     "output_type": "display_data"
    }
   ],
   "source": [
    "matriz_confusao(model, X_test, y_test)"
   ]
  },
  {
   "cell_type": "markdown",
   "id": "gIg8ZoNsmSmc",
   "metadata": {
    "heading_collapsed": true,
    "id": "gIg8ZoNsmSmc"
   },
   "source": [
    "# 5. Análise de Negócio"
   ]
  },
  {
   "cell_type": "markdown",
   "id": "LNzhQF63R-p3",
   "metadata": {
    "hidden": true,
    "id": "LNzhQF63R-p3"
   },
   "source": [
    "Performance do nosso modelo:\n",
    "\n",
    "* Score Cross Validation: 98,33%%\n",
    "* Average Precision: 86,97%\n",
    "* Precision Score: 90,91%\n",
    "* Recall Score: 84,21%\n",
    "* F1 Score: 87,43%\n",
    "* ROC AUC Score: 92,10%\n",
    "<br>\n",
    "\n",
    "Vemos que todas as transações que realmente eram fraudulentas, nosso modelo conseguiu acertar 84,21% dos casos. <br>\n",
    "Além disso, de todas as transações que o modelo disse eram fraudulentas, ele acertou 90,91%.\n",
    "<br><br>\n",
    "<hr>\n",
    " <h2>Benefícios da Implantação do Modelo</h2>\n",
    "<hr>\n",
    "\n",
    "Agora, de forma simplicada, vamos analisar o impacto que resultaria, se o modelo tivesse sido aplicado. Para isso, precisamos analisar quatro tipos de situações, provenientes da aplicação do modelo:\n",
    "\n",
    "Sabe-se que, o modelo pode realizar uma previsão corretamente de duas maneiras. Mas, também pode errar de duas maneiras. Cada uma delas, implica em situações distintas para a empresa, como perdas, prevenção de perdas, posíveis ganhos e situação que ela deixou de ganhar.\n",
    "\n",
    "Agora, vamos analisar uma a uma:\n",
    "### Situação 01: Previsão correta de transação não fraudulenta\n",
    "- **Descrição**: O modelo prevê que a transação não é fraudulenta e realmente não é.\n",
    "- **Impacto**:\n",
    "  - **Benefício**: A empresa empresta seu capital corretamente, resultando em benefícios futuros através de taxas de juros e satisfação do cliente.\n",
    "  - **Conclusão**: Previsão correta que promove crescimento e confiança.\n",
    "\n",
    "### Situação 02: Previsão incorreta de transação fraudulenta\n",
    "- **Descrição**: O modelo prevê que a transação é fraudulenta, quando na verdade não é.\n",
    "- **Impacto**:\n",
    "  - **Perda de Oportunidade**: A empresa não cede crédito, perdendo potenciais receitas de juros e taxas.\n",
    "  - **Inconveniência ao Cliente**: Pode causar frustração e insatisfação ao cliente, impactando a experiência do cliente.\n",
    "  - **Conclusão**: Previsão incorreta que não resulta em perda direta, mas sim em perda de oportunidade e potencial insatisfação do cliente.\n",
    "\n",
    "### Situação 03: Previsão incorreta de transação não fraudulenta\n",
    "- **Descrição**: O modelo prevê que a transação é normal, quando na verdade é fraudulenta.\n",
    "- **Impacto**:\n",
    "  - **Perda Financeira**: A empresa arcará com os custos da fraude, reembolsando o cliente e podendo sofrer perdas significativas.\n",
    "  - **Riscos Legais e Reputacionais**: Possibilidade de ações judiciais e dano à credibilidade da instituição.\n",
    "  - **Conclusão**: Previsão incorreta que é crítica, resultando em perdas financeiras diretas e potenciais danos à reputação.\n",
    "\n",
    "### Situação 04: Previsão correta de transação fraudulenta\n",
    "- **Descrição**: O modelo prevê que a transação é fraudulenta, e realmente é.\n",
    "- **Impacto**:\n",
    "  - **Prevenção de Perdas**: A empresa evita perdas financeiras significativas ao bloquear a transação fraudulenta.\n",
    "  - **Proteção da Credibilidade**: Mantém a confiança dos clientes e a integridade da instituição.\n",
    "  - **Conclusão**: Previsão correta que protege a empresa de perdas e promove segurança e confiança.\n",
    "\n",
    "### Resumo\n",
    "- **Previsões Correta (Situações 01 e 04)**: Resultam em benefícios diretos e indiretos para a empresa, promovendo crescimento, confiança e segurança.\n",
    "- **Previsões Incorretas (Situações 02 e 03)**: Resultam em perda de oportunidades (Situação 02) ou perdas diretas e riscos reputacionais (Situação 03)."
   ]
  },
  {
   "cell_type": "code",
   "execution_count": null,
   "id": "y3LQy0u1U2w9",
   "metadata": {
    "hidden": true,
    "id": "y3LQy0u1U2w9"
   },
   "outputs": [],
   "source": [
    "X_test_df = X_test_copy.copy()"
   ]
  },
  {
   "cell_type": "code",
   "execution_count": null,
   "id": "YeI2VqpvBYsd",
   "metadata": {
    "hidden": true,
    "id": "YeI2VqpvBYsd"
   },
   "outputs": [],
   "source": [
    "y_pred_test = model.predict(X_test)\n",
    "X_test_df['y_pred'] = y_pred_test\n",
    "X_test_df['y_true'] = y_test"
   ]
  },
  {
   "cell_type": "code",
   "execution_count": null,
   "id": "rVCOjLOD_p3c",
   "metadata": {
    "hidden": true,
    "id": "rVCOjLOD_p3c"
   },
   "outputs": [],
   "source": [
    "# previsão do modelo = não fraudulenta   ;   classe real = fraudulenta\n",
    "# perdas de oportunidade\n",
    "situation_02 = X_test_df[(X_test_df['y_pred'] == 1) & (X_test_df['y_true'] == 0)]"
   ]
  },
  {
   "cell_type": "code",
   "execution_count": null,
   "id": "Xd5ajL2y_y9S",
   "metadata": {
    "colab": {
     "base_uri": "https://localhost:8080/"
    },
    "hidden": true,
    "id": "Xd5ajL2y_y9S",
    "outputId": "c390ec02-2f05-48f4-e874-4dc261f53f43"
   },
   "outputs": [
    {
     "name": "stdout",
     "output_type": "stream",
     "text": [
      "Ao rejeitar as transações normais, estariamos perdendo, cerca de R$31.98\n"
     ]
    }
   ],
   "source": [
    "# calcular valor que a empresa deixou de ganhar, assumindo que ela ganharia 10% sobre cada transação\n",
    "perdas_oportunidade = (situation_02['Amount'] * 0.10).sum()\n",
    "print(f'Ao rejeitar as transações normais, estariamos perdendo, cerca de R${perdas_oportunidade:,.2f}')"
   ]
  },
  {
   "cell_type": "code",
   "execution_count": null,
   "id": "ef_nfRI4mRro",
   "metadata": {
    "hidden": true,
    "id": "ef_nfRI4mRro"
   },
   "outputs": [],
   "source": [
    "# previsão do modelo = não fraudulenta   ;   classe real = fraudulenta\n",
    "# perdas direta\n",
    "situation_03 = X_test_df[(X_test_df['y_pred'] == 0) & (X_test_df['y_true'] == 1)]"
   ]
  },
  {
   "cell_type": "code",
   "execution_count": null,
   "id": "jsNZ7bpfR5va",
   "metadata": {
    "colab": {
     "base_uri": "https://localhost:8080/"
    },
    "hidden": true,
    "id": "jsNZ7bpfR5va",
    "outputId": "bf050a77-5981-4832-eff1-fd8b640ac01b"
   },
   "outputs": [
    {
     "name": "stdout",
     "output_type": "stream",
     "text": [
      "Estamos perdendo, cerca de, R$3,535.56\n"
     ]
    }
   ],
   "source": [
    "# calcular valor total perdido\n",
    "valor_perdido = situation_03['Amount'].sum()\n",
    "\n",
    "print(f'Estamos perdendo, cerca de, R${valor_perdido:,.2f}')"
   ]
  },
  {
   "cell_type": "code",
   "execution_count": null,
   "id": "8QMdcCdqR54V",
   "metadata": {
    "hidden": true,
    "id": "8QMdcCdqR54V"
   },
   "outputs": [],
   "source": [
    "# previsão do modelo = fraudulenta   ;   classe real = fraudulenta\n",
    "# valor que evitou perder\n",
    "situation_04 = X_test_df[(X_test_df['y_pred'] == 1) & (X_test_df['y_true'] == 1)]"
   ]
  },
  {
   "cell_type": "code",
   "execution_count": null,
   "id": "K_kii04YAm9X",
   "metadata": {
    "colab": {
     "base_uri": "https://localhost:8080/"
    },
    "hidden": true,
    "id": "K_kii04YAm9X",
    "outputId": "d020427a-9f6a-44e0-f7ef-e5bd15a5ee41"
   },
   "outputs": [
    {
     "name": "stdout",
     "output_type": "stream",
     "text": [
      "Ao detectar transações fraudulentas, deixamos de perder, cerca de, R$11,447.74\n"
     ]
    }
   ],
   "source": [
    "# calcular valor total que evitou perder\n",
    "valor_prevenido = situation_04['Amount'].sum()\n",
    "print(f'Ao detectar transações fraudulentas, deixamos de perder, cerca de, R${valor_prevenido:,.2f}')"
   ]
  },
  {
   "cell_type": "markdown",
   "id": "2FYM1T4w9A_5",
   "metadata": {
    "heading_collapsed": true,
    "hidden": true,
    "id": "2FYM1T4w9A_5"
   },
   "source": [
    "## **Resultado**\n",
    "\n",
    "Como vimos, a empresa evitaria perder **R$11.447,74** com a detecção de transações frauduletas. <br>\n",
    "\n",
    "Porém, iríamos perder **R$3.535,56** com os erros do modelo. Além disso, deixamos de ganhar **R\\$31,98** com a recusão de crédito. <br>\n",
    "\n",
    "Sendo assim, teríamos um ganho de **R\\$7.880,20**.<br>\n",
    "\n",
    "Coisa boa, não acha? Evitaríamos perder um valor bem maior que o erro do nosso modelo. Sendo esse, mais um motivo a favor de sua utilização.\n",
    "\n",
    "Veja, essa análise foi simplicada. Na prática, poderia haver outros custos, como o custo computacional para rodar o modelo. Além disso, o valor ganho sobre cada transação, foi só uma hipótese minha adotada.\n",
    "\n",
    "\n"
   ]
  }
 ],
 "metadata": {
  "colab": {
   "collapsed_sections": [
    "da418c0e",
    "99126c81",
    "aefc09bd",
    "8fc2e3ef",
    "1e1cdcb6",
    "12a635ba",
    "a37acc23",
    "39573668",
    "4822ad3b",
    "dc296970",
    "15de4fc2",
    "6134dd4c",
    "pOdWXAY0pann",
    "Yodma0LagTSZ",
    "98XWXdm26zQQ",
    "pri41axogZyh",
    "H4jBqMM_mKgv",
    "gIg8ZoNsmSmc",
    "LNzhQF63R-p3",
    "dDwAj4sKn6f3",
    "9MMFUH2ocei1",
    "xGNOoNYppq02"
   ],
   "provenance": []
  },
  "kernelspec": {
   "display_name": "Python 3 (ipykernel)",
   "language": "python",
   "name": "python3"
  },
  "language_info": {
   "codemirror_mode": {
    "name": "ipython",
    "version": 3
   },
   "file_extension": ".py",
   "mimetype": "text/x-python",
   "name": "python",
   "nbconvert_exporter": "python",
   "pygments_lexer": "ipython3",
   "version": "3.10.9"
  }
 },
 "nbformat": 4,
 "nbformat_minor": 5
}
